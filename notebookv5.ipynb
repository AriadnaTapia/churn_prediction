{
 "cells": [
  {
   "cell_type": "markdown",
   "metadata": {},
   "source": [
    "# Modelo de Predicción de Tasa de Cancelación de Cliente para Interconnect"
   ]
  },
  {
   "cell_type": "markdown",
   "metadata": {},
   "source": [
    "# Introducción\n",
    "\n",
    "Interconnect, un operador de telecomunicaciones, busca pronosticar la tasa de cancelación de clientes con el fin de implementar estrategias de retención basadas en promociones y planes especiales.\n",
    "\n",
    "Se requiere desarrollar un modelo predictivo que, utilizando el comportamiento de clientes anteriores, permita identificar a aquellos que podrían decidir terminar su contrato con la compañía. Este es un caso de clasificación binaria.\n",
    "\n",
    "El objetivo principal es predecir si un cliente cancelará su contrato, seleccionando el modelo con mejor rendimiento. La evaluación se realizará principalmente mediante la métrica AUC-ROC, complementada por la exactitud, para determinar qué tan preciso es el modelo.\n"
   ]
  },
  {
   "cell_type": "markdown",
   "metadata": {},
   "source": [
    "### Inicialización\n",
    "\n",
    "Para iniciar el desarrollo del análisis, comenzaremos importando las librerías que utilizaremos en la preparación de datos y la construcción del modelo.\n",
    "\n",
    "Las principales librerías que se utilizarán son:\n",
    "\n",
    "- **pandas**: permite la lectura y manipulación de datos en forma de tablas (DataFrames).\n",
    "- **NumPy**: facilita operaciones numéricas y manejo de arreglos multidimensionales.\n",
    "- **Seaborn**: se utilizará para visualizar y explorar patrones en los datos.\n",
    "- **scikit-learn**: proporciona herramientas para crear y evaluar modelos de machine learning."
   ]
  },
  {
   "cell_type": "code",
   "execution_count": 1,
   "metadata": {},
   "outputs": [],
   "source": [
    "import warnings\n",
    "# Suppress all FutureWarnings\n",
    "warnings.simplefilter(action='ignore', category=FutureWarning)\n",
    "import pandas as pd\n",
    "import numpy as np\n",
    "import matplotlib.pyplot as plt\n",
    "import seaborn as sns\n",
    "\n",
    "from sklearn.metrics import accuracy_score, f1_score, roc_auc_score\n",
    "from sklearn.tree import DecisionTreeClassifier\n",
    "from sklearn.linear_model import LogisticRegression\n",
    "from sklearn.ensemble import RandomForestClassifier\n",
    "from sklearn.model_selection import train_test_split\n",
    "from sklearn.metrics import make_scorer\n",
    "from sklearn.model_selection import cross_val_score\n",
    "from sklearn.datasets import make_regression\n",
    "from sklearn.preprocessing import StandardScaler\n",
    "from catboost import CatBoostClassifier\n",
    "from lightgbm import LGBMClassifier"
   ]
  },
  {
   "cell_type": "markdown",
   "metadata": {},
   "source": [
    "## Carga de archivos\n",
    "\n",
    "Procedemos con la carga de las bases de datos que nos proporcionan información de diferentes fuentes. A continuación se describen los archivos disponibles:\n",
    "\n",
    "- `contract.csv`: información del contrato.\n",
    "- `personal.csv`: datos personales del cliente.\n",
    "- `internet.csv`: información sobre los servicios de Internet.\n",
    "- `phone.csv`: información sobre los servicios telefónicos.\n",
    "\n",
    "Para la carga de los datos, se utilizará la función `read_csv` de la librería pandas, indicando como argumento la ubicación de cada archivo.\n",
    "\n",
    "Guardaremos los datos en variables con los siguientes nombres:\n",
    "- `df_contract`\n",
    "- `df_personal`\n",
    "- `df_internet`\n",
    "- `df_phone`"
   ]
  },
  {
   "cell_type": "code",
   "execution_count": 2,
   "metadata": {},
   "outputs": [],
   "source": [
    "df_contract = pd.read_csv('/datasets/final_provider/contract.csv')\n",
    "df_personal = pd.read_csv('/datasets/final_provider/personal.csv')\n",
    "df_internet = pd.read_csv('/datasets/final_provider/internet.csv')\n",
    "df_phone = pd.read_csv('/datasets/final_provider/phone.csv')"
   ]
  },
  {
   "cell_type": "markdown",
   "metadata": {},
   "source": [
    "# Exploración inicial de los datos\n",
    "\n",
    "Ahora que hemos cargado los datasets, es importante validar la información que contienen.\n",
    "\n",
    "Examinaremos cada uno de ellos utilizando los siguientes métodos de pandas:\n",
    "- `head`: para visualizar las primeras filas y tener una idea general de los datos.\n",
    "- `shape`: para conocer la cantidad de filas y columnas.\n",
    "- `info()`: para revisar los tipos de datos y la presencia de valores nulos.\n",
    "- `describe()`: para obtener estadísticas básicas de las variables numéricas.\n",
    "\n",
    "Este análisis preliminar nos permitirá identificar si es necesario realizar correcciones, limpieza o un tratamiento adicional de los datos antes de continuar con el preprocesamiento.\n",
    "Una vez que todos los datasets estén limpios y preparados, se integrarán en un único dataset maestro que consolide la información de cada cliente."
   ]
  },
  {
   "cell_type": "markdown",
   "metadata": {},
   "source": [
    "### Exploración estructural y corrección de datos para el dataset de contratos."
   ]
  },
  {
   "cell_type": "code",
   "execution_count": 3,
   "metadata": {},
   "outputs": [
    {
     "data": {
      "text/html": [
       "<div>\n",
       "<style scoped>\n",
       "    .dataframe tbody tr th:only-of-type {\n",
       "        vertical-align: middle;\n",
       "    }\n",
       "\n",
       "    .dataframe tbody tr th {\n",
       "        vertical-align: top;\n",
       "    }\n",
       "\n",
       "    .dataframe thead th {\n",
       "        text-align: right;\n",
       "    }\n",
       "</style>\n",
       "<table border=\"1\" class=\"dataframe\">\n",
       "  <thead>\n",
       "    <tr style=\"text-align: right;\">\n",
       "      <th></th>\n",
       "      <th>customerID</th>\n",
       "      <th>BeginDate</th>\n",
       "      <th>EndDate</th>\n",
       "      <th>Type</th>\n",
       "      <th>PaperlessBilling</th>\n",
       "      <th>PaymentMethod</th>\n",
       "      <th>MonthlyCharges</th>\n",
       "      <th>TotalCharges</th>\n",
       "    </tr>\n",
       "  </thead>\n",
       "  <tbody>\n",
       "    <tr>\n",
       "      <th>0</th>\n",
       "      <td>7590-VHVEG</td>\n",
       "      <td>2020-01-01</td>\n",
       "      <td>No</td>\n",
       "      <td>Month-to-month</td>\n",
       "      <td>Yes</td>\n",
       "      <td>Electronic check</td>\n",
       "      <td>29.85</td>\n",
       "      <td>29.85</td>\n",
       "    </tr>\n",
       "    <tr>\n",
       "      <th>1</th>\n",
       "      <td>5575-GNVDE</td>\n",
       "      <td>2017-04-01</td>\n",
       "      <td>No</td>\n",
       "      <td>One year</td>\n",
       "      <td>No</td>\n",
       "      <td>Mailed check</td>\n",
       "      <td>56.95</td>\n",
       "      <td>1889.5</td>\n",
       "    </tr>\n",
       "    <tr>\n",
       "      <th>2</th>\n",
       "      <td>3668-QPYBK</td>\n",
       "      <td>2019-10-01</td>\n",
       "      <td>2019-12-01 00:00:00</td>\n",
       "      <td>Month-to-month</td>\n",
       "      <td>Yes</td>\n",
       "      <td>Mailed check</td>\n",
       "      <td>53.85</td>\n",
       "      <td>108.15</td>\n",
       "    </tr>\n",
       "    <tr>\n",
       "      <th>3</th>\n",
       "      <td>7795-CFOCW</td>\n",
       "      <td>2016-05-01</td>\n",
       "      <td>No</td>\n",
       "      <td>One year</td>\n",
       "      <td>No</td>\n",
       "      <td>Bank transfer (automatic)</td>\n",
       "      <td>42.30</td>\n",
       "      <td>1840.75</td>\n",
       "    </tr>\n",
       "    <tr>\n",
       "      <th>4</th>\n",
       "      <td>9237-HQITU</td>\n",
       "      <td>2019-09-01</td>\n",
       "      <td>2019-11-01 00:00:00</td>\n",
       "      <td>Month-to-month</td>\n",
       "      <td>Yes</td>\n",
       "      <td>Electronic check</td>\n",
       "      <td>70.70</td>\n",
       "      <td>151.65</td>\n",
       "    </tr>\n",
       "  </tbody>\n",
       "</table>\n",
       "</div>"
      ],
      "text/plain": [
       "   customerID   BeginDate              EndDate            Type  \\\n",
       "0  7590-VHVEG  2020-01-01                   No  Month-to-month   \n",
       "1  5575-GNVDE  2017-04-01                   No        One year   \n",
       "2  3668-QPYBK  2019-10-01  2019-12-01 00:00:00  Month-to-month   \n",
       "3  7795-CFOCW  2016-05-01                   No        One year   \n",
       "4  9237-HQITU  2019-09-01  2019-11-01 00:00:00  Month-to-month   \n",
       "\n",
       "  PaperlessBilling              PaymentMethod  MonthlyCharges TotalCharges  \n",
       "0              Yes           Electronic check           29.85        29.85  \n",
       "1               No               Mailed check           56.95       1889.5  \n",
       "2              Yes               Mailed check           53.85       108.15  \n",
       "3               No  Bank transfer (automatic)           42.30      1840.75  \n",
       "4              Yes           Electronic check           70.70       151.65  "
      ]
     },
     "execution_count": 3,
     "metadata": {},
     "output_type": "execute_result"
    }
   ],
   "source": [
    "df_contract.head()"
   ]
  },
  {
   "cell_type": "code",
   "execution_count": 4,
   "metadata": {},
   "outputs": [
    {
     "name": "stdout",
     "output_type": "stream",
     "text": [
      "<class 'pandas.core.frame.DataFrame'>\n",
      "RangeIndex: 7043 entries, 0 to 7042\n",
      "Data columns (total 8 columns):\n",
      " #   Column            Non-Null Count  Dtype  \n",
      "---  ------            --------------  -----  \n",
      " 0   customerID        7043 non-null   object \n",
      " 1   BeginDate         7043 non-null   object \n",
      " 2   EndDate           7043 non-null   object \n",
      " 3   Type              7043 non-null   object \n",
      " 4   PaperlessBilling  7043 non-null   object \n",
      " 5   PaymentMethod     7043 non-null   object \n",
      " 6   MonthlyCharges    7043 non-null   float64\n",
      " 7   TotalCharges      7043 non-null   object \n",
      "dtypes: float64(1), object(7)\n",
      "memory usage: 440.3+ KB\n"
     ]
    }
   ],
   "source": [
    "df_contract.info()"
   ]
  },
  {
   "cell_type": "code",
   "execution_count": 5,
   "metadata": {},
   "outputs": [
    {
     "data": {
      "text/html": [
       "<div>\n",
       "<style scoped>\n",
       "    .dataframe tbody tr th:only-of-type {\n",
       "        vertical-align: middle;\n",
       "    }\n",
       "\n",
       "    .dataframe tbody tr th {\n",
       "        vertical-align: top;\n",
       "    }\n",
       "\n",
       "    .dataframe thead th {\n",
       "        text-align: right;\n",
       "    }\n",
       "</style>\n",
       "<table border=\"1\" class=\"dataframe\">\n",
       "  <thead>\n",
       "    <tr style=\"text-align: right;\">\n",
       "      <th></th>\n",
       "      <th>MonthlyCharges</th>\n",
       "    </tr>\n",
       "  </thead>\n",
       "  <tbody>\n",
       "    <tr>\n",
       "      <th>count</th>\n",
       "      <td>7043.000000</td>\n",
       "    </tr>\n",
       "    <tr>\n",
       "      <th>mean</th>\n",
       "      <td>64.761692</td>\n",
       "    </tr>\n",
       "    <tr>\n",
       "      <th>std</th>\n",
       "      <td>30.090047</td>\n",
       "    </tr>\n",
       "    <tr>\n",
       "      <th>min</th>\n",
       "      <td>18.250000</td>\n",
       "    </tr>\n",
       "    <tr>\n",
       "      <th>25%</th>\n",
       "      <td>35.500000</td>\n",
       "    </tr>\n",
       "    <tr>\n",
       "      <th>50%</th>\n",
       "      <td>70.350000</td>\n",
       "    </tr>\n",
       "    <tr>\n",
       "      <th>75%</th>\n",
       "      <td>89.850000</td>\n",
       "    </tr>\n",
       "    <tr>\n",
       "      <th>max</th>\n",
       "      <td>118.750000</td>\n",
       "    </tr>\n",
       "  </tbody>\n",
       "</table>\n",
       "</div>"
      ],
      "text/plain": [
       "       MonthlyCharges\n",
       "count     7043.000000\n",
       "mean        64.761692\n",
       "std         30.090047\n",
       "min         18.250000\n",
       "25%         35.500000\n",
       "50%         70.350000\n",
       "75%         89.850000\n",
       "max        118.750000"
      ]
     },
     "execution_count": 5,
     "metadata": {},
     "output_type": "execute_result"
    }
   ],
   "source": [
    "df_contract.describe()"
   ]
  },
  {
   "cell_type": "code",
   "execution_count": 6,
   "metadata": {},
   "outputs": [
    {
     "data": {
      "text/plain": [
       "(7043, 8)"
      ]
     },
     "execution_count": 6,
     "metadata": {},
     "output_type": "execute_result"
    }
   ],
   "source": [
    "df_contract.shape"
   ]
  },
  {
   "cell_type": "markdown",
   "metadata": {},
   "source": [
    "#### Transformación y corrección de datos\n",
    "\n",
    "Después de revisar la estructura de los datos con los métodos `shape`, `info()`, `head()` y `describe()`, se realizarán los siguientes pasos:\n",
    "\n",
    "- Cambiar los nombres de las columnas a minúsculas para estandarizar, se creara la función column_snake_case.\n",
    "- Corregir los tipos de datos en las columnas:\n",
    "  - Columnas de fechas (`begindate` y `enddate`) al formato datetime.\n",
    "  - Columna `totalcharges` a tipo numérico (float).\n",
    "- Validar si existen valores nulos (`NA`) en las columnas.\n",
    "- Verificar la presencia de registros duplicados.\n",
    "\n",
    "**Observaciones preliminares:**\n",
    "- El dataset contiene 8 columnas y 7043 registros.\n",
    "- Según `info()`, no se observaron valores ausentes de forma evidente, pero se realizará una validación adicional para confirmar.\n",
    "- Los valores numéricos presentan rangos coherentes en `monthlycharges`, aunque se debe revisar `totalcharges` por posibles inconsistencias en su formato."
   ]
  },
  {
   "cell_type": "code",
   "execution_count": 7,
   "metadata": {},
   "outputs": [
    {
     "name": "stdout",
     "output_type": "stream",
     "text": [
      "Index(['customer_id', 'begin_date', 'end_date', 'type', 'paperless_billing',\n",
      "       'payment_method', 'monthly_charges', 'total_charges'],\n",
      "      dtype='object')\n"
     ]
    }
   ],
   "source": [
    "#Creación de función y conversión de nombres de columnas a minisculas.\n",
    "\n",
    "def column_snake_case(df):\n",
    "    df.columns = (\n",
    "        df.columns\n",
    "        .str.replace(r'([a-z])([A-Z])', r'\\1_\\2', regex=True)\n",
    "        .str.lower()\n",
    "    )\n",
    "    return df\n",
    "\n",
    "column_snake_case(df_contract)\n",
    "print(df_contract.columns)"
   ]
  },
  {
   "cell_type": "code",
   "execution_count": 8,
   "metadata": {},
   "outputs": [
    {
     "name": "stdout",
     "output_type": "stream",
     "text": [
      "<class 'pandas.core.frame.DataFrame'>\n",
      "RangeIndex: 7043 entries, 0 to 7042\n",
      "Data columns (total 2 columns):\n",
      " #   Column      Non-Null Count  Dtype         \n",
      "---  ------      --------------  -----         \n",
      " 0   begin_date  7043 non-null   datetime64[ns]\n",
      " 1   end_date    1869 non-null   datetime64[ns]\n",
      "dtypes: datetime64[ns](2)\n",
      "memory usage: 110.2 KB\n"
     ]
    }
   ],
   "source": [
    "#Conversión de datatype de la columna 'begin_date' y 'end_date'\n",
    "dates_col_contract = ['begin_date', 'end_date']\n",
    "for columna in dates_col_contract:\n",
    "    df_contract[columna] = pd.to_datetime(df_contract[columna], errors='coerce')\n",
    "\n",
    "df_contract[['begin_date', 'end_date']].info()"
   ]
  },
  {
   "cell_type": "code",
   "execution_count": 9,
   "metadata": {},
   "outputs": [
    {
     "name": "stdout",
     "output_type": "stream",
     "text": [
      "<class 'pandas.core.frame.DataFrame'>\n",
      "RangeIndex: 7043 entries, 0 to 7042\n",
      "Data columns (total 1 columns):\n",
      " #   Column         Non-Null Count  Dtype  \n",
      "---  ------         --------------  -----  \n",
      " 0   total_charges  7032 non-null   float64\n",
      "dtypes: float64(1)\n",
      "memory usage: 55.1 KB\n"
     ]
    }
   ],
   "source": [
    "#Coversión de 'total_charges' a tipo númerico.\n",
    "df_contract['total_charges'] = pd.to_numeric(df_contract['total_charges'], errors='coerce')\n",
    "df_contract[['total_charges']].info()"
   ]
  },
  {
   "cell_type": "code",
   "execution_count": 10,
   "metadata": {},
   "outputs": [
    {
     "name": "stdout",
     "output_type": "stream",
     "text": [
      "customer_id             0\n",
      "begin_date              0\n",
      "end_date             5174\n",
      "type                    0\n",
      "paperless_billing       0\n",
      "payment_method          0\n",
      "monthly_charges         0\n",
      "total_charges          11\n",
      "dtype: int64\n"
     ]
    }
   ],
   "source": [
    "#Validación de datos nulos (NA)\n",
    "print(df_contract.isnull().sum())"
   ]
  },
  {
   "cell_type": "markdown",
   "metadata": {},
   "source": [
    "Observamos que existen 5174 valores nulos, sin embargo, son clientes activos. Más adelante esta columna se convertira en una columna binaria para identificar activos y bajas."
   ]
  },
  {
   "cell_type": "code",
   "execution_count": 11,
   "metadata": {},
   "outputs": [
    {
     "data": {
      "text/html": [
       "<div>\n",
       "<style scoped>\n",
       "    .dataframe tbody tr th:only-of-type {\n",
       "        vertical-align: middle;\n",
       "    }\n",
       "\n",
       "    .dataframe tbody tr th {\n",
       "        vertical-align: top;\n",
       "    }\n",
       "\n",
       "    .dataframe thead th {\n",
       "        text-align: right;\n",
       "    }\n",
       "</style>\n",
       "<table border=\"1\" class=\"dataframe\">\n",
       "  <thead>\n",
       "    <tr style=\"text-align: right;\">\n",
       "      <th></th>\n",
       "      <th>customer_id</th>\n",
       "      <th>begin_date</th>\n",
       "      <th>end_date</th>\n",
       "      <th>type</th>\n",
       "      <th>paperless_billing</th>\n",
       "      <th>payment_method</th>\n",
       "      <th>monthly_charges</th>\n",
       "      <th>total_charges</th>\n",
       "    </tr>\n",
       "  </thead>\n",
       "  <tbody>\n",
       "    <tr>\n",
       "      <th>488</th>\n",
       "      <td>4472-LVYGI</td>\n",
       "      <td>2020-02-01</td>\n",
       "      <td>NaT</td>\n",
       "      <td>Two year</td>\n",
       "      <td>Yes</td>\n",
       "      <td>Bank transfer (automatic)</td>\n",
       "      <td>52.55</td>\n",
       "      <td>NaN</td>\n",
       "    </tr>\n",
       "    <tr>\n",
       "      <th>753</th>\n",
       "      <td>3115-CZMZD</td>\n",
       "      <td>2020-02-01</td>\n",
       "      <td>NaT</td>\n",
       "      <td>Two year</td>\n",
       "      <td>No</td>\n",
       "      <td>Mailed check</td>\n",
       "      <td>20.25</td>\n",
       "      <td>NaN</td>\n",
       "    </tr>\n",
       "    <tr>\n",
       "      <th>936</th>\n",
       "      <td>5709-LVOEQ</td>\n",
       "      <td>2020-02-01</td>\n",
       "      <td>NaT</td>\n",
       "      <td>Two year</td>\n",
       "      <td>No</td>\n",
       "      <td>Mailed check</td>\n",
       "      <td>80.85</td>\n",
       "      <td>NaN</td>\n",
       "    </tr>\n",
       "    <tr>\n",
       "      <th>1082</th>\n",
       "      <td>4367-NUYAO</td>\n",
       "      <td>2020-02-01</td>\n",
       "      <td>NaT</td>\n",
       "      <td>Two year</td>\n",
       "      <td>No</td>\n",
       "      <td>Mailed check</td>\n",
       "      <td>25.75</td>\n",
       "      <td>NaN</td>\n",
       "    </tr>\n",
       "    <tr>\n",
       "      <th>1340</th>\n",
       "      <td>1371-DWPAZ</td>\n",
       "      <td>2020-02-01</td>\n",
       "      <td>NaT</td>\n",
       "      <td>Two year</td>\n",
       "      <td>No</td>\n",
       "      <td>Credit card (automatic)</td>\n",
       "      <td>56.05</td>\n",
       "      <td>NaN</td>\n",
       "    </tr>\n",
       "    <tr>\n",
       "      <th>3331</th>\n",
       "      <td>7644-OMVMY</td>\n",
       "      <td>2020-02-01</td>\n",
       "      <td>NaT</td>\n",
       "      <td>Two year</td>\n",
       "      <td>No</td>\n",
       "      <td>Mailed check</td>\n",
       "      <td>19.85</td>\n",
       "      <td>NaN</td>\n",
       "    </tr>\n",
       "    <tr>\n",
       "      <th>3826</th>\n",
       "      <td>3213-VVOLG</td>\n",
       "      <td>2020-02-01</td>\n",
       "      <td>NaT</td>\n",
       "      <td>Two year</td>\n",
       "      <td>No</td>\n",
       "      <td>Mailed check</td>\n",
       "      <td>25.35</td>\n",
       "      <td>NaN</td>\n",
       "    </tr>\n",
       "    <tr>\n",
       "      <th>4380</th>\n",
       "      <td>2520-SGTTA</td>\n",
       "      <td>2020-02-01</td>\n",
       "      <td>NaT</td>\n",
       "      <td>Two year</td>\n",
       "      <td>No</td>\n",
       "      <td>Mailed check</td>\n",
       "      <td>20.00</td>\n",
       "      <td>NaN</td>\n",
       "    </tr>\n",
       "    <tr>\n",
       "      <th>5218</th>\n",
       "      <td>2923-ARZLG</td>\n",
       "      <td>2020-02-01</td>\n",
       "      <td>NaT</td>\n",
       "      <td>One year</td>\n",
       "      <td>Yes</td>\n",
       "      <td>Mailed check</td>\n",
       "      <td>19.70</td>\n",
       "      <td>NaN</td>\n",
       "    </tr>\n",
       "    <tr>\n",
       "      <th>6670</th>\n",
       "      <td>4075-WKNIU</td>\n",
       "      <td>2020-02-01</td>\n",
       "      <td>NaT</td>\n",
       "      <td>Two year</td>\n",
       "      <td>No</td>\n",
       "      <td>Mailed check</td>\n",
       "      <td>73.35</td>\n",
       "      <td>NaN</td>\n",
       "    </tr>\n",
       "    <tr>\n",
       "      <th>6754</th>\n",
       "      <td>2775-SEFEE</td>\n",
       "      <td>2020-02-01</td>\n",
       "      <td>NaT</td>\n",
       "      <td>Two year</td>\n",
       "      <td>Yes</td>\n",
       "      <td>Bank transfer (automatic)</td>\n",
       "      <td>61.90</td>\n",
       "      <td>NaN</td>\n",
       "    </tr>\n",
       "  </tbody>\n",
       "</table>\n",
       "</div>"
      ],
      "text/plain": [
       "     customer_id begin_date end_date      type paperless_billing  \\\n",
       "488   4472-LVYGI 2020-02-01      NaT  Two year               Yes   \n",
       "753   3115-CZMZD 2020-02-01      NaT  Two year                No   \n",
       "936   5709-LVOEQ 2020-02-01      NaT  Two year                No   \n",
       "1082  4367-NUYAO 2020-02-01      NaT  Two year                No   \n",
       "1340  1371-DWPAZ 2020-02-01      NaT  Two year                No   \n",
       "3331  7644-OMVMY 2020-02-01      NaT  Two year                No   \n",
       "3826  3213-VVOLG 2020-02-01      NaT  Two year                No   \n",
       "4380  2520-SGTTA 2020-02-01      NaT  Two year                No   \n",
       "5218  2923-ARZLG 2020-02-01      NaT  One year               Yes   \n",
       "6670  4075-WKNIU 2020-02-01      NaT  Two year                No   \n",
       "6754  2775-SEFEE 2020-02-01      NaT  Two year               Yes   \n",
       "\n",
       "                 payment_method  monthly_charges  total_charges  \n",
       "488   Bank transfer (automatic)            52.55            NaN  \n",
       "753                Mailed check            20.25            NaN  \n",
       "936                Mailed check            80.85            NaN  \n",
       "1082               Mailed check            25.75            NaN  \n",
       "1340    Credit card (automatic)            56.05            NaN  \n",
       "3331               Mailed check            19.85            NaN  \n",
       "3826               Mailed check            25.35            NaN  \n",
       "4380               Mailed check            20.00            NaN  \n",
       "5218               Mailed check            19.70            NaN  \n",
       "6670               Mailed check            73.35            NaN  \n",
       "6754  Bank transfer (automatic)            61.90            NaN  "
      ]
     },
     "execution_count": 11,
     "metadata": {},
     "output_type": "execute_result"
    }
   ],
   "source": [
    "# Vamos a analizar los valores nulos en 'total_charges' para decidir cómo imputarlos.\n",
    "df_contract[df_contract['total_charges'].isnull()]"
   ]
  },
  {
   "cell_type": "markdown",
   "metadata": {},
   "source": [
    "Podemos observar que los datos nulos en la columna `total_charges` corresponden a clientes que recién comenzaron su contrato con la compañía, por lo que aún no tienen un importe facturado. Por este motivo, se imputarán con 0."
   ]
  },
  {
   "cell_type": "code",
   "execution_count": 12,
   "metadata": {},
   "outputs": [
    {
     "data": {
      "text/plain": [
       "0"
      ]
     },
     "execution_count": 12,
     "metadata": {},
     "output_type": "execute_result"
    }
   ],
   "source": [
    "#Imputar valores NA con 0 en columna 'totalcharges'\n",
    "df_contract['total_charges'] = df_contract['total_charges'].fillna(0)\n",
    "df_contract['total_charges'].isnull().sum()"
   ]
  },
  {
   "cell_type": "code",
   "execution_count": 13,
   "metadata": {},
   "outputs": [
    {
     "data": {
      "text/plain": [
       "0"
      ]
     },
     "execution_count": 13,
     "metadata": {},
     "output_type": "execute_result"
    }
   ],
   "source": [
    "#Validación de duplicados\n",
    "df_contract.duplicated().sum()"
   ]
  },
  {
   "cell_type": "markdown",
   "metadata": {},
   "source": [
    "Ahora con los datos correctos analizaremos la información correcta con .describe()"
   ]
  },
  {
   "cell_type": "code",
   "execution_count": 14,
   "metadata": {},
   "outputs": [
    {
     "data": {
      "text/html": [
       "<div>\n",
       "<style scoped>\n",
       "    .dataframe tbody tr th:only-of-type {\n",
       "        vertical-align: middle;\n",
       "    }\n",
       "\n",
       "    .dataframe tbody tr th {\n",
       "        vertical-align: top;\n",
       "    }\n",
       "\n",
       "    .dataframe thead th {\n",
       "        text-align: right;\n",
       "    }\n",
       "</style>\n",
       "<table border=\"1\" class=\"dataframe\">\n",
       "  <thead>\n",
       "    <tr style=\"text-align: right;\">\n",
       "      <th></th>\n",
       "      <th>monthly_charges</th>\n",
       "      <th>total_charges</th>\n",
       "    </tr>\n",
       "  </thead>\n",
       "  <tbody>\n",
       "    <tr>\n",
       "      <th>count</th>\n",
       "      <td>7043.000000</td>\n",
       "      <td>7043.000000</td>\n",
       "    </tr>\n",
       "    <tr>\n",
       "      <th>mean</th>\n",
       "      <td>64.761692</td>\n",
       "      <td>2279.734304</td>\n",
       "    </tr>\n",
       "    <tr>\n",
       "      <th>std</th>\n",
       "      <td>30.090047</td>\n",
       "      <td>2266.794470</td>\n",
       "    </tr>\n",
       "    <tr>\n",
       "      <th>min</th>\n",
       "      <td>18.250000</td>\n",
       "      <td>0.000000</td>\n",
       "    </tr>\n",
       "    <tr>\n",
       "      <th>25%</th>\n",
       "      <td>35.500000</td>\n",
       "      <td>398.550000</td>\n",
       "    </tr>\n",
       "    <tr>\n",
       "      <th>50%</th>\n",
       "      <td>70.350000</td>\n",
       "      <td>1394.550000</td>\n",
       "    </tr>\n",
       "    <tr>\n",
       "      <th>75%</th>\n",
       "      <td>89.850000</td>\n",
       "      <td>3786.600000</td>\n",
       "    </tr>\n",
       "    <tr>\n",
       "      <th>max</th>\n",
       "      <td>118.750000</td>\n",
       "      <td>8684.800000</td>\n",
       "    </tr>\n",
       "  </tbody>\n",
       "</table>\n",
       "</div>"
      ],
      "text/plain": [
       "       monthly_charges  total_charges\n",
       "count      7043.000000    7043.000000\n",
       "mean         64.761692    2279.734304\n",
       "std          30.090047    2266.794470\n",
       "min          18.250000       0.000000\n",
       "25%          35.500000     398.550000\n",
       "50%          70.350000    1394.550000\n",
       "75%          89.850000    3786.600000\n",
       "max         118.750000    8684.800000"
      ]
     },
     "execution_count": 14,
     "metadata": {},
     "output_type": "execute_result"
    }
   ],
   "source": [
    "df_contract.describe()"
   ]
  },
  {
   "cell_type": "markdown",
   "metadata": {},
   "source": [
    "Hallazgos de la exploración del dataset de contratos\n",
    "\n",
    "Después de la limpieza y conversión de datos, se identificaron las siguientes características:\n",
    "\n",
    "- No existen valores nulos en `monthly_charges` y `total_charges`.\n",
    "- Se imputaron con 0 los registros recientes que no tenían cargos acumulados.\n",
    "- Los rangos de `monthly_charges` y `total_charges` son coherentes con la operación de la compañía.\n",
    "- La dispersión de `total_charges` es alta, lo que indica que hay clientes con distinta antigüedad y niveles de facturación.\n",
    "\n",
    "Los datos quedaron listos para integrarse posteriormente con los demás datasets."
   ]
  },
  {
   "cell_type": "markdown",
   "metadata": {},
   "source": [
    "### Exploración estructural para el dataset de personal."
   ]
  },
  {
   "cell_type": "code",
   "execution_count": 15,
   "metadata": {},
   "outputs": [
    {
     "data": {
      "text/html": [
       "<div>\n",
       "<style scoped>\n",
       "    .dataframe tbody tr th:only-of-type {\n",
       "        vertical-align: middle;\n",
       "    }\n",
       "\n",
       "    .dataframe tbody tr th {\n",
       "        vertical-align: top;\n",
       "    }\n",
       "\n",
       "    .dataframe thead th {\n",
       "        text-align: right;\n",
       "    }\n",
       "</style>\n",
       "<table border=\"1\" class=\"dataframe\">\n",
       "  <thead>\n",
       "    <tr style=\"text-align: right;\">\n",
       "      <th></th>\n",
       "      <th>customerID</th>\n",
       "      <th>gender</th>\n",
       "      <th>SeniorCitizen</th>\n",
       "      <th>Partner</th>\n",
       "      <th>Dependents</th>\n",
       "    </tr>\n",
       "  </thead>\n",
       "  <tbody>\n",
       "    <tr>\n",
       "      <th>0</th>\n",
       "      <td>7590-VHVEG</td>\n",
       "      <td>Female</td>\n",
       "      <td>0</td>\n",
       "      <td>Yes</td>\n",
       "      <td>No</td>\n",
       "    </tr>\n",
       "    <tr>\n",
       "      <th>1</th>\n",
       "      <td>5575-GNVDE</td>\n",
       "      <td>Male</td>\n",
       "      <td>0</td>\n",
       "      <td>No</td>\n",
       "      <td>No</td>\n",
       "    </tr>\n",
       "    <tr>\n",
       "      <th>2</th>\n",
       "      <td>3668-QPYBK</td>\n",
       "      <td>Male</td>\n",
       "      <td>0</td>\n",
       "      <td>No</td>\n",
       "      <td>No</td>\n",
       "    </tr>\n",
       "    <tr>\n",
       "      <th>3</th>\n",
       "      <td>7795-CFOCW</td>\n",
       "      <td>Male</td>\n",
       "      <td>0</td>\n",
       "      <td>No</td>\n",
       "      <td>No</td>\n",
       "    </tr>\n",
       "    <tr>\n",
       "      <th>4</th>\n",
       "      <td>9237-HQITU</td>\n",
       "      <td>Female</td>\n",
       "      <td>0</td>\n",
       "      <td>No</td>\n",
       "      <td>No</td>\n",
       "    </tr>\n",
       "  </tbody>\n",
       "</table>\n",
       "</div>"
      ],
      "text/plain": [
       "   customerID  gender  SeniorCitizen Partner Dependents\n",
       "0  7590-VHVEG  Female              0     Yes         No\n",
       "1  5575-GNVDE    Male              0      No         No\n",
       "2  3668-QPYBK    Male              0      No         No\n",
       "3  7795-CFOCW    Male              0      No         No\n",
       "4  9237-HQITU  Female              0      No         No"
      ]
     },
     "execution_count": 15,
     "metadata": {},
     "output_type": "execute_result"
    }
   ],
   "source": [
    "df_personal.head()"
   ]
  },
  {
   "cell_type": "code",
   "execution_count": 16,
   "metadata": {},
   "outputs": [
    {
     "data": {
      "text/plain": [
       "(7043, 5)"
      ]
     },
     "execution_count": 16,
     "metadata": {},
     "output_type": "execute_result"
    }
   ],
   "source": [
    "df_personal.shape"
   ]
  },
  {
   "cell_type": "code",
   "execution_count": 17,
   "metadata": {},
   "outputs": [
    {
     "name": "stdout",
     "output_type": "stream",
     "text": [
      "<class 'pandas.core.frame.DataFrame'>\n",
      "RangeIndex: 7043 entries, 0 to 7042\n",
      "Data columns (total 5 columns):\n",
      " #   Column         Non-Null Count  Dtype \n",
      "---  ------         --------------  ----- \n",
      " 0   customerID     7043 non-null   object\n",
      " 1   gender         7043 non-null   object\n",
      " 2   SeniorCitizen  7043 non-null   int64 \n",
      " 3   Partner        7043 non-null   object\n",
      " 4   Dependents     7043 non-null   object\n",
      "dtypes: int64(1), object(4)\n",
      "memory usage: 275.2+ KB\n"
     ]
    }
   ],
   "source": [
    "df_personal.info()"
   ]
  },
  {
   "cell_type": "code",
   "execution_count": 18,
   "metadata": {},
   "outputs": [
    {
     "data": {
      "text/html": [
       "<div>\n",
       "<style scoped>\n",
       "    .dataframe tbody tr th:only-of-type {\n",
       "        vertical-align: middle;\n",
       "    }\n",
       "\n",
       "    .dataframe tbody tr th {\n",
       "        vertical-align: top;\n",
       "    }\n",
       "\n",
       "    .dataframe thead th {\n",
       "        text-align: right;\n",
       "    }\n",
       "</style>\n",
       "<table border=\"1\" class=\"dataframe\">\n",
       "  <thead>\n",
       "    <tr style=\"text-align: right;\">\n",
       "      <th></th>\n",
       "      <th>SeniorCitizen</th>\n",
       "    </tr>\n",
       "  </thead>\n",
       "  <tbody>\n",
       "    <tr>\n",
       "      <th>count</th>\n",
       "      <td>7043.000000</td>\n",
       "    </tr>\n",
       "    <tr>\n",
       "      <th>mean</th>\n",
       "      <td>0.162147</td>\n",
       "    </tr>\n",
       "    <tr>\n",
       "      <th>std</th>\n",
       "      <td>0.368612</td>\n",
       "    </tr>\n",
       "    <tr>\n",
       "      <th>min</th>\n",
       "      <td>0.000000</td>\n",
       "    </tr>\n",
       "    <tr>\n",
       "      <th>25%</th>\n",
       "      <td>0.000000</td>\n",
       "    </tr>\n",
       "    <tr>\n",
       "      <th>50%</th>\n",
       "      <td>0.000000</td>\n",
       "    </tr>\n",
       "    <tr>\n",
       "      <th>75%</th>\n",
       "      <td>0.000000</td>\n",
       "    </tr>\n",
       "    <tr>\n",
       "      <th>max</th>\n",
       "      <td>1.000000</td>\n",
       "    </tr>\n",
       "  </tbody>\n",
       "</table>\n",
       "</div>"
      ],
      "text/plain": [
       "       SeniorCitizen\n",
       "count    7043.000000\n",
       "mean        0.162147\n",
       "std         0.368612\n",
       "min         0.000000\n",
       "25%         0.000000\n",
       "50%         0.000000\n",
       "75%         0.000000\n",
       "max         1.000000"
      ]
     },
     "execution_count": 18,
     "metadata": {},
     "output_type": "execute_result"
    }
   ],
   "source": [
    "df_personal.describe()"
   ]
  },
  {
   "cell_type": "markdown",
   "metadata": {},
   "source": [
    "#### Transformación y corrección de datos\n",
    "\n",
    "En este dataset no será necesario cambiar los tipos de datos, ya que todos se encuentran correctamente definidos.\n",
    "\n",
    "Se realizarán las siguientes acciones:\n",
    "- Estandarizar los nombres de las columnas a formato `snake_case`.\n",
    "- Verificar si existen valores ausentes o nulos en alguna columna y, en caso de encontrarlos, analizar la mejor forma de imputación.\n",
    "- Revisar si existen registros duplicados.\n"
   ]
  },
  {
   "cell_type": "code",
   "execution_count": 19,
   "metadata": {},
   "outputs": [
    {
     "name": "stdout",
     "output_type": "stream",
     "text": [
      "Index(['customer_id', 'gender', 'senior_citizen', 'partner', 'dependents'], dtype='object')\n"
     ]
    }
   ],
   "source": [
    "#Conversión de nombres de columnas a minisculas.\n",
    "column_snake_case(df_personal)\n",
    "print(df_personal.columns)"
   ]
  },
  {
   "cell_type": "code",
   "execution_count": 20,
   "metadata": {},
   "outputs": [
    {
     "name": "stdout",
     "output_type": "stream",
     "text": [
      "customer_id       0\n",
      "gender            0\n",
      "senior_citizen    0\n",
      "partner           0\n",
      "dependents        0\n",
      "dtype: int64\n"
     ]
    }
   ],
   "source": [
    "#Validación de datos nulos (NA)\n",
    "print(df_personal.isnull().sum())"
   ]
  },
  {
   "cell_type": "code",
   "execution_count": 21,
   "metadata": {},
   "outputs": [
    {
     "data": {
      "text/plain": [
       "0"
      ]
     },
     "execution_count": 21,
     "metadata": {},
     "output_type": "execute_result"
    }
   ],
   "source": [
    "#Validación de duplicados\n",
    "df_personal.duplicated().sum()"
   ]
  },
  {
   "cell_type": "markdown",
   "metadata": {},
   "source": [
    "Hallazgos de la exploración del dataset de datos personales\n",
    "\n",
    "Después de la exploración de datos, se identificaron las siguientes características:\n",
    "\n",
    "- El tipo de dato (`dtype`) de cada columna es correcto, por lo que no fue necesario realizar cambios.\n",
    "- No se encontraron valores ausentes ni nulos.\n",
    "- No hay registros duplicados.\n",
    "- La información obtenida con `describe()` es coherente: el dataset contiene 7043 registros, y en la columna `senior_citizen` el valor mínimo es 0 y el máximo es 1, lo que confirma que ya es una variable binaria.\n",
    "\n",
    "Este dataset está listo para integrarse al dataset maestro.\n"
   ]
  },
  {
   "cell_type": "markdown",
   "metadata": {},
   "source": [
    "### Exploración estructural para el dataset de internet."
   ]
  },
  {
   "cell_type": "code",
   "execution_count": 22,
   "metadata": {},
   "outputs": [
    {
     "data": {
      "text/html": [
       "<div>\n",
       "<style scoped>\n",
       "    .dataframe tbody tr th:only-of-type {\n",
       "        vertical-align: middle;\n",
       "    }\n",
       "\n",
       "    .dataframe tbody tr th {\n",
       "        vertical-align: top;\n",
       "    }\n",
       "\n",
       "    .dataframe thead th {\n",
       "        text-align: right;\n",
       "    }\n",
       "</style>\n",
       "<table border=\"1\" class=\"dataframe\">\n",
       "  <thead>\n",
       "    <tr style=\"text-align: right;\">\n",
       "      <th></th>\n",
       "      <th>customerID</th>\n",
       "      <th>InternetService</th>\n",
       "      <th>OnlineSecurity</th>\n",
       "      <th>OnlineBackup</th>\n",
       "      <th>DeviceProtection</th>\n",
       "      <th>TechSupport</th>\n",
       "      <th>StreamingTV</th>\n",
       "      <th>StreamingMovies</th>\n",
       "    </tr>\n",
       "  </thead>\n",
       "  <tbody>\n",
       "    <tr>\n",
       "      <th>0</th>\n",
       "      <td>7590-VHVEG</td>\n",
       "      <td>DSL</td>\n",
       "      <td>No</td>\n",
       "      <td>Yes</td>\n",
       "      <td>No</td>\n",
       "      <td>No</td>\n",
       "      <td>No</td>\n",
       "      <td>No</td>\n",
       "    </tr>\n",
       "    <tr>\n",
       "      <th>1</th>\n",
       "      <td>5575-GNVDE</td>\n",
       "      <td>DSL</td>\n",
       "      <td>Yes</td>\n",
       "      <td>No</td>\n",
       "      <td>Yes</td>\n",
       "      <td>No</td>\n",
       "      <td>No</td>\n",
       "      <td>No</td>\n",
       "    </tr>\n",
       "    <tr>\n",
       "      <th>2</th>\n",
       "      <td>3668-QPYBK</td>\n",
       "      <td>DSL</td>\n",
       "      <td>Yes</td>\n",
       "      <td>Yes</td>\n",
       "      <td>No</td>\n",
       "      <td>No</td>\n",
       "      <td>No</td>\n",
       "      <td>No</td>\n",
       "    </tr>\n",
       "    <tr>\n",
       "      <th>3</th>\n",
       "      <td>7795-CFOCW</td>\n",
       "      <td>DSL</td>\n",
       "      <td>Yes</td>\n",
       "      <td>No</td>\n",
       "      <td>Yes</td>\n",
       "      <td>Yes</td>\n",
       "      <td>No</td>\n",
       "      <td>No</td>\n",
       "    </tr>\n",
       "    <tr>\n",
       "      <th>4</th>\n",
       "      <td>9237-HQITU</td>\n",
       "      <td>Fiber optic</td>\n",
       "      <td>No</td>\n",
       "      <td>No</td>\n",
       "      <td>No</td>\n",
       "      <td>No</td>\n",
       "      <td>No</td>\n",
       "      <td>No</td>\n",
       "    </tr>\n",
       "  </tbody>\n",
       "</table>\n",
       "</div>"
      ],
      "text/plain": [
       "   customerID InternetService OnlineSecurity OnlineBackup DeviceProtection  \\\n",
       "0  7590-VHVEG             DSL             No          Yes               No   \n",
       "1  5575-GNVDE             DSL            Yes           No              Yes   \n",
       "2  3668-QPYBK             DSL            Yes          Yes               No   \n",
       "3  7795-CFOCW             DSL            Yes           No              Yes   \n",
       "4  9237-HQITU     Fiber optic             No           No               No   \n",
       "\n",
       "  TechSupport StreamingTV StreamingMovies  \n",
       "0          No          No              No  \n",
       "1          No          No              No  \n",
       "2          No          No              No  \n",
       "3         Yes          No              No  \n",
       "4          No          No              No  "
      ]
     },
     "execution_count": 22,
     "metadata": {},
     "output_type": "execute_result"
    }
   ],
   "source": [
    "df_internet.head()"
   ]
  },
  {
   "cell_type": "code",
   "execution_count": 23,
   "metadata": {},
   "outputs": [
    {
     "name": "stdout",
     "output_type": "stream",
     "text": [
      "<class 'pandas.core.frame.DataFrame'>\n",
      "RangeIndex: 5517 entries, 0 to 5516\n",
      "Data columns (total 8 columns):\n",
      " #   Column            Non-Null Count  Dtype \n",
      "---  ------            --------------  ----- \n",
      " 0   customerID        5517 non-null   object\n",
      " 1   InternetService   5517 non-null   object\n",
      " 2   OnlineSecurity    5517 non-null   object\n",
      " 3   OnlineBackup      5517 non-null   object\n",
      " 4   DeviceProtection  5517 non-null   object\n",
      " 5   TechSupport       5517 non-null   object\n",
      " 6   StreamingTV       5517 non-null   object\n",
      " 7   StreamingMovies   5517 non-null   object\n",
      "dtypes: object(8)\n",
      "memory usage: 344.9+ KB\n"
     ]
    }
   ],
   "source": [
    "df_internet.info()"
   ]
  },
  {
   "cell_type": "code",
   "execution_count": 24,
   "metadata": {},
   "outputs": [
    {
     "data": {
      "text/plain": [
       "(5517, 8)"
      ]
     },
     "execution_count": 24,
     "metadata": {},
     "output_type": "execute_result"
    }
   ],
   "source": [
    "df_internet.shape"
   ]
  },
  {
   "cell_type": "code",
   "execution_count": 25,
   "metadata": {},
   "outputs": [
    {
     "data": {
      "text/html": [
       "<div>\n",
       "<style scoped>\n",
       "    .dataframe tbody tr th:only-of-type {\n",
       "        vertical-align: middle;\n",
       "    }\n",
       "\n",
       "    .dataframe tbody tr th {\n",
       "        vertical-align: top;\n",
       "    }\n",
       "\n",
       "    .dataframe thead th {\n",
       "        text-align: right;\n",
       "    }\n",
       "</style>\n",
       "<table border=\"1\" class=\"dataframe\">\n",
       "  <thead>\n",
       "    <tr style=\"text-align: right;\">\n",
       "      <th></th>\n",
       "      <th>customerID</th>\n",
       "      <th>InternetService</th>\n",
       "      <th>OnlineSecurity</th>\n",
       "      <th>OnlineBackup</th>\n",
       "      <th>DeviceProtection</th>\n",
       "      <th>TechSupport</th>\n",
       "      <th>StreamingTV</th>\n",
       "      <th>StreamingMovies</th>\n",
       "    </tr>\n",
       "  </thead>\n",
       "  <tbody>\n",
       "    <tr>\n",
       "      <th>count</th>\n",
       "      <td>5517</td>\n",
       "      <td>5517</td>\n",
       "      <td>5517</td>\n",
       "      <td>5517</td>\n",
       "      <td>5517</td>\n",
       "      <td>5517</td>\n",
       "      <td>5517</td>\n",
       "      <td>5517</td>\n",
       "    </tr>\n",
       "    <tr>\n",
       "      <th>unique</th>\n",
       "      <td>5517</td>\n",
       "      <td>2</td>\n",
       "      <td>2</td>\n",
       "      <td>2</td>\n",
       "      <td>2</td>\n",
       "      <td>2</td>\n",
       "      <td>2</td>\n",
       "      <td>2</td>\n",
       "    </tr>\n",
       "    <tr>\n",
       "      <th>top</th>\n",
       "      <td>8606-CIQUL</td>\n",
       "      <td>Fiber optic</td>\n",
       "      <td>No</td>\n",
       "      <td>No</td>\n",
       "      <td>No</td>\n",
       "      <td>No</td>\n",
       "      <td>No</td>\n",
       "      <td>No</td>\n",
       "    </tr>\n",
       "    <tr>\n",
       "      <th>freq</th>\n",
       "      <td>1</td>\n",
       "      <td>3096</td>\n",
       "      <td>3498</td>\n",
       "      <td>3088</td>\n",
       "      <td>3095</td>\n",
       "      <td>3473</td>\n",
       "      <td>2810</td>\n",
       "      <td>2785</td>\n",
       "    </tr>\n",
       "  </tbody>\n",
       "</table>\n",
       "</div>"
      ],
      "text/plain": [
       "        customerID InternetService OnlineSecurity OnlineBackup  \\\n",
       "count         5517            5517           5517         5517   \n",
       "unique        5517               2              2            2   \n",
       "top     8606-CIQUL     Fiber optic             No           No   \n",
       "freq             1            3096           3498         3088   \n",
       "\n",
       "       DeviceProtection TechSupport StreamingTV StreamingMovies  \n",
       "count              5517        5517        5517            5517  \n",
       "unique                2           2           2               2  \n",
       "top                  No          No          No              No  \n",
       "freq               3095        3473        2810            2785  "
      ]
     },
     "execution_count": 25,
     "metadata": {},
     "output_type": "execute_result"
    }
   ],
   "source": [
    "df_internet.describe()"
   ]
  },
  {
   "cell_type": "markdown",
   "metadata": {},
   "source": [
    "#### Transformación y corrección de datos.\n",
    "Después de realizar la exploración inicial (`head()`, `info()`, `shape()` y `describe()`), se identificaron las siguientes características:\n",
    "\n",
    "- Todas las columnas tienen el tipo de dato `object`, lo que es adecuado ya que representan variables categóricas.\n",
    "- La mayoría de las columnas contienen valores \"Yes\" y \"No\", por lo que serán más fáciles de procesar con codificación one-hot en etapas posteriores.\n",
    "- El dataset contiene 5,517 registros, un número menor al de los otros datasets revisados previamente, por lo que será necesario considerar este detalle al momento de hacer la unión final.\n",
    "- La información obtenida con `describe()` muestra que las categorías son consistentes y no hay valores inesperados.\n",
    "\n",
    "A continuación, se realizarán estas acciones:\n",
    "\n",
    "- Estandarizar los nombres de las columnas a formato `snake_case`.\n",
    "- Verificar si existen valores nulos o ausentes y definir la estrategia de imputación si es necesario.\n",
    "- Revisar si hay registros duplicados.\n"
   ]
  },
  {
   "cell_type": "code",
   "execution_count": 26,
   "metadata": {},
   "outputs": [
    {
     "name": "stdout",
     "output_type": "stream",
     "text": [
      "Index(['customer_id', 'internet_service', 'online_security', 'online_backup',\n",
      "       'device_protection', 'tech_support', 'streaming_tv',\n",
      "       'streaming_movies'],\n",
      "      dtype='object')\n"
     ]
    }
   ],
   "source": [
    "#Conversión de nombres de columnas a minisculas.\n",
    "column_snake_case(df_internet)\n",
    "print(df_internet.columns)"
   ]
  },
  {
   "cell_type": "code",
   "execution_count": 27,
   "metadata": {},
   "outputs": [
    {
     "name": "stdout",
     "output_type": "stream",
     "text": [
      "customer_id          0\n",
      "internet_service     0\n",
      "online_security      0\n",
      "online_backup        0\n",
      "device_protection    0\n",
      "tech_support         0\n",
      "streaming_tv         0\n",
      "streaming_movies     0\n",
      "dtype: int64\n"
     ]
    }
   ],
   "source": [
    "#Validación de datos nulos (NA)\n",
    "print(df_internet.isnull().sum())"
   ]
  },
  {
   "cell_type": "code",
   "execution_count": 28,
   "metadata": {},
   "outputs": [
    {
     "data": {
      "text/plain": [
       "0"
      ]
     },
     "execution_count": 28,
     "metadata": {},
     "output_type": "execute_result"
    }
   ],
   "source": [
    "#Validación de duplicados\n",
    "df_internet.duplicated().sum()"
   ]
  },
  {
   "cell_type": "markdown",
   "metadata": {},
   "source": [
    "Hallazgos finales del dataset de servicios de Internet\n",
    "\n",
    "Después de la exploración y limpieza del dataset, se identificaron las siguientes características complementarias:\n",
    "\n",
    "- Todas las columnas tienen tipos de datos correctos y son variables categóricas.\n",
    "- No se encontraron valores nulos, ausentes ni registros duplicados.\n",
    "- Los nombres de las columnas fueron estandarizados al formato `snake_case`.\n",
    "\n",
    "**Nota importante:** Este dataset contiene menos registros (5,517) que los otros datasets revisados anteriormente. Esto se debe a que no todos los clientes cuentan con servicios de Internet. Será necesario tener en cuenta este detalle al momento de realizar la unión final de los datos."
   ]
  },
  {
   "cell_type": "markdown",
   "metadata": {},
   "source": [
    "### Exploración estructural para el dataset de phone."
   ]
  },
  {
   "cell_type": "code",
   "execution_count": 29,
   "metadata": {},
   "outputs": [
    {
     "data": {
      "text/html": [
       "<div>\n",
       "<style scoped>\n",
       "    .dataframe tbody tr th:only-of-type {\n",
       "        vertical-align: middle;\n",
       "    }\n",
       "\n",
       "    .dataframe tbody tr th {\n",
       "        vertical-align: top;\n",
       "    }\n",
       "\n",
       "    .dataframe thead th {\n",
       "        text-align: right;\n",
       "    }\n",
       "</style>\n",
       "<table border=\"1\" class=\"dataframe\">\n",
       "  <thead>\n",
       "    <tr style=\"text-align: right;\">\n",
       "      <th></th>\n",
       "      <th>customerID</th>\n",
       "      <th>MultipleLines</th>\n",
       "    </tr>\n",
       "  </thead>\n",
       "  <tbody>\n",
       "    <tr>\n",
       "      <th>0</th>\n",
       "      <td>5575-GNVDE</td>\n",
       "      <td>No</td>\n",
       "    </tr>\n",
       "    <tr>\n",
       "      <th>1</th>\n",
       "      <td>3668-QPYBK</td>\n",
       "      <td>No</td>\n",
       "    </tr>\n",
       "    <tr>\n",
       "      <th>2</th>\n",
       "      <td>9237-HQITU</td>\n",
       "      <td>No</td>\n",
       "    </tr>\n",
       "    <tr>\n",
       "      <th>3</th>\n",
       "      <td>9305-CDSKC</td>\n",
       "      <td>Yes</td>\n",
       "    </tr>\n",
       "    <tr>\n",
       "      <th>4</th>\n",
       "      <td>1452-KIOVK</td>\n",
       "      <td>Yes</td>\n",
       "    </tr>\n",
       "  </tbody>\n",
       "</table>\n",
       "</div>"
      ],
      "text/plain": [
       "   customerID MultipleLines\n",
       "0  5575-GNVDE            No\n",
       "1  3668-QPYBK            No\n",
       "2  9237-HQITU            No\n",
       "3  9305-CDSKC           Yes\n",
       "4  1452-KIOVK           Yes"
      ]
     },
     "execution_count": 29,
     "metadata": {},
     "output_type": "execute_result"
    }
   ],
   "source": [
    "df_phone.head()"
   ]
  },
  {
   "cell_type": "code",
   "execution_count": 30,
   "metadata": {},
   "outputs": [
    {
     "data": {
      "text/plain": [
       "(6361, 2)"
      ]
     },
     "execution_count": 30,
     "metadata": {},
     "output_type": "execute_result"
    }
   ],
   "source": [
    "df_phone.shape"
   ]
  },
  {
   "cell_type": "code",
   "execution_count": 31,
   "metadata": {},
   "outputs": [
    {
     "name": "stdout",
     "output_type": "stream",
     "text": [
      "<class 'pandas.core.frame.DataFrame'>\n",
      "RangeIndex: 6361 entries, 0 to 6360\n",
      "Data columns (total 2 columns):\n",
      " #   Column         Non-Null Count  Dtype \n",
      "---  ------         --------------  ----- \n",
      " 0   customerID     6361 non-null   object\n",
      " 1   MultipleLines  6361 non-null   object\n",
      "dtypes: object(2)\n",
      "memory usage: 99.5+ KB\n"
     ]
    }
   ],
   "source": [
    "df_phone.info()"
   ]
  },
  {
   "cell_type": "code",
   "execution_count": 32,
   "metadata": {},
   "outputs": [
    {
     "data": {
      "text/html": [
       "<div>\n",
       "<style scoped>\n",
       "    .dataframe tbody tr th:only-of-type {\n",
       "        vertical-align: middle;\n",
       "    }\n",
       "\n",
       "    .dataframe tbody tr th {\n",
       "        vertical-align: top;\n",
       "    }\n",
       "\n",
       "    .dataframe thead th {\n",
       "        text-align: right;\n",
       "    }\n",
       "</style>\n",
       "<table border=\"1\" class=\"dataframe\">\n",
       "  <thead>\n",
       "    <tr style=\"text-align: right;\">\n",
       "      <th></th>\n",
       "      <th>customerID</th>\n",
       "      <th>MultipleLines</th>\n",
       "    </tr>\n",
       "  </thead>\n",
       "  <tbody>\n",
       "    <tr>\n",
       "      <th>count</th>\n",
       "      <td>6361</td>\n",
       "      <td>6361</td>\n",
       "    </tr>\n",
       "    <tr>\n",
       "      <th>unique</th>\n",
       "      <td>6361</td>\n",
       "      <td>2</td>\n",
       "    </tr>\n",
       "    <tr>\n",
       "      <th>top</th>\n",
       "      <td>5394-MEITZ</td>\n",
       "      <td>No</td>\n",
       "    </tr>\n",
       "    <tr>\n",
       "      <th>freq</th>\n",
       "      <td>1</td>\n",
       "      <td>3390</td>\n",
       "    </tr>\n",
       "  </tbody>\n",
       "</table>\n",
       "</div>"
      ],
      "text/plain": [
       "        customerID MultipleLines\n",
       "count         6361          6361\n",
       "unique        6361             2\n",
       "top     5394-MEITZ            No\n",
       "freq             1          3390"
      ]
     },
     "execution_count": 32,
     "metadata": {},
     "output_type": "execute_result"
    }
   ],
   "source": [
    "df_phone.describe()"
   ]
  },
  {
   "cell_type": "markdown",
   "metadata": {},
   "source": [
    "#### Transformación y corrección de datos.\n",
    "\n",
    "Después de realizar la exploración inicial (`head()`, `info()`, `shape()` y `describe()`), se identificaron las siguientes características:\n",
    "\n",
    "- Las columnas tienen tipos de datos correctos y no es necesario realizar cambios en este aspecto.\n",
    "- El dataset contiene 6,361 registros, por lo que también tiene menos datos que los dos primeros datasets analizados.\n",
    "- La columna `multiple_lines` es categórica con valores \"Yes\" y \"No\".\n",
    "\n",
    "A continuación, se realizarán estas acciones:\n",
    "\n",
    "- Estandarizar los nombres de las columnas al formato `snake_case`.\n",
    "- Verificar si existen valores nulos o ausentes y definir la estrategia de imputación en caso necesario.\n",
    "- Revisar si hay registros duplicados.\n",
    "\n",
    "**Nota:** Será importante tener presente la diferencia en la cantidad de registros al momento de unir este dataset con los demás.\n"
   ]
  },
  {
   "cell_type": "code",
   "execution_count": 33,
   "metadata": {},
   "outputs": [
    {
     "name": "stdout",
     "output_type": "stream",
     "text": [
      "Index(['customer_id', 'multiple_lines'], dtype='object')\n"
     ]
    }
   ],
   "source": [
    "#Conversión de nombres de columnas a estructura snake_case.\n",
    "column_snake_case(df_phone)\n",
    "print(df_phone.columns)"
   ]
  },
  {
   "cell_type": "code",
   "execution_count": 34,
   "metadata": {},
   "outputs": [
    {
     "name": "stdout",
     "output_type": "stream",
     "text": [
      "customer_id       0\n",
      "multiple_lines    0\n",
      "dtype: int64\n"
     ]
    }
   ],
   "source": [
    "#Validación de datos nulos (NA)\n",
    "print(df_phone.isnull().sum())"
   ]
  },
  {
   "cell_type": "code",
   "execution_count": 35,
   "metadata": {},
   "outputs": [
    {
     "data": {
      "text/plain": [
       "0"
      ]
     },
     "execution_count": 35,
     "metadata": {},
     "output_type": "execute_result"
    }
   ],
   "source": [
    "#Validación de duplicados\n",
    "df_phone.duplicated().sum()"
   ]
  },
  {
   "cell_type": "markdown",
   "metadata": {},
   "source": [
    "Hallazgos finales del dataset de servicios telefónicos\n",
    "\n",
    "Después de la exploración y limpieza del dataset, se identificaron las siguientes características:\n",
    "\n",
    "- No se encontraron valores nulos, ausentes ni registros duplicados.\n",
    "- Los nombres de las columnas fueron estandarizados al formato `snake_case`.\n",
    "\n",
    "**Nota importante:** Este dataset contiene menos registros (6,361) que algunos de los otros datasets revisados. Esto se debe a que no todos los clientes cuentan con servicios telefónicos, por lo que será necesario considerar este detalle al realizar la unión final de los datos.\n"
   ]
  },
  {
   "cell_type": "markdown",
   "metadata": {},
   "source": [
    "# Unión de los datasets.\n",
    "\n",
    "En este paso integraremos los cuatro datasets en un único DataFrame que consolide toda la información disponible sobre los clientes.\n",
    "\n",
    "Para conservar todos los registros de clientes, se realizará una unión utilizando la tabla de contratos como base principal. Esto permite mantener a todos los clientes en el dataset final, incluso si algunos no cuentan con servicios de Internet o servicios telefónicos.\n",
    "\n",
    "La unión se hará sobre la columna `customer_id`, que actúa como identificador único en los cuatro datasets. El método de unión elegido será el de tipo `left`, de modo que se conserven todos los registros de la tabla principal (`contract`) y se añadan los datos de las otras tablas donde haya coincidencias.\n",
    "\n",
    "Después de la unión, se revisará si existen valores nulos resultantes y se definirá la estrategia para su imputación.\n"
   ]
  },
  {
   "cell_type": "code",
   "execution_count": 36,
   "metadata": {},
   "outputs": [],
   "source": [
    "df_master = df_contract.merge(df_personal, on=\"customer_id\", how=\"left\")\n",
    "df_master = df_master.merge(df_internet, on=\"customer_id\", how=\"left\")\n",
    "df_master = df_master.merge(df_phone, on=\"customer_id\", how=\"left\")"
   ]
  },
  {
   "cell_type": "code",
   "execution_count": 37,
   "metadata": {},
   "outputs": [
    {
     "data": {
      "text/html": [
       "<div>\n",
       "<style scoped>\n",
       "    .dataframe tbody tr th:only-of-type {\n",
       "        vertical-align: middle;\n",
       "    }\n",
       "\n",
       "    .dataframe tbody tr th {\n",
       "        vertical-align: top;\n",
       "    }\n",
       "\n",
       "    .dataframe thead th {\n",
       "        text-align: right;\n",
       "    }\n",
       "</style>\n",
       "<table border=\"1\" class=\"dataframe\">\n",
       "  <thead>\n",
       "    <tr style=\"text-align: right;\">\n",
       "      <th></th>\n",
       "      <th>customer_id</th>\n",
       "      <th>begin_date</th>\n",
       "      <th>end_date</th>\n",
       "      <th>type</th>\n",
       "      <th>paperless_billing</th>\n",
       "      <th>payment_method</th>\n",
       "      <th>monthly_charges</th>\n",
       "      <th>total_charges</th>\n",
       "      <th>gender</th>\n",
       "      <th>senior_citizen</th>\n",
       "      <th>partner</th>\n",
       "      <th>dependents</th>\n",
       "      <th>internet_service</th>\n",
       "      <th>online_security</th>\n",
       "      <th>online_backup</th>\n",
       "      <th>device_protection</th>\n",
       "      <th>tech_support</th>\n",
       "      <th>streaming_tv</th>\n",
       "      <th>streaming_movies</th>\n",
       "      <th>multiple_lines</th>\n",
       "    </tr>\n",
       "  </thead>\n",
       "  <tbody>\n",
       "    <tr>\n",
       "      <th>0</th>\n",
       "      <td>7590-VHVEG</td>\n",
       "      <td>2020-01-01</td>\n",
       "      <td>NaT</td>\n",
       "      <td>Month-to-month</td>\n",
       "      <td>Yes</td>\n",
       "      <td>Electronic check</td>\n",
       "      <td>29.85</td>\n",
       "      <td>29.85</td>\n",
       "      <td>Female</td>\n",
       "      <td>0</td>\n",
       "      <td>Yes</td>\n",
       "      <td>No</td>\n",
       "      <td>DSL</td>\n",
       "      <td>No</td>\n",
       "      <td>Yes</td>\n",
       "      <td>No</td>\n",
       "      <td>No</td>\n",
       "      <td>No</td>\n",
       "      <td>No</td>\n",
       "      <td>NaN</td>\n",
       "    </tr>\n",
       "    <tr>\n",
       "      <th>1</th>\n",
       "      <td>5575-GNVDE</td>\n",
       "      <td>2017-04-01</td>\n",
       "      <td>NaT</td>\n",
       "      <td>One year</td>\n",
       "      <td>No</td>\n",
       "      <td>Mailed check</td>\n",
       "      <td>56.95</td>\n",
       "      <td>1889.50</td>\n",
       "      <td>Male</td>\n",
       "      <td>0</td>\n",
       "      <td>No</td>\n",
       "      <td>No</td>\n",
       "      <td>DSL</td>\n",
       "      <td>Yes</td>\n",
       "      <td>No</td>\n",
       "      <td>Yes</td>\n",
       "      <td>No</td>\n",
       "      <td>No</td>\n",
       "      <td>No</td>\n",
       "      <td>No</td>\n",
       "    </tr>\n",
       "    <tr>\n",
       "      <th>2</th>\n",
       "      <td>3668-QPYBK</td>\n",
       "      <td>2019-10-01</td>\n",
       "      <td>2019-12-01</td>\n",
       "      <td>Month-to-month</td>\n",
       "      <td>Yes</td>\n",
       "      <td>Mailed check</td>\n",
       "      <td>53.85</td>\n",
       "      <td>108.15</td>\n",
       "      <td>Male</td>\n",
       "      <td>0</td>\n",
       "      <td>No</td>\n",
       "      <td>No</td>\n",
       "      <td>DSL</td>\n",
       "      <td>Yes</td>\n",
       "      <td>Yes</td>\n",
       "      <td>No</td>\n",
       "      <td>No</td>\n",
       "      <td>No</td>\n",
       "      <td>No</td>\n",
       "      <td>No</td>\n",
       "    </tr>\n",
       "    <tr>\n",
       "      <th>3</th>\n",
       "      <td>7795-CFOCW</td>\n",
       "      <td>2016-05-01</td>\n",
       "      <td>NaT</td>\n",
       "      <td>One year</td>\n",
       "      <td>No</td>\n",
       "      <td>Bank transfer (automatic)</td>\n",
       "      <td>42.30</td>\n",
       "      <td>1840.75</td>\n",
       "      <td>Male</td>\n",
       "      <td>0</td>\n",
       "      <td>No</td>\n",
       "      <td>No</td>\n",
       "      <td>DSL</td>\n",
       "      <td>Yes</td>\n",
       "      <td>No</td>\n",
       "      <td>Yes</td>\n",
       "      <td>Yes</td>\n",
       "      <td>No</td>\n",
       "      <td>No</td>\n",
       "      <td>NaN</td>\n",
       "    </tr>\n",
       "    <tr>\n",
       "      <th>4</th>\n",
       "      <td>9237-HQITU</td>\n",
       "      <td>2019-09-01</td>\n",
       "      <td>2019-11-01</td>\n",
       "      <td>Month-to-month</td>\n",
       "      <td>Yes</td>\n",
       "      <td>Electronic check</td>\n",
       "      <td>70.70</td>\n",
       "      <td>151.65</td>\n",
       "      <td>Female</td>\n",
       "      <td>0</td>\n",
       "      <td>No</td>\n",
       "      <td>No</td>\n",
       "      <td>Fiber optic</td>\n",
       "      <td>No</td>\n",
       "      <td>No</td>\n",
       "      <td>No</td>\n",
       "      <td>No</td>\n",
       "      <td>No</td>\n",
       "      <td>No</td>\n",
       "      <td>No</td>\n",
       "    </tr>\n",
       "  </tbody>\n",
       "</table>\n",
       "</div>"
      ],
      "text/plain": [
       "  customer_id begin_date   end_date            type paperless_billing  \\\n",
       "0  7590-VHVEG 2020-01-01        NaT  Month-to-month               Yes   \n",
       "1  5575-GNVDE 2017-04-01        NaT        One year                No   \n",
       "2  3668-QPYBK 2019-10-01 2019-12-01  Month-to-month               Yes   \n",
       "3  7795-CFOCW 2016-05-01        NaT        One year                No   \n",
       "4  9237-HQITU 2019-09-01 2019-11-01  Month-to-month               Yes   \n",
       "\n",
       "              payment_method  monthly_charges  total_charges  gender  \\\n",
       "0           Electronic check            29.85          29.85  Female   \n",
       "1               Mailed check            56.95        1889.50    Male   \n",
       "2               Mailed check            53.85         108.15    Male   \n",
       "3  Bank transfer (automatic)            42.30        1840.75    Male   \n",
       "4           Electronic check            70.70         151.65  Female   \n",
       "\n",
       "   senior_citizen partner dependents internet_service online_security  \\\n",
       "0               0     Yes         No              DSL              No   \n",
       "1               0      No         No              DSL             Yes   \n",
       "2               0      No         No              DSL             Yes   \n",
       "3               0      No         No              DSL             Yes   \n",
       "4               0      No         No      Fiber optic              No   \n",
       "\n",
       "  online_backup device_protection tech_support streaming_tv streaming_movies  \\\n",
       "0           Yes                No           No           No               No   \n",
       "1            No               Yes           No           No               No   \n",
       "2           Yes                No           No           No               No   \n",
       "3            No               Yes          Yes           No               No   \n",
       "4            No                No           No           No               No   \n",
       "\n",
       "  multiple_lines  \n",
       "0            NaN  \n",
       "1             No  \n",
       "2             No  \n",
       "3            NaN  \n",
       "4             No  "
      ]
     },
     "execution_count": 37,
     "metadata": {},
     "output_type": "execute_result"
    }
   ],
   "source": [
    "df_master.head()"
   ]
  },
  {
   "cell_type": "code",
   "execution_count": 38,
   "metadata": {},
   "outputs": [
    {
     "name": "stdout",
     "output_type": "stream",
     "text": [
      "<class 'pandas.core.frame.DataFrame'>\n",
      "Int64Index: 7043 entries, 0 to 7042\n",
      "Data columns (total 20 columns):\n",
      " #   Column             Non-Null Count  Dtype         \n",
      "---  ------             --------------  -----         \n",
      " 0   customer_id        7043 non-null   object        \n",
      " 1   begin_date         7043 non-null   datetime64[ns]\n",
      " 2   end_date           1869 non-null   datetime64[ns]\n",
      " 3   type               7043 non-null   object        \n",
      " 4   paperless_billing  7043 non-null   object        \n",
      " 5   payment_method     7043 non-null   object        \n",
      " 6   monthly_charges    7043 non-null   float64       \n",
      " 7   total_charges      7043 non-null   float64       \n",
      " 8   gender             7043 non-null   object        \n",
      " 9   senior_citizen     7043 non-null   int64         \n",
      " 10  partner            7043 non-null   object        \n",
      " 11  dependents         7043 non-null   object        \n",
      " 12  internet_service   5517 non-null   object        \n",
      " 13  online_security    5517 non-null   object        \n",
      " 14  online_backup      5517 non-null   object        \n",
      " 15  device_protection  5517 non-null   object        \n",
      " 16  tech_support       5517 non-null   object        \n",
      " 17  streaming_tv       5517 non-null   object        \n",
      " 18  streaming_movies   5517 non-null   object        \n",
      " 19  multiple_lines     6361 non-null   object        \n",
      "dtypes: datetime64[ns](2), float64(2), int64(1), object(15)\n",
      "memory usage: 1.1+ MB\n"
     ]
    }
   ],
   "source": [
    "df_master.info()"
   ]
  },
  {
   "cell_type": "code",
   "execution_count": 39,
   "metadata": {},
   "outputs": [
    {
     "name": "stdout",
     "output_type": "stream",
     "text": [
      "customer_id             0\n",
      "begin_date              0\n",
      "end_date             5174\n",
      "type                    0\n",
      "paperless_billing       0\n",
      "payment_method          0\n",
      "monthly_charges         0\n",
      "total_charges           0\n",
      "gender                  0\n",
      "senior_citizen          0\n",
      "partner                 0\n",
      "dependents              0\n",
      "internet_service     1526\n",
      "online_security      1526\n",
      "online_backup        1526\n",
      "device_protection    1526\n",
      "tech_support         1526\n",
      "streaming_tv         1526\n",
      "streaming_movies     1526\n",
      "multiple_lines        682\n",
      "dtype: int64\n"
     ]
    }
   ],
   "source": [
    "#Validación de datos nulos (NA)\n",
    "print(df_master.isnull().sum())"
   ]
  },
  {
   "cell_type": "markdown",
   "metadata": {},
   "source": [
    "#### Transformación y corrección de datos\n",
    "\n",
    "Después de unir los datasets, se identificaron valores nulos en las columnas relacionadas con los servicios de Internet y telefónicos. Estos valores corresponden a clientes que no tienen contratado alguno de estos servicios y, por lo tanto, no aparecen en los datasets originales de dichas categorías.\n",
    "\n",
    "La estrategia de imputación será la siguiente:\n",
    "\n",
    "- Para todas las columnas binarias relacionadas con los servicios de Internet y teléfono (por ejemplo, `online_security`, `online_backup`, `tech_support`, `multiple_lines`, etc.), se imputará el valor `\"No\"` indicando que el cliente no utiliza estos servicios.\n",
    "- Para la columna `internet_service`, que contiene el nombre del tipo de servicio contratado, se imputará el valor `\"Sin servicio\"` para diferenciar claramente los casos donde no hay servicio de Internet.\n",
    "\n",
    "De este modo, se estandarizarán los datos sin eliminar registros y se mantendrá la información coherente con la situación real de cada cliente."
   ]
  },
  {
   "cell_type": "code",
   "execution_count": 40,
   "metadata": {},
   "outputs": [],
   "source": [
    "#Creo una lista de las columnas sin servicio.\n",
    "no_service = [\n",
    "    \"online_security\",\n",
    "    \"online_backup\",\n",
    "    \"device_protection\",\n",
    "    \"tech_support\",\n",
    "    \"streaming_tv\",\n",
    "    \"streaming_movies\",\n",
    "    \"multiple_lines\"\n",
    "]"
   ]
  },
  {
   "cell_type": "code",
   "execution_count": 41,
   "metadata": {},
   "outputs": [],
   "source": [
    "#Creamos un bucle para imputar los valores ausentes con \"No\" para las columnas sin servicio que contienen datos de Si o No. \n",
    "for columna in no_service:\n",
    "    df_master[columna] = df_master[columna].fillna(\"No\")"
   ]
  },
  {
   "cell_type": "code",
   "execution_count": 42,
   "metadata": {},
   "outputs": [],
   "source": [
    "#Imputamos valores de la columna 'internet_service' con \"Sin servicio\"\n",
    "df_master['internet_service'].fillna('Sin Servicio', inplace=True)"
   ]
  },
  {
   "cell_type": "code",
   "execution_count": 43,
   "metadata": {},
   "outputs": [
    {
     "data": {
      "text/plain": [
       "customer_id             0\n",
       "begin_date              0\n",
       "end_date             5174\n",
       "type                    0\n",
       "paperless_billing       0\n",
       "payment_method          0\n",
       "monthly_charges         0\n",
       "total_charges           0\n",
       "gender                  0\n",
       "senior_citizen          0\n",
       "partner                 0\n",
       "dependents              0\n",
       "internet_service        0\n",
       "online_security         0\n",
       "online_backup           0\n",
       "device_protection       0\n",
       "tech_support            0\n",
       "streaming_tv            0\n",
       "streaming_movies        0\n",
       "multiple_lines          0\n",
       "dtype: int64"
      ]
     },
     "execution_count": 43,
     "metadata": {},
     "output_type": "execute_result"
    }
   ],
   "source": [
    "df_master.isnull().sum()"
   ]
  },
  {
   "cell_type": "code",
   "execution_count": 44,
   "metadata": {},
   "outputs": [
    {
     "name": "stdout",
     "output_type": "stream",
     "text": [
      "<class 'pandas.core.frame.DataFrame'>\n",
      "Int64Index: 7043 entries, 0 to 7042\n",
      "Data columns (total 20 columns):\n",
      " #   Column             Non-Null Count  Dtype         \n",
      "---  ------             --------------  -----         \n",
      " 0   customer_id        7043 non-null   object        \n",
      " 1   begin_date         7043 non-null   datetime64[ns]\n",
      " 2   end_date           1869 non-null   datetime64[ns]\n",
      " 3   type               7043 non-null   object        \n",
      " 4   paperless_billing  7043 non-null   object        \n",
      " 5   payment_method     7043 non-null   object        \n",
      " 6   monthly_charges    7043 non-null   float64       \n",
      " 7   total_charges      7043 non-null   float64       \n",
      " 8   gender             7043 non-null   object        \n",
      " 9   senior_citizen     7043 non-null   int64         \n",
      " 10  partner            7043 non-null   object        \n",
      " 11  dependents         7043 non-null   object        \n",
      " 12  internet_service   7043 non-null   object        \n",
      " 13  online_security    7043 non-null   object        \n",
      " 14  online_backup      7043 non-null   object        \n",
      " 15  device_protection  7043 non-null   object        \n",
      " 16  tech_support       7043 non-null   object        \n",
      " 17  streaming_tv       7043 non-null   object        \n",
      " 18  streaming_movies   7043 non-null   object        \n",
      " 19  multiple_lines     7043 non-null   object        \n",
      "dtypes: datetime64[ns](2), float64(2), int64(1), object(15)\n",
      "memory usage: 1.1+ MB\n"
     ]
    }
   ],
   "source": [
    "df_master.info()"
   ]
  },
  {
   "cell_type": "markdown",
   "metadata": {},
   "source": [
    "## Distribución de cancelaciones a lo largo del tiempo\n",
    "\n",
    "Antes de transformar la columna `end_date`, se realizará una visualización para explorar la distribución temporal de las cancelaciones de contrato.\n",
    "\n",
    "El objetivo de esta gráfica es identificar posibles patrones en las fechas en las que los clientes han cancelado sus servicios, como concentraciones inusuales en determinados días o periodos. Este análisis puede aportar información valiosa sobre el comportamiento de cancelación, la estacionalidad o incluso eventos específicos que hayan influido en la pérdida de clientes.\n",
    "\n",
    "Solo se tomarán en cuenta las fechas válidas, excluyendo los valores nulos (`NaT`), ya que estos corresponden a clientes que aún siguen activos.\n"
   ]
  },
  {
   "cell_type": "code",
   "execution_count": 45,
   "metadata": {},
   "outputs": [],
   "source": [
    "# Agrupamos por día de cancelaciones para saber el número de cancelaciones.\n",
    "inactive_clients = df_master.groupby(['end_date'])['customer_id'].count().reset_index()\n",
    "#Renombramos columnas\n",
    "inactive_clients.columns = ['end_effective_date', 'inact_client_count']"
   ]
  },
  {
   "cell_type": "code",
   "execution_count": 46,
   "metadata": {},
   "outputs": [
    {
     "data": {
      "text/plain": [
       "Index(['end_effective_date', 'inact_client_count'], dtype='object')"
      ]
     },
     "execution_count": 46,
     "metadata": {},
     "output_type": "execute_result"
    }
   ],
   "source": [
    "inactive_clients.columns"
   ]
  },
  {
   "cell_type": "code",
   "execution_count": 47,
   "metadata": {},
   "outputs": [
    {
     "data": {
      "image/png": "[encoded data removed]",
      "text/plain": [
       "<Figure size 1000x500 with 1 Axes>"
      ]
     },
     "metadata": {},
     "output_type": "display_data"
    }
   ],
   "source": [
    "plt.figure(figsize=(10,5))\n",
    "plt.plot(inactive_clients['end_effective_date'], inactive_clients['inact_client_count'], marker='o', color='steelblue')\n",
    "plt.title('Número de bajas por fecha', color='dimgray')\n",
    "plt.xlabel('Fecha', color='midnightblue')\n",
    "plt.ylabel('Clientes inactivos', color='dimgray')\n",
    "plt.xticks(rotation=60)\n",
    "plt.tick_params(axis='x', colors='dimgray')\n",
    "plt.tick_params(axis='y', colors='dimgray')\n",
    "plt.grid(True)\n",
    "plt.tight_layout()\n",
    "plt.show()\n"
   ]
  },
  {
   "cell_type": "markdown",
   "metadata": {},
   "source": [
    "### Hallazgos del análisis temporal de cancelaciones\n",
    "\n",
    "La visualización de la columna `end_date` permitió identificar el comportamiento de las cancelaciones de clientes a lo largo del tiempo.\n",
    "\n",
    "Se observa que a inicios de octubre de 2019 se registraban aproximadamente 450 cancelaciones. A lo largo del mes, esta cifra fue en aumento, alcanzando su punto más alto el 1 de noviembre de 2019, con un pico de aproximadamente 485 cancelaciones.\n",
    "\n",
    "Posteriormente, a partir de esa fecha, las cancelaciones muestran una tendencia descendente constante hasta el cierre del periodo observado (enero de 2020).\n",
    "\n",
    "Este comportamiento sugiere que pudo haber ocurrido algún evento o condición particular en octubre que motivó un mayor número de cancelaciones, seguido de una estabilización en los meses siguientes.\n"
   ]
  },
  {
   "cell_type": "markdown",
   "metadata": {},
   "source": [
    "Con estas acciones, se concluye la etapa de exploración y limpieza. Los datos se encuentran listos para iniciar el preprocesamiento y la construcción de los modelos de clasificación."
   ]
  },
  {
   "cell_type": "markdown",
   "metadata": {},
   "source": [
    "# Preprocesamiento de datos.\n",
    "\n",
    "Como primer paso del preprocesamiento, definiremos la variable objetivo que será utilizada para entrenar nuestro modelo de clasificación.\n",
    "\n",
    "La columna `end_date` nos indica si un cliente ha cancelado su contrato. Por lo tanto, a partir de esta columna crearemos una nueva variable binaria llamada `exited`, que tomará los siguientes valores:\n",
    "\n",
    "- `1` si el cliente ha cancelado (es decir, si `end_date` contiene una fecha).\n",
    "- `0` si el cliente sigue activo (es decir, si `end_date` es nulo o `NaT`).\n",
    "\n",
    "Esta nueva variable será nuestro objetivo el cual el modelo intentará predecir en función de las características del cliente y los servicios que utiliza."
   ]
  },
  {
   "cell_type": "code",
   "execution_count": 48,
   "metadata": {},
   "outputs": [
    {
     "name": "stdout",
     "output_type": "stream",
     "text": [
      "0       0\n",
      "1       0\n",
      "2       1\n",
      "3       0\n",
      "4       1\n",
      "       ..\n",
      "7038    0\n",
      "7039    0\n",
      "7040    0\n",
      "7041    1\n",
      "7042    0\n",
      "Name: exited, Length: 7043, dtype: int64\n"
     ]
    }
   ],
   "source": [
    "df_master['exited'] = df_master['end_date'].notnull().astype(int)\n",
    "print(df_master['exited'])"
   ]
  },
  {
   "cell_type": "markdown",
   "metadata": {},
   "source": [
    "Eliminación de columna `end_date`\n",
    "\n",
    "Una vez creada la variable binaria `exited`, que representa si un cliente canceló o no su contrato, la columna `end_date` deja de ser necesaria para el análisis.\n",
    "\n",
    "Por lo tanto, se elimina del dataset para evitar redundancia y asegurar que no sea utilizada como variable predictora en el modelo.\n"
   ]
  },
  {
   "cell_type": "code",
   "execution_count": 49,
   "metadata": {
    "scrolled": true
   },
   "outputs": [],
   "source": [
    "df_master = df_master.drop(['end_date'], axis=1)"
   ]
  },
  {
   "cell_type": "code",
   "execution_count": 50,
   "metadata": {},
   "outputs": [
    {
     "name": "stdout",
     "output_type": "stream",
     "text": [
      "<class 'pandas.core.frame.DataFrame'>\n",
      "Int64Index: 7043 entries, 0 to 7042\n",
      "Data columns (total 20 columns):\n",
      " #   Column             Non-Null Count  Dtype         \n",
      "---  ------             --------------  -----         \n",
      " 0   customer_id        7043 non-null   object        \n",
      " 1   begin_date         7043 non-null   datetime64[ns]\n",
      " 2   type               7043 non-null   object        \n",
      " 3   paperless_billing  7043 non-null   object        \n",
      " 4   payment_method     7043 non-null   object        \n",
      " 5   monthly_charges    7043 non-null   float64       \n",
      " 6   total_charges      7043 non-null   float64       \n",
      " 7   gender             7043 non-null   object        \n",
      " 8   senior_citizen     7043 non-null   int64         \n",
      " 9   partner            7043 non-null   object        \n",
      " 10  dependents         7043 non-null   object        \n",
      " 11  internet_service   7043 non-null   object        \n",
      " 12  online_security    7043 non-null   object        \n",
      " 13  online_backup      7043 non-null   object        \n",
      " 14  device_protection  7043 non-null   object        \n",
      " 15  tech_support       7043 non-null   object        \n",
      " 16  streaming_tv       7043 non-null   object        \n",
      " 17  streaming_movies   7043 non-null   object        \n",
      " 18  multiple_lines     7043 non-null   object        \n",
      " 19  exited             7043 non-null   int64         \n",
      "dtypes: datetime64[ns](1), float64(2), int64(2), object(15)\n",
      "memory usage: 1.1+ MB\n"
     ]
    }
   ],
   "source": [
    "df_master.info()"
   ]
  },
  {
   "cell_type": "code",
   "execution_count": 51,
   "metadata": {},
   "outputs": [],
   "source": [
    "# En este punto creamos una copia del dataframe original, antes de procesar las variables categoricas.\n",
    "df_mastercopy = df_master.copy()"
   ]
  },
  {
   "cell_type": "markdown",
   "metadata": {},
   "source": [
    "Para la conversión de todas las columnas categóricas con respuestas tipo \"Yes\" y \"No\" a valores binarios, utilizando la siguiente lógica:\n",
    "\n",
    "\"Yes\" será reemplazado por 1\n",
    "\n",
    "\"No\" será reemplazado por 0"
   ]
  },
  {
   "cell_type": "code",
   "execution_count": 52,
   "metadata": {},
   "outputs": [],
   "source": [
    "binary_columns = ['paperless_billing','partner','dependents','online_security','online_backup','device_protection','tech_support','streaming_tv','streaming_movies', 'multiple_lines']"
   ]
  },
  {
   "cell_type": "code",
   "execution_count": 53,
   "metadata": {},
   "outputs": [],
   "source": [
    "for column in binary_columns:\n",
    "    df_master[column] = df_master[column].map({'Yes': 1, 'No': 0})"
   ]
  },
  {
   "cell_type": "code",
   "execution_count": 54,
   "metadata": {},
   "outputs": [
    {
     "data": {
      "text/html": [
       "<div>\n",
       "<style scoped>\n",
       "    .dataframe tbody tr th:only-of-type {\n",
       "        vertical-align: middle;\n",
       "    }\n",
       "\n",
       "    .dataframe tbody tr th {\n",
       "        vertical-align: top;\n",
       "    }\n",
       "\n",
       "    .dataframe thead th {\n",
       "        text-align: right;\n",
       "    }\n",
       "</style>\n",
       "<table border=\"1\" class=\"dataframe\">\n",
       "  <thead>\n",
       "    <tr style=\"text-align: right;\">\n",
       "      <th></th>\n",
       "      <th>paperless_billing</th>\n",
       "      <th>partner</th>\n",
       "      <th>dependents</th>\n",
       "      <th>online_security</th>\n",
       "      <th>online_backup</th>\n",
       "      <th>device_protection</th>\n",
       "      <th>tech_support</th>\n",
       "      <th>streaming_tv</th>\n",
       "      <th>streaming_movies</th>\n",
       "      <th>multiple_lines</th>\n",
       "    </tr>\n",
       "  </thead>\n",
       "  <tbody>\n",
       "    <tr>\n",
       "      <th>0</th>\n",
       "      <td>1</td>\n",
       "      <td>1</td>\n",
       "      <td>0</td>\n",
       "      <td>0</td>\n",
       "      <td>1</td>\n",
       "      <td>0</td>\n",
       "      <td>0</td>\n",
       "      <td>0</td>\n",
       "      <td>0</td>\n",
       "      <td>0</td>\n",
       "    </tr>\n",
       "    <tr>\n",
       "      <th>1</th>\n",
       "      <td>0</td>\n",
       "      <td>0</td>\n",
       "      <td>0</td>\n",
       "      <td>1</td>\n",
       "      <td>0</td>\n",
       "      <td>1</td>\n",
       "      <td>0</td>\n",
       "      <td>0</td>\n",
       "      <td>0</td>\n",
       "      <td>0</td>\n",
       "    </tr>\n",
       "    <tr>\n",
       "      <th>2</th>\n",
       "      <td>1</td>\n",
       "      <td>0</td>\n",
       "      <td>0</td>\n",
       "      <td>1</td>\n",
       "      <td>1</td>\n",
       "      <td>0</td>\n",
       "      <td>0</td>\n",
       "      <td>0</td>\n",
       "      <td>0</td>\n",
       "      <td>0</td>\n",
       "    </tr>\n",
       "    <tr>\n",
       "      <th>3</th>\n",
       "      <td>0</td>\n",
       "      <td>0</td>\n",
       "      <td>0</td>\n",
       "      <td>1</td>\n",
       "      <td>0</td>\n",
       "      <td>1</td>\n",
       "      <td>1</td>\n",
       "      <td>0</td>\n",
       "      <td>0</td>\n",
       "      <td>0</td>\n",
       "    </tr>\n",
       "    <tr>\n",
       "      <th>4</th>\n",
       "      <td>1</td>\n",
       "      <td>0</td>\n",
       "      <td>0</td>\n",
       "      <td>0</td>\n",
       "      <td>0</td>\n",
       "      <td>0</td>\n",
       "      <td>0</td>\n",
       "      <td>0</td>\n",
       "      <td>0</td>\n",
       "      <td>0</td>\n",
       "    </tr>\n",
       "  </tbody>\n",
       "</table>\n",
       "</div>"
      ],
      "text/plain": [
       "   paperless_billing  partner  dependents  online_security  online_backup  \\\n",
       "0                  1        1           0                0              1   \n",
       "1                  0        0           0                1              0   \n",
       "2                  1        0           0                1              1   \n",
       "3                  0        0           0                1              0   \n",
       "4                  1        0           0                0              0   \n",
       "\n",
       "   device_protection  tech_support  streaming_tv  streaming_movies  \\\n",
       "0                  0             0             0                 0   \n",
       "1                  1             0             0                 0   \n",
       "2                  0             0             0                 0   \n",
       "3                  1             1             0                 0   \n",
       "4                  0             0             0                 0   \n",
       "\n",
       "   multiple_lines  \n",
       "0               0  \n",
       "1               0  \n",
       "2               0  \n",
       "3               0  \n",
       "4               0  "
      ]
     },
     "execution_count": 54,
     "metadata": {},
     "output_type": "execute_result"
    }
   ],
   "source": [
    "#Validamos la reasignación\n",
    "df_master[binary_columns].head()"
   ]
  },
  {
   "cell_type": "markdown",
   "metadata": {},
   "source": [
    "## Transformación de variables categóricas con one-hot encoding\n",
    "\n",
    "Algunas columnas del dataset contienen variables categóricas con más de dos categorías, por lo que no pueden ser transformadas con mapeo binario como las variables tipo `\"Yes\"`/`\"No\"`. Para hacerlas utilizables por los modelos de machine learning, aplicaremos **codificación one-hot**.\n",
    "\n",
    "Las columnas seleccionadas para este proceso son:\n",
    "\n",
    "- `type`: tipo de contrato del cliente  \n",
    "- `payment_method`: método de pago  \n",
    "- `gender`: género del cliente  \n",
    "- `internet_service`: tipo de servicio de Internet\n",
    "\n",
    "Estas variables serán transformadas en columnas binarias, una por cada categoría distinta, lo que permitirá a los modelos interpretar sus valores correctamente.\n",
    "\n",
    "Para evitar multicolinealidad en modelos lineales, se aplicará el argumento `drop_first=True`, eliminando una de las categorías de cada variable como referencia."
   ]
  },
  {
   "cell_type": "code",
   "execution_count": 55,
   "metadata": {},
   "outputs": [],
   "source": [
    "# Convertir variables categóricas en variables dummy\n",
    "category_columns = ['type','payment_method','gender','internet_service']\n",
    "dummies = pd.get_dummies(df_master[category_columns], drop_first=True)"
   ]
  },
  {
   "cell_type": "code",
   "execution_count": 56,
   "metadata": {},
   "outputs": [],
   "source": [
    "df_master = pd.concat([df_master, dummies], axis=1)\n",
    "df_master = df_master.drop(category_columns, axis=1) #Eliminamos columnas con strings"
   ]
  },
  {
   "cell_type": "markdown",
   "metadata": {},
   "source": [
    "## Examen del Equilibrio de Clases\n",
    "Distribución de clases: Vamos a ver cuántos clientes se han ido (1) y cuántos no (0).\n",
    "\n",
    "Visualización: Graficaremos la distribución de las clases para tener una visión clara de cuán equilibrada está la variable objetivo."
   ]
  },
  {
   "cell_type": "code",
   "execution_count": 57,
   "metadata": {},
   "outputs": [
    {
     "name": "stdout",
     "output_type": "stream",
     "text": [
      "Distribución de clases en el target (exited):\n",
      " 0    0.73463\n",
      "1    0.26537\n",
      "Name: exited, dtype: float64\n"
     ]
    }
   ],
   "source": [
    "# Ver la distribución de la clase objetivo 'exited'\n",
    "class_distribution = df_master['exited'].value_counts(normalize=True)\n",
    "\n",
    "# Imprimir la distribución\n",
    "print(\"Distribución de clases en el target (exited):\\n\", class_distribution)"
   ]
  },
  {
   "cell_type": "code",
   "execution_count": 58,
   "metadata": {},
   "outputs": [
    {
     "data": {
      "image/png": "[encoded data removed]",
      "text/plain": [
       "<Figure size 640x480 with 1 Axes>"
      ]
     },
     "metadata": {},
     "output_type": "display_data"
    }
   ],
   "source": [
    "class_distribution.plot(kind='bar', color=['palevioletred','thistle'])\n",
    "plt.title('Distribución de la Clase Objetivo: Exited')\n",
    "plt.xlabel('Exited (0 = No, 1 = Sí)')\n",
    "plt.ylabel('Número de Clientes')\n",
    "plt.xticks(rotation=0)\n",
    "plt.show()"
   ]
  },
  {
   "cell_type": "markdown",
   "metadata": {},
   "source": [
    "Al analizar la distribución de la variable objetivo `exited`, se observa que:\n",
    "\n",
    "- El 73.5% de los clientes **no cancelaron** su contrato.\n",
    "- El 26.5% de los clientes **sí cancelaron**.\n",
    "\n",
    "Aunque no se trata de un desbalance extremo, es una diferencia considerable que podría sesgar los modelos hacia la clase mayoritaria si no se considera adecuadamente.\n",
    "\n",
    "Por esta razón, se tendrán en cuenta métricas sensibles al desbalance (como AUC-ROC y F1-score) durante la evaluación. También se valorará el uso de técnicas de reequilibrio si el desempeño del modelo lo requiere.\n"
   ]
  },
  {
   "cell_type": "code",
   "execution_count": 59,
   "metadata": {},
   "outputs": [
    {
     "data": {
      "text/html": [
       "<div>\n",
       "<style scoped>\n",
       "    .dataframe tbody tr th:only-of-type {\n",
       "        vertical-align: middle;\n",
       "    }\n",
       "\n",
       "    .dataframe tbody tr th {\n",
       "        vertical-align: top;\n",
       "    }\n",
       "\n",
       "    .dataframe thead th {\n",
       "        text-align: right;\n",
       "    }\n",
       "</style>\n",
       "<table border=\"1\" class=\"dataframe\">\n",
       "  <thead>\n",
       "    <tr style=\"text-align: right;\">\n",
       "      <th></th>\n",
       "      <th>customer_id</th>\n",
       "      <th>begin_date</th>\n",
       "      <th>paperless_billing</th>\n",
       "      <th>monthly_charges</th>\n",
       "      <th>total_charges</th>\n",
       "      <th>senior_citizen</th>\n",
       "      <th>partner</th>\n",
       "      <th>dependents</th>\n",
       "      <th>online_security</th>\n",
       "      <th>online_backup</th>\n",
       "      <th>...</th>\n",
       "      <th>multiple_lines</th>\n",
       "      <th>exited</th>\n",
       "      <th>type_One year</th>\n",
       "      <th>type_Two year</th>\n",
       "      <th>payment_method_Credit card (automatic)</th>\n",
       "      <th>payment_method_Electronic check</th>\n",
       "      <th>payment_method_Mailed check</th>\n",
       "      <th>gender_Male</th>\n",
       "      <th>internet_service_Fiber optic</th>\n",
       "      <th>internet_service_Sin Servicio</th>\n",
       "    </tr>\n",
       "  </thead>\n",
       "  <tbody>\n",
       "    <tr>\n",
       "      <th>0</th>\n",
       "      <td>7590-VHVEG</td>\n",
       "      <td>2020-01-01</td>\n",
       "      <td>1</td>\n",
       "      <td>29.85</td>\n",
       "      <td>29.85</td>\n",
       "      <td>0</td>\n",
       "      <td>1</td>\n",
       "      <td>0</td>\n",
       "      <td>0</td>\n",
       "      <td>1</td>\n",
       "      <td>...</td>\n",
       "      <td>0</td>\n",
       "      <td>0</td>\n",
       "      <td>0</td>\n",
       "      <td>0</td>\n",
       "      <td>0</td>\n",
       "      <td>1</td>\n",
       "      <td>0</td>\n",
       "      <td>0</td>\n",
       "      <td>0</td>\n",
       "      <td>0</td>\n",
       "    </tr>\n",
       "    <tr>\n",
       "      <th>1</th>\n",
       "      <td>5575-GNVDE</td>\n",
       "      <td>2017-04-01</td>\n",
       "      <td>0</td>\n",
       "      <td>56.95</td>\n",
       "      <td>1889.50</td>\n",
       "      <td>0</td>\n",
       "      <td>0</td>\n",
       "      <td>0</td>\n",
       "      <td>1</td>\n",
       "      <td>0</td>\n",
       "      <td>...</td>\n",
       "      <td>0</td>\n",
       "      <td>0</td>\n",
       "      <td>1</td>\n",
       "      <td>0</td>\n",
       "      <td>0</td>\n",
       "      <td>0</td>\n",
       "      <td>1</td>\n",
       "      <td>1</td>\n",
       "      <td>0</td>\n",
       "      <td>0</td>\n",
       "    </tr>\n",
       "    <tr>\n",
       "      <th>2</th>\n",
       "      <td>3668-QPYBK</td>\n",
       "      <td>2019-10-01</td>\n",
       "      <td>1</td>\n",
       "      <td>53.85</td>\n",
       "      <td>108.15</td>\n",
       "      <td>0</td>\n",
       "      <td>0</td>\n",
       "      <td>0</td>\n",
       "      <td>1</td>\n",
       "      <td>1</td>\n",
       "      <td>...</td>\n",
       "      <td>0</td>\n",
       "      <td>1</td>\n",
       "      <td>0</td>\n",
       "      <td>0</td>\n",
       "      <td>0</td>\n",
       "      <td>0</td>\n",
       "      <td>1</td>\n",
       "      <td>1</td>\n",
       "      <td>0</td>\n",
       "      <td>0</td>\n",
       "    </tr>\n",
       "    <tr>\n",
       "      <th>3</th>\n",
       "      <td>7795-CFOCW</td>\n",
       "      <td>2016-05-01</td>\n",
       "      <td>0</td>\n",
       "      <td>42.30</td>\n",
       "      <td>1840.75</td>\n",
       "      <td>0</td>\n",
       "      <td>0</td>\n",
       "      <td>0</td>\n",
       "      <td>1</td>\n",
       "      <td>0</td>\n",
       "      <td>...</td>\n",
       "      <td>0</td>\n",
       "      <td>0</td>\n",
       "      <td>1</td>\n",
       "      <td>0</td>\n",
       "      <td>0</td>\n",
       "      <td>0</td>\n",
       "      <td>0</td>\n",
       "      <td>1</td>\n",
       "      <td>0</td>\n",
       "      <td>0</td>\n",
       "    </tr>\n",
       "    <tr>\n",
       "      <th>4</th>\n",
       "      <td>9237-HQITU</td>\n",
       "      <td>2019-09-01</td>\n",
       "      <td>1</td>\n",
       "      <td>70.70</td>\n",
       "      <td>151.65</td>\n",
       "      <td>0</td>\n",
       "      <td>0</td>\n",
       "      <td>0</td>\n",
       "      <td>0</td>\n",
       "      <td>0</td>\n",
       "      <td>...</td>\n",
       "      <td>0</td>\n",
       "      <td>1</td>\n",
       "      <td>0</td>\n",
       "      <td>0</td>\n",
       "      <td>0</td>\n",
       "      <td>1</td>\n",
       "      <td>0</td>\n",
       "      <td>0</td>\n",
       "      <td>1</td>\n",
       "      <td>0</td>\n",
       "    </tr>\n",
       "  </tbody>\n",
       "</table>\n",
       "<p>5 rows × 24 columns</p>\n",
       "</div>"
      ],
      "text/plain": [
       "  customer_id begin_date  paperless_billing  monthly_charges  total_charges  \\\n",
       "0  7590-VHVEG 2020-01-01                  1            29.85          29.85   \n",
       "1  5575-GNVDE 2017-04-01                  0            56.95        1889.50   \n",
       "2  3668-QPYBK 2019-10-01                  1            53.85         108.15   \n",
       "3  7795-CFOCW 2016-05-01                  0            42.30        1840.75   \n",
       "4  9237-HQITU 2019-09-01                  1            70.70         151.65   \n",
       "\n",
       "   senior_citizen  partner  dependents  online_security  online_backup  ...  \\\n",
       "0               0        1           0                0              1  ...   \n",
       "1               0        0           0                1              0  ...   \n",
       "2               0        0           0                1              1  ...   \n",
       "3               0        0           0                1              0  ...   \n",
       "4               0        0           0                0              0  ...   \n",
       "\n",
       "   multiple_lines  exited  type_One year  type_Two year  \\\n",
       "0               0       0              0              0   \n",
       "1               0       0              1              0   \n",
       "2               0       1              0              0   \n",
       "3               0       0              1              0   \n",
       "4               0       1              0              0   \n",
       "\n",
       "   payment_method_Credit card (automatic)  payment_method_Electronic check  \\\n",
       "0                                       0                                1   \n",
       "1                                       0                                0   \n",
       "2                                       0                                0   \n",
       "3                                       0                                0   \n",
       "4                                       0                                1   \n",
       "\n",
       "   payment_method_Mailed check  gender_Male  internet_service_Fiber optic  \\\n",
       "0                            0            0                             0   \n",
       "1                            1            1                             0   \n",
       "2                            1            1                             0   \n",
       "3                            0            1                             0   \n",
       "4                            0            0                             1   \n",
       "\n",
       "   internet_service_Sin Servicio  \n",
       "0                              0  \n",
       "1                              0  \n",
       "2                              0  \n",
       "3                              0  \n",
       "4                              0  \n",
       "\n",
       "[5 rows x 24 columns]"
      ]
     },
     "execution_count": 59,
     "metadata": {},
     "output_type": "execute_result"
    }
   ],
   "source": [
    "df_master.head()"
   ]
  },
  {
   "cell_type": "markdown",
   "metadata": {},
   "source": [
    "## Creación de variable de antigüedad del cliente\n",
    "\n",
    "La columna `begin_date` representa la fecha en la que el cliente comenzó su contrato con la compañía. \n",
    "\n",
    "En este caso, se transformará `begin_date` en una nueva variable que representa la **antigüedad del cliente**, calculando la diferencia en días entre una fecha de corte fija y la fecha de inicio.\n",
    "\n",
    "La fecha de corte elegida será el **1 de febrero de 2020**, ya que es el punto de referencia.\n",
    "\n",
    "Esta nueva característica puede resultar valiosa, ya que es razonable suponer que los clientes con mayor antigüedad podrían tener menor probabilidad de cancelar su contrato, por costumbre, satisfacción o permanencia a largo plazo."
   ]
  },
  {
   "cell_type": "code",
   "execution_count": 60,
   "metadata": {},
   "outputs": [
    {
     "data": {
      "text/html": [
       "<div>\n",
       "<style scoped>\n",
       "    .dataframe tbody tr th:only-of-type {\n",
       "        vertical-align: middle;\n",
       "    }\n",
       "\n",
       "    .dataframe tbody tr th {\n",
       "        vertical-align: top;\n",
       "    }\n",
       "\n",
       "    .dataframe thead th {\n",
       "        text-align: right;\n",
       "    }\n",
       "</style>\n",
       "<table border=\"1\" class=\"dataframe\">\n",
       "  <thead>\n",
       "    <tr style=\"text-align: right;\">\n",
       "      <th></th>\n",
       "      <th>customer_id</th>\n",
       "      <th>begin_date</th>\n",
       "      <th>paperless_billing</th>\n",
       "      <th>monthly_charges</th>\n",
       "      <th>total_charges</th>\n",
       "      <th>senior_citizen</th>\n",
       "      <th>partner</th>\n",
       "      <th>dependents</th>\n",
       "      <th>online_security</th>\n",
       "      <th>online_backup</th>\n",
       "      <th>...</th>\n",
       "      <th>type_One year</th>\n",
       "      <th>type_Two year</th>\n",
       "      <th>payment_method_Credit card (automatic)</th>\n",
       "      <th>payment_method_Electronic check</th>\n",
       "      <th>payment_method_Mailed check</th>\n",
       "      <th>gender_Male</th>\n",
       "      <th>internet_service_Fiber optic</th>\n",
       "      <th>internet_service_Sin Servicio</th>\n",
       "      <th>seniority_date</th>\n",
       "      <th>seniority_days</th>\n",
       "    </tr>\n",
       "  </thead>\n",
       "  <tbody>\n",
       "    <tr>\n",
       "      <th>1441</th>\n",
       "      <td>2480-EJWYP</td>\n",
       "      <td>2015-04-01</td>\n",
       "      <td>1</td>\n",
       "      <td>97.80</td>\n",
       "      <td>5458.80</td>\n",
       "      <td>1</td>\n",
       "      <td>1</td>\n",
       "      <td>0</td>\n",
       "      <td>0</td>\n",
       "      <td>1</td>\n",
       "      <td>...</td>\n",
       "      <td>1</td>\n",
       "      <td>0</td>\n",
       "      <td>0</td>\n",
       "      <td>0</td>\n",
       "      <td>0</td>\n",
       "      <td>0</td>\n",
       "      <td>1</td>\n",
       "      <td>0</td>\n",
       "      <td>1767 days</td>\n",
       "      <td>1767</td>\n",
       "    </tr>\n",
       "    <tr>\n",
       "      <th>1587</th>\n",
       "      <td>5939-SXWHM</td>\n",
       "      <td>2016-02-01</td>\n",
       "      <td>0</td>\n",
       "      <td>26.30</td>\n",
       "      <td>1245.05</td>\n",
       "      <td>0</td>\n",
       "      <td>1</td>\n",
       "      <td>1</td>\n",
       "      <td>0</td>\n",
       "      <td>0</td>\n",
       "      <td>...</td>\n",
       "      <td>0</td>\n",
       "      <td>1</td>\n",
       "      <td>0</td>\n",
       "      <td>0</td>\n",
       "      <td>0</td>\n",
       "      <td>1</td>\n",
       "      <td>0</td>\n",
       "      <td>1</td>\n",
       "      <td>1461 days</td>\n",
       "      <td>1461</td>\n",
       "    </tr>\n",
       "    <tr>\n",
       "      <th>2234</th>\n",
       "      <td>4500-HKANN</td>\n",
       "      <td>2018-03-01</td>\n",
       "      <td>0</td>\n",
       "      <td>59.70</td>\n",
       "      <td>1414.20</td>\n",
       "      <td>0</td>\n",
       "      <td>1</td>\n",
       "      <td>1</td>\n",
       "      <td>0</td>\n",
       "      <td>1</td>\n",
       "      <td>...</td>\n",
       "      <td>0</td>\n",
       "      <td>1</td>\n",
       "      <td>0</td>\n",
       "      <td>0</td>\n",
       "      <td>1</td>\n",
       "      <td>1</td>\n",
       "      <td>0</td>\n",
       "      <td>0</td>\n",
       "      <td>702 days</td>\n",
       "      <td>702</td>\n",
       "    </tr>\n",
       "    <tr>\n",
       "      <th>4636</th>\n",
       "      <td>1269-FOYWN</td>\n",
       "      <td>2016-06-01</td>\n",
       "      <td>0</td>\n",
       "      <td>20.00</td>\n",
       "      <td>860.85</td>\n",
       "      <td>0</td>\n",
       "      <td>1</td>\n",
       "      <td>1</td>\n",
       "      <td>0</td>\n",
       "      <td>0</td>\n",
       "      <td>...</td>\n",
       "      <td>1</td>\n",
       "      <td>0</td>\n",
       "      <td>0</td>\n",
       "      <td>0</td>\n",
       "      <td>0</td>\n",
       "      <td>1</td>\n",
       "      <td>0</td>\n",
       "      <td>1</td>\n",
       "      <td>1340 days</td>\n",
       "      <td>1340</td>\n",
       "    </tr>\n",
       "    <tr>\n",
       "      <th>5093</th>\n",
       "      <td>2676-SSLTO</td>\n",
       "      <td>2016-01-01</td>\n",
       "      <td>1</td>\n",
       "      <td>66.15</td>\n",
       "      <td>3199.00</td>\n",
       "      <td>0</td>\n",
       "      <td>0</td>\n",
       "      <td>0</td>\n",
       "      <td>0</td>\n",
       "      <td>0</td>\n",
       "      <td>...</td>\n",
       "      <td>0</td>\n",
       "      <td>1</td>\n",
       "      <td>0</td>\n",
       "      <td>0</td>\n",
       "      <td>0</td>\n",
       "      <td>1</td>\n",
       "      <td>0</td>\n",
       "      <td>0</td>\n",
       "      <td>1492 days</td>\n",
       "      <td>1492</td>\n",
       "    </tr>\n",
       "    <tr>\n",
       "      <th>5308</th>\n",
       "      <td>9110-HSGTV</td>\n",
       "      <td>2014-05-01</td>\n",
       "      <td>1</td>\n",
       "      <td>82.45</td>\n",
       "      <td>5555.30</td>\n",
       "      <td>0</td>\n",
       "      <td>0</td>\n",
       "      <td>0</td>\n",
       "      <td>1</td>\n",
       "      <td>0</td>\n",
       "      <td>...</td>\n",
       "      <td>0</td>\n",
       "      <td>1</td>\n",
       "      <td>1</td>\n",
       "      <td>0</td>\n",
       "      <td>0</td>\n",
       "      <td>0</td>\n",
       "      <td>0</td>\n",
       "      <td>0</td>\n",
       "      <td>2102 days</td>\n",
       "      <td>2102</td>\n",
       "    </tr>\n",
       "    <tr>\n",
       "      <th>3658</th>\n",
       "      <td>3604-WLABM</td>\n",
       "      <td>2019-04-01</td>\n",
       "      <td>0</td>\n",
       "      <td>54.25</td>\n",
       "      <td>583.00</td>\n",
       "      <td>0</td>\n",
       "      <td>0</td>\n",
       "      <td>0</td>\n",
       "      <td>0</td>\n",
       "      <td>0</td>\n",
       "      <td>...</td>\n",
       "      <td>0</td>\n",
       "      <td>0</td>\n",
       "      <td>0</td>\n",
       "      <td>1</td>\n",
       "      <td>0</td>\n",
       "      <td>0</td>\n",
       "      <td>0</td>\n",
       "      <td>0</td>\n",
       "      <td>306 days</td>\n",
       "      <td>306</td>\n",
       "    </tr>\n",
       "    <tr>\n",
       "      <th>1894</th>\n",
       "      <td>9281-PKKZE</td>\n",
       "      <td>2016-04-01</td>\n",
       "      <td>1</td>\n",
       "      <td>43.95</td>\n",
       "      <td>2007.85</td>\n",
       "      <td>0</td>\n",
       "      <td>1</td>\n",
       "      <td>0</td>\n",
       "      <td>0</td>\n",
       "      <td>0</td>\n",
       "      <td>...</td>\n",
       "      <td>0</td>\n",
       "      <td>0</td>\n",
       "      <td>0</td>\n",
       "      <td>1</td>\n",
       "      <td>0</td>\n",
       "      <td>0</td>\n",
       "      <td>0</td>\n",
       "      <td>0</td>\n",
       "      <td>1401 days</td>\n",
       "      <td>1401</td>\n",
       "    </tr>\n",
       "    <tr>\n",
       "      <th>6347</th>\n",
       "      <td>7718-RXDGG</td>\n",
       "      <td>2018-11-01</td>\n",
       "      <td>1</td>\n",
       "      <td>68.60</td>\n",
       "      <td>1108.60</td>\n",
       "      <td>0</td>\n",
       "      <td>1</td>\n",
       "      <td>0</td>\n",
       "      <td>0</td>\n",
       "      <td>0</td>\n",
       "      <td>...</td>\n",
       "      <td>0</td>\n",
       "      <td>0</td>\n",
       "      <td>0</td>\n",
       "      <td>0</td>\n",
       "      <td>0</td>\n",
       "      <td>1</td>\n",
       "      <td>1</td>\n",
       "      <td>0</td>\n",
       "      <td>457 days</td>\n",
       "      <td>457</td>\n",
       "    </tr>\n",
       "    <tr>\n",
       "      <th>5298</th>\n",
       "      <td>5647-FXOTP</td>\n",
       "      <td>2015-02-01</td>\n",
       "      <td>1</td>\n",
       "      <td>105.90</td>\n",
       "      <td>6401.25</td>\n",
       "      <td>1</td>\n",
       "      <td>1</td>\n",
       "      <td>0</td>\n",
       "      <td>0</td>\n",
       "      <td>1</td>\n",
       "      <td>...</td>\n",
       "      <td>0</td>\n",
       "      <td>0</td>\n",
       "      <td>0</td>\n",
       "      <td>1</td>\n",
       "      <td>0</td>\n",
       "      <td>0</td>\n",
       "      <td>1</td>\n",
       "      <td>0</td>\n",
       "      <td>1826 days</td>\n",
       "      <td>1826</td>\n",
       "    </tr>\n",
       "  </tbody>\n",
       "</table>\n",
       "<p>10 rows × 26 columns</p>\n",
       "</div>"
      ],
      "text/plain": [
       "     customer_id begin_date  paperless_billing  monthly_charges  \\\n",
       "1441  2480-EJWYP 2015-04-01                  1            97.80   \n",
       "1587  5939-SXWHM 2016-02-01                  0            26.30   \n",
       "2234  4500-HKANN 2018-03-01                  0            59.70   \n",
       "4636  1269-FOYWN 2016-06-01                  0            20.00   \n",
       "5093  2676-SSLTO 2016-01-01                  1            66.15   \n",
       "5308  9110-HSGTV 2014-05-01                  1            82.45   \n",
       "3658  3604-WLABM 2019-04-01                  0            54.25   \n",
       "1894  9281-PKKZE 2016-04-01                  1            43.95   \n",
       "6347  7718-RXDGG 2018-11-01                  1            68.60   \n",
       "5298  5647-FXOTP 2015-02-01                  1           105.90   \n",
       "\n",
       "      total_charges  senior_citizen  partner  dependents  online_security  \\\n",
       "1441        5458.80               1        1           0                0   \n",
       "1587        1245.05               0        1           1                0   \n",
       "2234        1414.20               0        1           1                0   \n",
       "4636         860.85               0        1           1                0   \n",
       "5093        3199.00               0        0           0                0   \n",
       "5308        5555.30               0        0           0                1   \n",
       "3658         583.00               0        0           0                0   \n",
       "1894        2007.85               0        1           0                0   \n",
       "6347        1108.60               0        1           0                0   \n",
       "5298        6401.25               1        1           0                0   \n",
       "\n",
       "      online_backup  ...  type_One year  type_Two year  \\\n",
       "1441              1  ...              1              0   \n",
       "1587              0  ...              0              1   \n",
       "2234              1  ...              0              1   \n",
       "4636              0  ...              1              0   \n",
       "5093              0  ...              0              1   \n",
       "5308              0  ...              0              1   \n",
       "3658              0  ...              0              0   \n",
       "1894              0  ...              0              0   \n",
       "6347              0  ...              0              0   \n",
       "5298              1  ...              0              0   \n",
       "\n",
       "      payment_method_Credit card (automatic)  payment_method_Electronic check  \\\n",
       "1441                                       0                                0   \n",
       "1587                                       0                                0   \n",
       "2234                                       0                                0   \n",
       "4636                                       0                                0   \n",
       "5093                                       0                                0   \n",
       "5308                                       1                                0   \n",
       "3658                                       0                                1   \n",
       "1894                                       0                                1   \n",
       "6347                                       0                                0   \n",
       "5298                                       0                                1   \n",
       "\n",
       "      payment_method_Mailed check  gender_Male  internet_service_Fiber optic  \\\n",
       "1441                            0            0                             1   \n",
       "1587                            0            1                             0   \n",
       "2234                            1            1                             0   \n",
       "4636                            0            1                             0   \n",
       "5093                            0            1                             0   \n",
       "5308                            0            0                             0   \n",
       "3658                            0            0                             0   \n",
       "1894                            0            0                             0   \n",
       "6347                            0            1                             1   \n",
       "5298                            0            0                             1   \n",
       "\n",
       "      internet_service_Sin Servicio  seniority_date  seniority_days  \n",
       "1441                              0       1767 days            1767  \n",
       "1587                              1       1461 days            1461  \n",
       "2234                              0        702 days             702  \n",
       "4636                              1       1340 days            1340  \n",
       "5093                              0       1492 days            1492  \n",
       "5308                              0       2102 days            2102  \n",
       "3658                              0        306 days             306  \n",
       "1894                              0       1401 days            1401  \n",
       "6347                              0        457 days             457  \n",
       "5298                              0       1826 days            1826  \n",
       "\n",
       "[10 rows x 26 columns]"
      ]
     },
     "execution_count": 60,
     "metadata": {},
     "output_type": "execute_result"
    }
   ],
   "source": [
    "cut_date = pd.to_datetime('2020-02-01') #Creamos una variable para convertir la fecha de corte 2 de febrero a date type. \n",
    "df_master['seniority_date'] = cut_date - df_master['begin_date'] #Calculamos antigüedad de acuerdo a la fecha de inicio del contrato.\n",
    "\n",
    "df_master['seniority_days'] = df_master['seniority_date'].dt.days #Convertimos la antüedad a días.\n",
    "df_master.sample(10)"
   ]
  },
  {
   "cell_type": "code",
   "execution_count": 61,
   "metadata": {},
   "outputs": [],
   "source": [
    "#Eliminamos las columnas begin_date y seniority_date que previamente creamos para dejar unicamente la variable numerica de antigüedad en días. \n",
    "df_master = df_master.drop(['begin_date', 'seniority_date'], axis=1)"
   ]
  },
  {
   "cell_type": "markdown",
   "metadata": {},
   "source": [
    "# Segmentación de datos\n",
    "\n",
    "A continuación, se dividirá el conjunto de datos en variables predictoras (`target`) y variable objetivo (`features`).  \n",
    "\n",
    "La columna `exited` será usada como variable objetivo, ya que indica si un cliente canceló o no su contrato. El resto de las columnas serán utilizadas como características (`features`), excluyendo cualquier identificador como `customer_id`.\n",
    "\n",
    "Se utilizará la función `train_test_split` para dividir los datos en tres partes:\n",
    "\n",
    "- **70% para entrenamiento**\n",
    "- **15% para validación**\n",
    "- **15% para prueba final**\n",
    "\n",
    "Esta división permite ajustar y comparar modelos con los datos de entrenamiento y validación, y reservar un conjunto independiente para la evaluación final del rendimiento del modelo. Para asegurar resultados reproducibles, se fijó el parámetro `random_state=12345`."
   ]
  },
  {
   "cell_type": "code",
   "execution_count": 62,
   "metadata": {},
   "outputs": [],
   "source": [
    "# Separar las características (features) y el objetivo (target)\n",
    "features = df_master.drop(['exited','customer_id'], axis=1)\n",
    "target = df_master['exited']"
   ]
  },
  {
   "cell_type": "code",
   "execution_count": 63,
   "metadata": {},
   "outputs": [
    {
     "name": "stdout",
     "output_type": "stream",
     "text": [
      "Entrenamiento: 4930 muestras\n",
      "Validación: 1056 muestras\n",
      "Prueba: 1057 muestras\n"
     ]
    }
   ],
   "source": [
    "# División en 70% para entrenamiento y 30% para validación + prueba\n",
    "features_train, features_temp, target_train, target_temp = train_test_split(features, target, test_size=0.3, random_state=12345)\n",
    "\n",
    "# Dividir la parte de validación + prueba en 50% para validación y 50% para prueba (15% cada uno)\n",
    "features_val, features_test, target_val, target_test = train_test_split(features_temp, target_temp, test_size=0.5, random_state=12345)\n",
    "\n",
    "# Verificar las dimensiones de los conjuntos\n",
    "print(f\"Entrenamiento: {features_train.shape[0]} muestras\")\n",
    "print(f\"Validación: {features_val.shape[0]} muestras\")\n",
    "print(f\"Prueba: {features_test.shape[0]} muestras\")"
   ]
  },
  {
   "cell_type": "markdown",
   "metadata": {},
   "source": [
    "# Preparación de modelos."
   ]
  },
  {
   "cell_type": "markdown",
   "metadata": {},
   "source": [
    "## Escalación de variables númericas.\n",
    "\n",
    "Se aplicará escalamiento estándar (`StandardScaler`) a las variables numéricas:\n",
    "\n",
    "- `monthly_charges`\n",
    "- `total_charges`\n",
    "- `seniority_days`\n",
    "\n",
    "El escalador se ajusta con (`fit`) únicamente con los datos de entrenamiento para evitar fuga de información, y luego se aplicó (`transform`) a los conjuntos de entrenamiento, validación y prueba. Esto garantiza que todas las variables numéricas estén en la misma escala para el entrenamiento de modelos.\n",
    "\n",
    "Para evitar advertencias generadas por asignaciones encadenadas durante la transformación de columnas en `pandas`, se desactivó el modo de advertencia temporalmente con:\n",
    "\n",
    "```python\n",
    "pd.options.mode.chained_assignment = None"
   ]
  },
  {
   "cell_type": "code",
   "execution_count": 64,
   "metadata": {},
   "outputs": [],
   "source": [
    "pd.options.mode.chained_assignment = None\n",
    "\n",
    "numeric = ['monthly_charges', 'total_charges', 'seniority_days']\n",
    "\n",
    "scaler = StandardScaler()\n",
    "scaler.fit(features_train[numeric])\n",
    "features_train[numeric] = scaler.transform(features_train[numeric])\n",
    "features_val[numeric] = scaler.transform(features_val[numeric])\n",
    "features_test[numeric] = scaler.transform(features_test[numeric])"
   ]
  },
  {
   "cell_type": "markdown",
   "metadata": {},
   "source": [
    "## Función para evaluar modelos\n",
    "\n",
    "Se definió una función personalizada llamada `evaluate_model()` que permite evaluar fácilmente el rendimiento de cualquier modelo entrenado, utilizando tres conjuntos de datos:\n",
    "\n",
    "- **Entrenamiento**\n",
    "- **Validación**\n",
    "- **Prueba**\n",
    "\n",
    "Para cada conjunto, la función calcula las siguientes métricas de clasificación:\n",
    "\n",
    "- **Accuracy (Exactitud)**: proporción de predicciones correctas.\n",
    "- **F1-score**: equilibrio entre precisión y recall, útil en casos de desbalance de clases.\n",
    "- **AUC-ROC**: capacidad del modelo para distinguir entre clases usando probabilidades.\n",
    "\n",
    "Esta función facilita comparar de forma consistente distintos modelos y detectar posibles problemas como sobreajuste o bajo rendimiento general.\n"
   ]
  },
  {
   "cell_type": "code",
   "execution_count": 65,
   "metadata": {},
   "outputs": [],
   "source": [
    "def evaluate_model(model, features_train, target_train, features_val, target_val, features_test, target_test):\n",
    "    \"\"\"\n",
    "    Evalúa un modelo en los conjuntos de entrenamiento, validación y prueba.\n",
    "    Calcula Accuracy, F1 y AUC-ROC para cada uno.\n",
    "    \"\"\"\n",
    "    results = {}\n",
    "    \n",
    "    for name, X, y in [('Entrenamiento', features_train, target_train),\n",
    "                       ('Validación', features_val, target_val),\n",
    "                       ('Prueba', features_test, target_test)]:\n",
    "\n",
    "        y_pred = model.predict(X)\n",
    "        y_proba = model.predict_proba(X)[:, 1]\n",
    "\n",
    "        acc = accuracy_score(y, y_pred)\n",
    "        f1 = f1_score(y, y_pred)\n",
    "        auc = roc_auc_score(y, y_proba)\n",
    "\n",
    "        print(f\"\\n{name}\")\n",
    "        print(f\"Accuracy: {acc:.4f}\")\n",
    "        print(f\"F1-score: {f1:.4f}\")\n",
    "        print(f\"AUC-ROC: {auc:.4f}\")\n",
    "\n",
    "        results[name] = {'Accuracy': acc, 'F1-score': f1, 'AUC-ROC': auc}\n",
    "\n",
    "    return pd.DataFrame(results).round(4)"
   ]
  },
  {
   "cell_type": "code",
   "execution_count": 66,
   "metadata": {},
   "outputs": [],
   "source": [
    "## BORRRAR ESTA LINEA **** Cuando llames a esta función, le pasas:\n",
    "#evaluate_model(mi_modelo, features_train, target_train, features_val, target_val, features_test, target_test)"
   ]
  },
  {
   "cell_type": "markdown",
   "metadata": {},
   "source": [
    "# Entranamiento y Evaluación de Modelos."
   ]
  },
  {
   "cell_type": "markdown",
   "metadata": {},
   "source": [
    "### Modelo 1: Regresión logistica\n",
    "Para comenzar la fase de modelado, entrenaremos un modelo de regresión logística utilizando las características previamente procesadas. "
   ]
  },
  {
   "cell_type": "code",
   "execution_count": 67,
   "metadata": {},
   "outputs": [
    {
     "name": "stdout",
     "output_type": "stream",
     "text": [
      "\n",
      "Entrenamiento\n",
      "Accuracy: 0.8055\n",
      "F1-score: 0.5896\n",
      "AUC-ROC: 0.8452\n",
      "\n",
      "Validación\n",
      "Accuracy: 0.7992\n",
      "F1-score: 0.5843\n",
      "AUC-ROC: 0.8335\n",
      "\n",
      "Prueba\n",
      "Accuracy: 0.7890\n",
      "F1-score: 0.5893\n",
      "AUC-ROC: 0.8271\n"
     ]
    }
   ],
   "source": [
    "lr = LogisticRegression(random_state=12345)\n",
    "lr.fit(features_train, target_train)\n",
    "metrics_lr_all = evaluate_model(lr, features_train, target_train, features_val, target_val, features_test, target_test)"
   ]
  },
  {
   "cell_type": "markdown",
   "metadata": {},
   "source": [
    "Se calcularon las métricas **Accuracy**, **F1-score** y **AUC-ROC** para analizar su rendimiento en cada conjunto.\n",
    "Estos resultados indican un buen desempeño general y una adecuada generalización del modelo. Las métricas son consistentes entre los tres conjuntos, lo cual sugiere que el modelo no está sobreajustado, sin embargo, podemos buscar algunas mejoras o parametros que hagan que nuestros resultados sean mejores. "
   ]
  },
  {
   "cell_type": "markdown",
   "metadata": {},
   "source": [
    "Evaluaremos la importancia de las características en el modelo de regresión logística.\n",
    "Usaremos los coeficientes para asignar a cada variable y entender su impacto en la predicción.\n",
    "Esto nos permitirá identificar qué variables influyen más en la cancelación de clientes.\n",
    "\n",
    "En una regresión logística, los coeficientes indican la dirección e intensidad del impacto de cada variable en la probabilidad de que el evento ocurra:\n",
    "\n",
    "Coeficientes positivos → Aumentan la probabilidad de salida.\n",
    "\n",
    "Coeficientes negativos → Disminuyen la probabilidad de salida."
   ]
  },
  {
   "cell_type": "code",
   "execution_count": 68,
   "metadata": {},
   "outputs": [
    {
     "data": {
      "text/plain": [
       "<AxesSubplot:title={'center':'Coeficientes más importantes'}>"
      ]
     },
     "execution_count": 68,
     "metadata": {},
     "output_type": "execute_result"
    },
    {
     "data": {
      "image/png": "[encoded data removed]",
      "text/plain": [
       "<Figure size 640x480 with 1 Axes>"
      ]
     },
     "metadata": {},
     "output_type": "display_data"
    }
   ],
   "source": [
    "coefs_lr = pd.Series(lr.coef_[0], index=features_train.columns)\n",
    "coefs_lr = coefs_lr.sort_values(key=abs, ascending=False)\n",
    "coefs_lr.head(20).plot(kind='barh', title='Coeficientes más importantes')"
   ]
  },
  {
   "cell_type": "code",
   "execution_count": 69,
   "metadata": {},
   "outputs": [
    {
     "name": "stdout",
     "output_type": "stream",
     "text": [
      "\n",
      "Entrenamiento\n",
      "Accuracy: 0.8014\n",
      "F1-score: 0.5829\n",
      "AUC-ROC: 0.8407\n",
      "\n",
      "Validación\n",
      "Accuracy: 0.8040\n",
      "F1-score: 0.5949\n",
      "AUC-ROC: 0.8348\n",
      "\n",
      "Prueba\n",
      "Accuracy: 0.7729\n",
      "F1-score: 0.5539\n",
      "AUC-ROC: 0.8261\n"
     ]
    }
   ],
   "source": [
    "features_top10_lr = ['type_Two year','internet_service_Sin Servicio','internet_service_Fiber optic','total_charges','type_One year','streaming_tv','streaming_movies','online_security','payment_method_Electronic check','paperless_billing']\n",
    "\n",
    "features_train_top10lr = features_train[features_top10_lr]\n",
    "features_val_top10lr = features_val[features_top10_lr]\n",
    "features_test_top10lr = features_test[features_top10_lr]\n",
    "\n",
    "lr_top7 = LogisticRegression(random_state=12345)\n",
    "lr_top7.fit(features_train_top10lr, target_train)\n",
    "metrics_lrtop7 = evaluate_model(lr_top7, features_train_top10lr, target_train, features_val_top10lr, target_val, features_test_top10lr, target_test)"
   ]
  },
  {
   "cell_type": "markdown",
   "metadata": {},
   "source": [
    "Tras comparar los resultados obtenidos al entrenar el modelo de regresión logística utilizando todas las variables versus solo las 10 variables más influyentes, se observa que los valores de las métricas son muy similares en ambos casos. Sin embargo, el modelo que incluye todas las variables muestra ligeramente mejores resultados en términos de precisión, F1-score y AUC-ROC en los tres subconjuntos (entrenamiento, validación y prueba).\n",
    "\n",
    "Con base en estos hallazgos, se concluye que utilizar el conjunto completo de características es más beneficioso para este modelo. Por lo tanto, a continuación se evaluarán diferentes valores del hiperparámetro C usando todas las variables, con el objetivo de optimizar aún más su desempeño."
   ]
  },
  {
   "cell_type": "markdown",
   "metadata": {},
   "source": [
    "#### Evaluación y optimización del modelo de Regresión Logística\n",
    "\n",
    "Para mejorar el rendimiento del modelo de regresión logística, se evaluaran distintos valores del hiperparámetro C, que controla la fuerza de la regularización (inversamente proporcional).\n",
    "\n",
    "Para cada valor de C, se calcularan seguiran calculando las tres métricas de desempeño en el conjunto de validación:\n",
    "\n",
    "Accuracy: proporción de predicciones correctas.\n",
    "\n",
    "F1-score: balance entre precisión y sensibilidad.\n",
    "\n",
    "AUC-ROC: capacidad del modelo para diferenciar entre clases.\n"
   ]
  },
  {
   "cell_type": "code",
   "execution_count": 70,
   "metadata": {},
   "outputs": [
    {
     "name": "stdout",
     "output_type": "stream",
     "text": [
      "\n",
      " Evaluando modelo con C = 1\n",
      "Accuracy: 0.7992, F1: 0.5843, AUC-ROC: 0.8334\n",
      "\n",
      " Evaluando modelo con C = 5\n",
      "Accuracy: 0.7973, F1: 0.5837, AUC-ROC: 0.8338\n",
      "\n",
      " Evaluando modelo con C = 7\n",
      "Accuracy: 0.7973, F1: 0.5837, AUC-ROC: 0.8338\n",
      "\n",
      " Evaluando modelo con C = 10\n",
      "Accuracy: 0.7973, F1: 0.5837, AUC-ROC: 0.8338\n",
      "\n",
      " Mejor modelo en validación:\n",
      "C: 10\n",
      "Accuracy: 0.7973\n",
      "F1: 0.5837\n",
      "AUC: 0.8338\n",
      "\n",
      "Entrenamiento\n",
      "Accuracy: 0.8059\n",
      "F1-score: 0.5912\n",
      "AUC-ROC: 0.8453\n",
      "\n",
      "Validación\n",
      "Accuracy: 0.7973\n",
      "F1-score: 0.5837\n",
      "AUC-ROC: 0.8338\n",
      "\n",
      "Prueba\n",
      "Accuracy: 0.7928\n",
      "F1-score: 0.6011\n",
      "AUC-ROC: 0.8273\n"
     ]
    }
   ],
   "source": [
    "best_auc_lr = 0\n",
    "best_model_lr = None\n",
    "best_metrics_lr = {}\n",
    "\n",
    "for c in [1, 5, 7, 10]:\n",
    "    print(f\"\\n Evaluando modelo con C = {c}\")\n",
    "    \n",
    "    model_lr_hipertop7 = LogisticRegression(random_state=12345, solver='liblinear', C=c)\n",
    "    model_lr_hipertop7.fit(features_train, target_train)\n",
    "\n",
    "    # Predicciones en validación\n",
    "    val_pred = model_lr_hipertop7.predict(features_val)\n",
    "    val_proba = model_lr_hipertop7.predict_proba(features_val)[:, 1]\n",
    "\n",
    "    # Métricas\n",
    "    acc_lr = accuracy_score(target_val, val_pred)\n",
    "    f1_lr = f1_score(target_val, val_pred)\n",
    "    auc_lr = roc_auc_score(target_val, val_proba)\n",
    "\n",
    "    print(f\"Accuracy: {acc_lr:.4f}, F1: {f1_lr:.4f}, AUC-ROC: {auc_lr:.4f}\")\n",
    "\n",
    "    # Guardar si es mejor\n",
    "    if auc_lr > best_auc_lr:\n",
    "        best_auc_lr = auc_lr\n",
    "        best_model_lr = model_lr_hipertop7\n",
    "        best_metrics_lr = {'C': c, 'Accuracy': acc_lr, 'F1': f1_lr, 'AUC': auc_lr}\n",
    "\n",
    "print(\"\\n Mejor modelo en validación:\")\n",
    "for k, v in best_metrics_lr.items():\n",
    "    print(f\"{k}: {v:.4f}\" if isinstance(v, float) else f\"{k}: {v}\")\n",
    "\n",
    "# Evaluarlo completamente con la función\n",
    "metrics_lr_hipertop7 = evaluate_model(best_model_lr,\n",
    "               features_train, target_train,\n",
    "               features_val, target_val,\n",
    "               features_test, target_test)"
   ]
  },
  {
   "cell_type": "markdown",
   "metadata": {},
   "source": [
    "Al comparar el modelo de regresión logística base (con parámetros por defecto) contra versiones ajustadas mediante el hiperparámetro C, se identificó que el valor C = 10 ofrece el mejor rendimiento general.\n",
    "\n",
    "AUC ROC paso de 0.8335 a 0.8338 en validación y de 0.8271 a 0.8273 en prueba. \n",
    "\n",
    "Este ajuste logró una ligera mejora en las métricas clave (especialmente AUC-ROC) en el conjunto de validación y prueba, en comparación con el modelo inicial.\n",
    "\n",
    "Por tanto, se concluye que entrenar la regresión logística con todas las variables originales y C = 10 es la configuración óptima"
   ]
  },
  {
   "cell_type": "markdown",
   "metadata": {},
   "source": [
    "### Modelo 2: DecisionTreeClassifier\n",
    "\n",
    "Este modelo toma decisiones dividiendo los datos según las características más relevantes."
   ]
  },
  {
   "cell_type": "code",
   "execution_count": 71,
   "metadata": {},
   "outputs": [
    {
     "name": "stdout",
     "output_type": "stream",
     "text": [
      "\n",
      "Entrenamiento\n",
      "Accuracy: 0.9002\n",
      "F1-score: 0.7953\n",
      "AUC-ROC: 0.9579\n",
      "\n",
      "Validación\n",
      "Accuracy: 0.8267\n",
      "F1-score: 0.6541\n",
      "AUC-ROC: 0.8301\n",
      "\n",
      "Prueba\n",
      "Accuracy: 0.8184\n",
      "F1-score: 0.6534\n",
      "AUC-ROC: 0.8419\n"
     ]
    }
   ],
   "source": [
    "#Entrenar modelo\n",
    "dtree = DecisionTreeClassifier(max_depth=10, random_state=12345)\n",
    "dtree.fit(features_train, target_train)\n",
    "metrics_dtree = evaluate_model(dtree, features_train, target_train, features_val, target_val, features_test, target_test)"
   ]
  },
  {
   "cell_type": "markdown",
   "metadata": {},
   "source": [
    "En nuestro primer entrenamiento del modelo DecisionTreeClassifier con una profundidad máxima (max_depth) de 10, obtuvimos un rendimiento muy competitivo:\n",
    "\n",
    "Entrenamiento: Accuracy de 0.9002, AUC-ROC de 0.9579 y F1-score de 0.7953, lo cual indica un modelo que se ajusta muy bien a los datos.\n",
    "\n",
    "Validación y prueba: Las métricas también fueron altas (AUC-ROC > 0.83), lo que sugiere que el modelo generaliza bien, aunque podría estar comenzando a sobreajustarse ligeramente."
   ]
  },
  {
   "cell_type": "markdown",
   "metadata": {},
   "source": [
    "#### Evaluación y optimización del modelo de Regresión Logística\n",
    "\n",
    "Para buscar posibles mejoras, vamos a identificar las características más influyentes mediante el atributo feature_importances_.\n",
    "Con base en ello, seleccionaremos las variables más importantes y entrenaremos un nuevo modelo utilizando únicamente dichas características."
   ]
  },
  {
   "cell_type": "code",
   "execution_count": 96,
   "metadata": {},
   "outputs": [
    {
     "data": {
      "image/png": "[encoded data removed]",
      "text/plain": [
       "<Figure size 800x600 with 1 Axes>"
      ]
     },
     "metadata": {},
     "output_type": "display_data"
    }
   ],
   "source": [
    "# Mostrar importancia de características\n",
    "importances = dtree.feature_importances_\n",
    "feature_names = features_train.columns\n",
    "sorted_idx = importances.argsort()\n",
    "\n",
    "plt.figure(figsize=(8,6))\n",
    "plt.barh(feature_names[sorted_idx], importances[sorted_idx], color='plum')\n",
    "plt.xlabel(\"Importancia\")\n",
    "plt.title(\"Importancia de características\")\n",
    "plt.tight_layout()\n",
    "plt.show()"
   ]
  },
  {
   "cell_type": "markdown",
   "metadata": {},
   "source": [
    "La visualización nos muestra que variables como total_charges, seniority_days y payment_method_Electronic check son las que más contribuyen a las decisiones del modelo.\n",
    "\n",
    "Con base en este análisis, seleccionaremos las variables más importantes (top 7, importancia>0.5) y entrenaremos nuevamente el modelo únicamente con estas características."
   ]
  },
  {
   "cell_type": "code",
   "execution_count": 73,
   "metadata": {},
   "outputs": [],
   "source": [
    "features_top7 = ['total_charges','seniority_days','payment_method_Electronic check','monthly_charges','type_Two year','internet_service_Fiber optic','type_One year']\n",
    "\n",
    "features_train_top7 = features_train[features_top7]\n",
    "features_val_top7 = features_val[features_top7]\n",
    "features_test_top7 = features_test[features_top7]"
   ]
  },
  {
   "cell_type": "code",
   "execution_count": 74,
   "metadata": {},
   "outputs": [
    {
     "name": "stdout",
     "output_type": "stream",
     "text": [
      "\n",
      "Entrenamiento\n",
      "Accuracy: 0.8966\n",
      "F1-score: 0.7877\n",
      "AUC-ROC: 0.9561\n",
      "\n",
      "Validación\n",
      "Accuracy: 0.8409\n",
      "F1-score: 0.6818\n",
      "AUC-ROC: 0.8495\n",
      "\n",
      "Prueba\n",
      "Accuracy: 0.8136\n",
      "F1-score: 0.6438\n",
      "AUC-ROC: 0.8446\n"
     ]
    }
   ],
   "source": [
    "#Entrenar modelo con top 7 de variables.\n",
    "dtree_top7 = DecisionTreeClassifier(max_depth=10, random_state=12345)\n",
    "dtree_top7.fit(features_train_top7, target_train)\n",
    "#Evaluación del modelo\n",
    "metrics_dtree_top7 = evaluate_model(dtree_top7, features_train_top7, target_train, features_val_top7, target_val, features_test_top7, target_test)"
   ]
  },
  {
   "cell_type": "markdown",
   "metadata": {},
   "source": [
    "Después de entrenar un modelo con todas las variables, probamos una versión más simple usando solo las 7 características más importantes. Aunque el rendimiento fue muy similar, el modelo con 7 variables logró ligeras mejoras en las métricas de validación y prueba.\n",
    "\n",
    "AUC-ROC: 0.8301 paso a 0.8495 para validación y de 0.8419 a 0.8446 en conjunto de prueba. \n",
    "\n",
    "Como es más simple y sigue dando buenos resultados, usaremos este conjunto de 7 variables para buscar los mejores hiperparámetros y así intentar mejorar aún más el modelo."
   ]
  },
  {
   "cell_type": "code",
   "execution_count": 75,
   "metadata": {},
   "outputs": [
    {
     "name": "stdout",
     "output_type": "stream",
     "text": [
      "Evaluando: max_depth=10, min_samples_leaf=5, class_weight=None\n",
      "Accuracy: 0.835, F1: 0.668, AUC-ROC: 0.851\n",
      "----------------------------------------\n",
      "Evaluando: max_depth=10, min_samples_leaf=5, class_weight=balanced\n",
      "Accuracy: 0.780, F1: 0.669, AUC-ROC: 0.875\n",
      "----------------------------------------\n",
      "Evaluando: max_depth=10, min_samples_leaf=10, class_weight=None\n",
      "Accuracy: 0.845, F1: 0.685, AUC-ROC: 0.858\n",
      "----------------------------------------\n",
      "Evaluando: max_depth=10, min_samples_leaf=10, class_weight=balanced\n",
      "Accuracy: 0.785, F1: 0.675, AUC-ROC: 0.875\n",
      "----------------------------------------\n",
      "Evaluando: max_depth=10, min_samples_leaf=15, class_weight=None\n",
      "Accuracy: 0.844, F1: 0.690, AUC-ROC: 0.860\n",
      "----------------------------------------\n",
      "Evaluando: max_depth=10, min_samples_leaf=15, class_weight=balanced\n",
      "Accuracy: 0.784, F1: 0.673, AUC-ROC: 0.878\n",
      "----------------------------------------\n",
      "Evaluando: max_depth=10, min_samples_leaf=20, class_weight=None\n",
      "Accuracy: 0.835, F1: 0.670, AUC-ROC: 0.868\n",
      "----------------------------------------\n",
      "Evaluando: max_depth=10, min_samples_leaf=20, class_weight=balanced\n",
      "Accuracy: 0.788, F1: 0.673, AUC-ROC: 0.876\n",
      "----------------------------------------\n",
      "Evaluando: max_depth=10, min_samples_leaf=25, class_weight=None\n",
      "Accuracy: 0.834, F1: 0.656, AUC-ROC: 0.866\n",
      "----------------------------------------\n",
      "Evaluando: max_depth=10, min_samples_leaf=25, class_weight=balanced\n",
      "Accuracy: 0.770, F1: 0.648, AUC-ROC: 0.868\n",
      "----------------------------------------\n",
      "Evaluando: max_depth=15, min_samples_leaf=5, class_weight=None\n",
      "Accuracy: 0.829, F1: 0.664, AUC-ROC: 0.838\n",
      "----------------------------------------\n",
      "Evaluando: max_depth=15, min_samples_leaf=5, class_weight=balanced\n",
      "Accuracy: 0.805, F1: 0.675, AUC-ROC: 0.859\n",
      "----------------------------------------\n",
      "Evaluando: max_depth=15, min_samples_leaf=10, class_weight=None\n",
      "Accuracy: 0.843, F1: 0.671, AUC-ROC: 0.851\n",
      "----------------------------------------\n",
      "Evaluando: max_depth=15, min_samples_leaf=10, class_weight=balanced\n",
      "Accuracy: 0.805, F1: 0.686, AUC-ROC: 0.871\n",
      "----------------------------------------\n",
      "Evaluando: max_depth=15, min_samples_leaf=15, class_weight=None\n",
      "Accuracy: 0.847, F1: 0.684, AUC-ROC: 0.858\n",
      "----------------------------------------\n",
      "Evaluando: max_depth=15, min_samples_leaf=15, class_weight=balanced\n",
      "Accuracy: 0.799, F1: 0.688, AUC-ROC: 0.883\n",
      "----------------------------------------\n",
      "Evaluando: max_depth=15, min_samples_leaf=20, class_weight=None\n",
      "Accuracy: 0.835, F1: 0.648, AUC-ROC: 0.862\n",
      "----------------------------------------\n",
      "Evaluando: max_depth=15, min_samples_leaf=20, class_weight=balanced\n",
      "Accuracy: 0.803, F1: 0.687, AUC-ROC: 0.878\n",
      "----------------------------------------\n",
      "Evaluando: max_depth=15, min_samples_leaf=25, class_weight=None\n",
      "Accuracy: 0.830, F1: 0.638, AUC-ROC: 0.864\n",
      "----------------------------------------\n",
      "Evaluando: max_depth=15, min_samples_leaf=25, class_weight=balanced\n",
      "Accuracy: 0.788, F1: 0.666, AUC-ROC: 0.875\n",
      "----------------------------------------\n",
      "Evaluando: max_depth=20, min_samples_leaf=5, class_weight=None\n",
      "Accuracy: 0.834, F1: 0.677, AUC-ROC: 0.842\n",
      "----------------------------------------\n",
      "Evaluando: max_depth=20, min_samples_leaf=5, class_weight=balanced\n",
      "Accuracy: 0.802, F1: 0.669, AUC-ROC: 0.854\n",
      "----------------------------------------\n",
      "Evaluando: max_depth=20, min_samples_leaf=10, class_weight=None\n",
      "Accuracy: 0.844, F1: 0.673, AUC-ROC: 0.852\n",
      "----------------------------------------\n",
      "Evaluando: max_depth=20, min_samples_leaf=10, class_weight=balanced\n",
      "Accuracy: 0.811, F1: 0.689, AUC-ROC: 0.873\n",
      "----------------------------------------\n",
      "Evaluando: max_depth=20, min_samples_leaf=15, class_weight=None\n",
      "Accuracy: 0.847, F1: 0.684, AUC-ROC: 0.858\n",
      "----------------------------------------\n",
      "Evaluando: max_depth=20, min_samples_leaf=15, class_weight=balanced\n",
      "Accuracy: 0.799, F1: 0.688, AUC-ROC: 0.884\n",
      "----------------------------------------\n",
      "Evaluando: max_depth=20, min_samples_leaf=20, class_weight=None\n",
      "Accuracy: 0.835, F1: 0.648, AUC-ROC: 0.862\n",
      "----------------------------------------\n",
      "Evaluando: max_depth=20, min_samples_leaf=20, class_weight=balanced\n",
      "Accuracy: 0.803, F1: 0.687, AUC-ROC: 0.879\n",
      "----------------------------------------\n",
      "Evaluando: max_depth=20, min_samples_leaf=25, class_weight=None\n",
      "Accuracy: 0.830, F1: 0.638, AUC-ROC: 0.864\n",
      "----------------------------------------\n",
      "Evaluando: max_depth=20, min_samples_leaf=25, class_weight=balanced\n",
      "Accuracy: 0.788, F1: 0.666, AUC-ROC: 0.876\n",
      "----------------------------------------\n",
      "Evaluando: max_depth=25, min_samples_leaf=5, class_weight=None\n",
      "Accuracy: 0.834, F1: 0.677, AUC-ROC: 0.842\n",
      "----------------------------------------\n",
      "Evaluando: max_depth=25, min_samples_leaf=5, class_weight=balanced\n",
      "Accuracy: 0.802, F1: 0.669, AUC-ROC: 0.854\n",
      "----------------------------------------\n",
      "Evaluando: max_depth=25, min_samples_leaf=10, class_weight=None\n",
      "Accuracy: 0.844, F1: 0.673, AUC-ROC: 0.852\n",
      "----------------------------------------\n",
      "Evaluando: max_depth=25, min_samples_leaf=10, class_weight=balanced\n",
      "Accuracy: 0.811, F1: 0.689, AUC-ROC: 0.873\n",
      "----------------------------------------\n",
      "Evaluando: max_depth=25, min_samples_leaf=15, class_weight=None\n",
      "Accuracy: 0.847, F1: 0.684, AUC-ROC: 0.858\n",
      "----------------------------------------\n",
      "Evaluando: max_depth=25, min_samples_leaf=15, class_weight=balanced\n",
      "Accuracy: 0.799, F1: 0.688, AUC-ROC: 0.884\n",
      "----------------------------------------\n",
      "Evaluando: max_depth=25, min_samples_leaf=20, class_weight=None\n",
      "Accuracy: 0.835, F1: 0.648, AUC-ROC: 0.862\n",
      "----------------------------------------\n",
      "Evaluando: max_depth=25, min_samples_leaf=20, class_weight=balanced\n",
      "Accuracy: 0.803, F1: 0.687, AUC-ROC: 0.879\n",
      "----------------------------------------\n",
      "Evaluando: max_depth=25, min_samples_leaf=25, class_weight=None\n",
      "Accuracy: 0.830, F1: 0.638, AUC-ROC: 0.864\n",
      "----------------------------------------\n",
      "Evaluando: max_depth=25, min_samples_leaf=25, class_weight=balanced\n",
      "Accuracy: 0.788, F1: 0.666, AUC-ROC: 0.876\n",
      "----------------------------------------\n",
      "Evaluando: max_depth=30, min_samples_leaf=5, class_weight=None\n",
      "Accuracy: 0.834, F1: 0.677, AUC-ROC: 0.842\n",
      "----------------------------------------\n",
      "Evaluando: max_depth=30, min_samples_leaf=5, class_weight=balanced\n",
      "Accuracy: 0.802, F1: 0.669, AUC-ROC: 0.854\n",
      "----------------------------------------\n",
      "Evaluando: max_depth=30, min_samples_leaf=10, class_weight=None\n",
      "Accuracy: 0.844, F1: 0.673, AUC-ROC: 0.852\n",
      "----------------------------------------\n",
      "Evaluando: max_depth=30, min_samples_leaf=10, class_weight=balanced\n",
      "Accuracy: 0.811, F1: 0.689, AUC-ROC: 0.873\n",
      "----------------------------------------\n",
      "Evaluando: max_depth=30, min_samples_leaf=15, class_weight=None\n",
      "Accuracy: 0.847, F1: 0.684, AUC-ROC: 0.858\n",
      "----------------------------------------\n",
      "Evaluando: max_depth=30, min_samples_leaf=15, class_weight=balanced\n",
      "Accuracy: 0.799, F1: 0.688, AUC-ROC: 0.884\n",
      "----------------------------------------\n",
      "Evaluando: max_depth=30, min_samples_leaf=20, class_weight=None\n",
      "Accuracy: 0.835, F1: 0.648, AUC-ROC: 0.862\n",
      "----------------------------------------\n",
      "Evaluando: max_depth=30, min_samples_leaf=20, class_weight=balanced\n",
      "Accuracy: 0.803, F1: 0.687, AUC-ROC: 0.879\n",
      "----------------------------------------\n",
      "Evaluando: max_depth=30, min_samples_leaf=25, class_weight=None\n",
      "Accuracy: 0.830, F1: 0.638, AUC-ROC: 0.864\n",
      "----------------------------------------\n",
      "Evaluando: max_depth=30, min_samples_leaf=25, class_weight=balanced\n",
      "Accuracy: 0.788, F1: 0.666, AUC-ROC: 0.876\n",
      "----------------------------------------\n",
      "\n",
      "Mejor combinación encontrada en Arbol de Decisión:\n",
      "max_depth: 20\n",
      "min_samples_leaf: 15\n",
      "class_weight: balanced\n",
      "accuracy: 0.7992424242424242\n",
      "f1: 0.688235294117647\n",
      "auc: 0.8839306623808977\n",
      "\n",
      "Entrenamiento\n",
      "Accuracy: 0.8450\n",
      "F1-score: 0.7524\n",
      "AUC-ROC: 0.9472\n",
      "\n",
      "Validación\n",
      "Accuracy: 0.7992\n",
      "F1-score: 0.6882\n",
      "AUC-ROC: 0.8839\n",
      "\n",
      "Prueba\n",
      "Accuracy: 0.7777\n",
      "F1-score: 0.6559\n",
      "AUC-ROC: 0.8637\n"
     ]
    }
   ],
   "source": [
    "# Hiperparámetros a evaluar\n",
    "depths = [10, 15, 20, 25, 30]\n",
    "leaves = [5, 10, 15, 20, 25]\n",
    "weights = [None, 'balanced']\n",
    "\n",
    "# Variables para guardar el mejor modelo y su puntuación\n",
    "best_auc_dtree = 0\n",
    "best_model_dtree = None\n",
    "best_params_dtree = {}\n",
    "\n",
    "# Bucle para explorar combinaciones\n",
    "for d in depths:\n",
    "    for l in leaves:\n",
    "        for w in weights:\n",
    "            print(f\"Evaluando: max_depth={d}, min_samples_leaf={l}, class_weight={w}\")\n",
    "\n",
    "            model_dtree_top7hip = DecisionTreeClassifier(\n",
    "                max_depth=d,\n",
    "                min_samples_leaf=l,\n",
    "                class_weight=w,\n",
    "                random_state=12345\n",
    "            )\n",
    "            model_dtree_top7hip.fit(features_train_top7, target_train)\n",
    "            preds = model_dtree_top7hip.predict(features_val_top7)\n",
    "            proba = model_dtree_top7hip.predict_proba(features_val_top7)[:, 1]\n",
    "\n",
    "            acc_dtree = accuracy_score(target_val, preds)\n",
    "            f1_dtree = f1_score(target_val, preds)\n",
    "            auc_dtree = roc_auc_score(target_val, proba)\n",
    "\n",
    "            print(f\"Accuracy: {acc_dtree:.3f}, F1: {f1_dtree:.3f}, AUC-ROC: {auc_dtree:.3f}\")\n",
    "            print(\"-\"*40)\n",
    "\n",
    "            if auc_dtree > best_auc_dtree:\n",
    "                best_auc_dtree = auc_dtree\n",
    "                best_model_dtree = model_dtree_top7hip\n",
    "                best_params_dtree = {\n",
    "                    'max_depth': d,\n",
    "                    'min_samples_leaf': l,\n",
    "                    'class_weight': w,\n",
    "                    'accuracy': acc_dtree,\n",
    "                    'f1': f1_dtree,\n",
    "                    'auc': auc_dtree\n",
    "                }\n",
    "\n",
    "# Mostrar el mejor modelo\n",
    "print(\"\\nMejor combinación encontrada en Arbol de Decisión:\")\n",
    "for k, v in best_params_dtree.items():\n",
    "    print(f\"{k}: {v}\")\n",
    "\n",
    "# Evaluar el mejor modelo con la función completa\n",
    "metrics_dtree_top7hip = evaluate_model(\n",
    "    best_model_dtree,\n",
    "    features_train_top7, target_train,\n",
    "    features_val_top7, target_val,\n",
    "    features_test_top7, target_test\n",
    ")\n"
   ]
  },
  {
   "cell_type": "markdown",
   "metadata": {},
   "source": [
    "Después de probar diferentes configuraciones, el mejor rendimiento se logró al usar únicamente las 7 variables más importantes, combinadas con el ajuste de hiperparámetros (max_depth=20, min_samples_leaf=15, class_weight='balanced'), se logro una mejora clara:\n",
    "\n",
    "Validación: AUC-ROC pasó de 0.8301 a 0.8839\n",
    "\n",
    "Prueba: AUC-ROC mejoró de 0.8419 a 0.8637\n",
    "\n",
    "También mejoraron el F1-score y accuracy de validación y prueba\n",
    "\n",
    "Este modelo superó en AUC-ROC, F1 y accuracy tanto al modelo base como al que usaba todas las variables."
   ]
  },
  {
   "cell_type": "markdown",
   "metadata": {},
   "source": [
    "## Modelo 3: Random Forest\n",
    "\n",
    "Tras evaluar la importancia de las variables en el modelo anterior, reutilizaremos las 7 características más influyentes para entrenar un modelo de Random Forest. Este algoritmo de ensamblado combina múltiples árboles de decisión para mejorar la capacidad predictiva y reducir el sobreajuste.\n",
    "\n",
    "El objetivo es comparar su rendimiento con los modelos anteriores y explorar posibles mejoras mediante el ajuste de hiperparámetros."
   ]
  },
  {
   "cell_type": "markdown",
   "metadata": {},
   "source": [
    "Entrenamiento inicial con Random Forest\n",
    "\n",
    "Entrenaremos un modelo de Random Forest utilizando todas las variables disponibles, sin ajustes adicionales en sus hiperparámetros. Este primer entrenamiento servirá como línea base para comparar el rendimiento del modelo antes de realizar ajustes y optimizaciones."
   ]
  },
  {
   "cell_type": "code",
   "execution_count": 76,
   "metadata": {},
   "outputs": [
    {
     "name": "stdout",
     "output_type": "stream",
     "text": [
      "\n",
      "Entrenamiento\n",
      "Accuracy: 0.8980\n",
      "F1-score: 0.7857\n",
      "AUC-ROC: 0.9690\n",
      "\n",
      "Validación\n",
      "Accuracy: 0.8409\n",
      "F1-score: 0.6599\n",
      "AUC-ROC: 0.8700\n",
      "\n",
      "Prueba\n",
      "Accuracy: 0.8117\n",
      "F1-score: 0.6151\n",
      "AUC-ROC: 0.8714\n"
     ]
    }
   ],
   "source": [
    "#Entrenar modelo\n",
    "random_f = RandomForestClassifier(n_estimators=50, max_depth=10, random_state=12345)\n",
    "random_f.fit(features_train, target_train)\n",
    "\n",
    "#Evaluación del modelo\n",
    "metrics_ramdom_f = evaluate_model(random_f, features_train, target_train, features_val, target_val, features_test, target_test)"
   ]
  },
  {
   "cell_type": "markdown",
   "metadata": {},
   "source": [
    " El modelo obtuvo un buen rendimiento general, destacando especialmente en el conjunto de entrenamiento con un AUC-ROC de 0.9690 y un F1-score de 0.7857. Sin embargo, se observa una ligera caída en las métricas sobre los conjuntos de validación y prueba, lo que sugiere que aún hay espacio para optimización."
   ]
  },
  {
   "cell_type": "markdown",
   "metadata": {},
   "source": [
    "#### Evaluación y optimización del modelo de Regresión Logística\n",
    "\n",
    "En esta segunda fase, reutilizaremos las 7 variables más importantes previamente identificadas para entrenar un modelo de Random Forest. Esta selección busca reducir la complejidad del modelo y optimizar el uso de recursos computacionales, sin sacrificar el rendimiento. Entrenaremos el modelo utilizando únicamente estas variables, manteniendo los parámetros básicos como punto de partida, para después evaluar si se obtienen mejoras en las métricas.\n"
   ]
  },
  {
   "cell_type": "code",
   "execution_count": 77,
   "metadata": {},
   "outputs": [
    {
     "name": "stdout",
     "output_type": "stream",
     "text": [
      "\n",
      "Entrenamiento\n",
      "Accuracy: 0.9057\n",
      "F1-score: 0.7991\n",
      "AUC-ROC: 0.9716\n",
      "\n",
      "Validación\n",
      "Accuracy: 0.8589\n",
      "F1-score: 0.7014\n",
      "AUC-ROC: 0.8911\n",
      "\n",
      "Prueba\n",
      "Accuracy: 0.8373\n",
      "F1-score: 0.6680\n",
      "AUC-ROC: 0.8967\n"
     ]
    }
   ],
   "source": [
    "#Entrenar modelo con top 7 variables.\n",
    "random_f_top7 = RandomForestClassifier(n_estimators=50, max_depth=10, random_state=12345)\n",
    "random_f_top7.fit(features_train_top7, target_train)\n",
    "#Evaluación del modelo. \n",
    "metrics_random_f_top7 = evaluate_model(random_f_top7, features_train_top7, target_train, features_val_top7, target_val, features_test_top7, target_test)"
   ]
  },
  {
   "cell_type": "markdown",
   "metadata": {},
   "source": [
    "A pesar de la reducción de variables, el modelo mostró un excelente desempeño general, superando incluso al modelo entrenado con todas las variables.\n",
    "\n",
    "**AUC ROC mejoro de 87.00 a 89.11 en conjunto de validación y de 87.14 a 89.67 en el conjunto de prueba.**\n",
    "\n",
    "Por ello, tomaremos este modelo como base para ajustar hiperparámetros en el siguiente paso."
   ]
  },
  {
   "cell_type": "code",
   "execution_count": 78,
   "metadata": {},
   "outputs": [
    {
     "name": "stdout",
     "output_type": "stream",
     "text": [
      "max_depth=8, min_samples_leaf=5, AUC=0.8786, F1=0.6449\n",
      "max_depth=8, min_samples_leaf=10, AUC=0.8743, F1=0.6446\n",
      "max_depth=8, min_samples_leaf=15, AUC=0.8724, F1=0.6343\n",
      "max_depth=10, min_samples_leaf=5, AUC=0.8833, F1=0.6867\n",
      "max_depth=10, min_samples_leaf=10, AUC=0.8810, F1=0.6788\n",
      "max_depth=10, min_samples_leaf=15, AUC=0.8761, F1=0.6614\n",
      "max_depth=12, min_samples_leaf=5, AUC=0.8874, F1=0.6931\n",
      "max_depth=12, min_samples_leaf=10, AUC=0.8824, F1=0.6918\n",
      "max_depth=12, min_samples_leaf=15, AUC=0.8761, F1=0.6654\n",
      "\n",
      " Mejor combinación encontrada en Random Forest:\n",
      "max_depth: 12\n",
      "min_samples_leaf: 5\n",
      "AUC: 0.8874\n",
      "F1: 0.6931\n",
      "\n",
      "Entrenamiento\n",
      "Accuracy: 0.9037\n",
      "F1-score: 0.7945\n",
      "AUC-ROC: 0.9610\n",
      "\n",
      "Validación\n",
      "Accuracy: 0.8532\n",
      "F1-score: 0.6931\n",
      "AUC-ROC: 0.8874\n",
      "\n",
      "Prueba\n",
      "Accuracy: 0.8382\n",
      "F1-score: 0.6743\n",
      "AUC-ROC: 0.8918\n"
     ]
    }
   ],
   "source": [
    "depths_rf = [8, 10, 12]\n",
    "leaves_rf = [5, 10, 15]\n",
    "best_auc_rf = 0\n",
    "best_model_rf = None\n",
    "best_params_rf = {}\n",
    "\n",
    "for d in depths_rf:\n",
    "    for l in leaves_rf:\n",
    "        rf_hiper_top7 = RandomForestClassifier(\n",
    "            n_estimators=150,\n",
    "            max_depth=d,\n",
    "            min_samples_leaf=l,\n",
    "            random_state=12345\n",
    "        )\n",
    "        rf_hiper_top7.fit(features_train_top7, target_train)\n",
    "        proba = rf_hiper_top7.predict_proba(features_val_top7)[:, 1]\n",
    "        pred = rf_hiper_top7.predict(features_val_top7)\n",
    "        auc_rf = roc_auc_score(target_val, proba)\n",
    "        f1_rf = f1_score(target_val, pred)\n",
    "        \n",
    "        print(f\"max_depth={d}, min_samples_leaf={l}, AUC={auc_rf:.4f}, F1={f1_rf:.4f}\")\n",
    "        \n",
    "        if auc_rf > best_auc_rf:\n",
    "            best_auc_rf = auc_rf\n",
    "            best_model_rf = rf_hiper_top7\n",
    "            best_params_rf = {'max_depth': d, 'min_samples_leaf': l, 'AUC': auc_rf, 'F1': f1_rf}\n",
    "\n",
    "# Mostrar mejor combinación\n",
    "print(\"\\n Mejor combinación encontrada en Random Forest:\")\n",
    "for k, v in best_params_rf.items():\n",
    "    print(f\"{k}: {v:.4f}\" if isinstance(v, float) else f\"{k}: {v}\")\n",
    "\n",
    "# Evaluar el mejor modelo completamente\n",
    "metrics_rf_hiper_top7 = evaluate_model(best_model_rf,\n",
    "               features_train_top7, target_train,\n",
    "               features_val_top7, target_val,\n",
    "               features_test_top7, target_test)"
   ]
  },
  {
   "cell_type": "markdown",
   "metadata": {},
   "source": [
    "Después de realizar una búsqueda de hiperparámetros, encontramos que la mejor combinación fue max_depth=12 y min_samples_leaf=5.\n",
    "\n",
    "El modelo resultante mostró un excelente rendimiento:\n",
    "\n",
    "AUC-ROC en prueba: 0.8918, superando el umbral objetivo de 0.88.\n",
    "Accuracy en prueba: 0.8382 y F1-score: 0.6743, lo cual indica un buen equilibrio entre precisión y recall.\n",
    "\n",
    "Las métricas de validación y prueba son bastante cercanas a las de entrenamiento, lo que sugiere que el modelo generaliza adecuadamente y no presenta signos evidentes de sobreajuste.\n",
    "Además de su buen desempeño, este modelo tiene la ventaja de ser más eficiente al estar entrenado únicamente con las variables más relevantes.\n",
    "Por estas razones, considero que esta versión ajustada del modelo de Random Forest es una de las más robustas hasta el momento."
   ]
  },
  {
   "cell_type": "markdown",
   "metadata": {},
   "source": [
    "## Modelo 4: LightGBM\n",
    "A continuación, entrenaremos un modelo con LightGBM, un algoritmo de boosting que utiliza árboles de decisión y está optimizado para eficiencia y velocidad. Es especialmente útil cuando se trabaja con grandes volúmenes de datos o conjuntos con muchas características.\n",
    "\n",
    "El objetivo es comparar su rendimiento con los modelos anteriores y explorar posibles mejoras a través del análisis de características e hiperparámetros."
   ]
  },
  {
   "cell_type": "markdown",
   "metadata": {},
   "source": [
    "**Entrenamiento inicial con todas las variables**\n",
    "\n",
    "El primer entrenamiento se realizará utilizando todas las variables disponibles, sin ajustes adicionales en los hiperparámetros del modelo.\n",
    "Este entrenamiento servirá como línea base para comparar el rendimiento del modelo antes de aplicar técnicas de selección de características u optimización de parámetros."
   ]
  },
  {
   "cell_type": "code",
   "execution_count": 79,
   "metadata": {},
   "outputs": [
    {
     "name": "stdout",
     "output_type": "stream",
     "text": [
      "\n",
      "Entrenamiento\n",
      "Accuracy: 0.9221\n",
      "F1-score: 0.8325\n",
      "AUC-ROC: 0.9718\n",
      "\n",
      "Validación\n",
      "Accuracy: 0.8741\n",
      "F1-score: 0.7188\n",
      "AUC-ROC: 0.9131\n",
      "\n",
      "Prueba\n",
      "Accuracy: 0.8713\n",
      "F1-score: 0.7269\n",
      "AUC-ROC: 0.9242\n"
     ]
    }
   ],
   "source": [
    "#Entrenar modelo\n",
    "lgbm = LGBMClassifier(n_estimators=100, learning_rate=0.1, max_depth=5, random_state=12345)\n",
    "lgbm.fit(features_train, target_train)\n",
    "\n",
    "#Evaluación del modelo\n",
    "metrics_lgbm = evaluate_model(lgbm, features_train, target_train, features_val, target_val, features_test, target_test)"
   ]
  },
  {
   "cell_type": "markdown",
   "metadata": {},
   "source": [
    "El modelo mostró un buen rendimiento, con un F1-score superior a 0.70 y un AUC-ROC por encima de 0.92 en el conjunto de prueba.\n",
    "\n",
    "Sin embargo, se observa un ligero sobreajuste, evidenciado por el desempeño más alto en entrenamiento en comparación con validación y prueba. Se explorará si este comportamiento mejora al utilizar únicamente las 7 variables más relevantes."
   ]
  },
  {
   "cell_type": "markdown",
   "metadata": {},
   "source": [
    "#### Evaluación y optimización del modelo de Regresión Logística\n",
    "\n",
    "Se reutilizan las 7 características más influyentes identificadas previamente para entrenar el modelo LightGBM. El objetivo es evaluar si al reducir el número de variables, el modelo logra mejorar la generalización y reducir el sobreajuste, manteniendo o incluso superando su rendimiento en validación y prueba.\n",
    "\n",
    "Se utilizarán los mismos hiperparámetros del primer experimento (n_estimators=100, learning_rate=0.1, max_depth=6) como base de comparación."
   ]
  },
  {
   "cell_type": "code",
   "execution_count": 80,
   "metadata": {},
   "outputs": [
    {
     "name": "stdout",
     "output_type": "stream",
     "text": [
      "\n",
      "Entrenamiento\n",
      "Accuracy: 0.9316\n",
      "F1-score: 0.8540\n",
      "AUC-ROC: 0.9803\n",
      "\n",
      "Validación\n",
      "Accuracy: 0.8854\n",
      "F1-score: 0.7546\n",
      "AUC-ROC: 0.9248\n",
      "\n",
      "Prueba\n",
      "Accuracy: 0.8921\n",
      "F1-score: 0.7747\n",
      "AUC-ROC: 0.9376\n"
     ]
    }
   ],
   "source": [
    "# Entrenar modelo con top 7 variables\n",
    "lgbm_top7 = LGBMClassifier(n_estimators=100, learning_rate=0.1, max_depth=6, random_state=12345)\n",
    "lgbm_top7.fit(features_train_top7, target_train)\n",
    "\n",
    "# Evaluación del modelo\n",
    "metrics_lgbm_top7 = evaluate_model(\n",
    "    lgbm_top7,\n",
    "    features_train_top7, target_train,\n",
    "    features_val_top7, target_val,\n",
    "    features_test_top7, target_test)"
   ]
  },
  {
   "cell_type": "markdown",
   "metadata": {},
   "source": [
    "Al entrenar el modelo con las 7 variables más importantes, observamos un mejor desempeño en los conjuntos de validación y prueba respecto al modelo base que utilizó todas las variables. En particular:\n",
    "\n",
    "El F1-score en prueba aumentó de 0.7505 a 0.7747, lo cual indica una mejora en el equilibrio entre precisión y recall.\n",
    "\n",
    "El AUC-ROC en prueba también mejoró de 0.9270 a 0.9376, confirmando que el modelo es más eficaz diferenciando entre las clases.\n",
    "\n",
    "Además, se observa una reducción del sobreajuste, ya que la diferencia entre las métricas de entrenamiento y prueba se volvió más estrecha.\n",
    "\n",
    "Tomaremos este modelo como base para ajustar hiperparámetros en el siguiente paso."
   ]
  },
  {
   "cell_type": "code",
   "execution_count": 81,
   "metadata": {},
   "outputs": [
    {
     "name": "stdout",
     "output_type": "stream",
     "text": [
      "[LightGBM] [Warning] min_data_in_leaf is set with min_samples_leaf=20, min_child_samples=20 will be ignored. Current value: min_data_in_leaf=20\n",
      "max_depth=6, min_samples_leaf=20, learning_rate=0.1, AUC=0.9367, F1=0.7856\n",
      "[LightGBM] [Warning] min_data_in_leaf is set with min_samples_leaf=20, min_child_samples=20 will be ignored. Current value: min_data_in_leaf=20\n",
      "max_depth=6, min_samples_leaf=20, learning_rate=0.05, AUC=0.9251, F1=0.7556\n",
      "[LightGBM] [Warning] min_data_in_leaf is set with min_samples_leaf=20, min_child_samples=20 will be ignored. Current value: min_data_in_leaf=20\n",
      "max_depth=6, min_samples_leaf=20, learning_rate=0.01, AUC=0.8884, F1=0.6332\n",
      "[LightGBM] [Warning] min_data_in_leaf is set with min_samples_leaf=25, min_child_samples=20 will be ignored. Current value: min_data_in_leaf=25\n",
      "max_depth=6, min_samples_leaf=25, learning_rate=0.1, AUC=0.9361, F1=0.7937\n",
      "[LightGBM] [Warning] min_data_in_leaf is set with min_samples_leaf=25, min_child_samples=20 will be ignored. Current value: min_data_in_leaf=25\n",
      "max_depth=6, min_samples_leaf=25, learning_rate=0.05, AUC=0.9214, F1=0.7598\n",
      "[LightGBM] [Warning] min_data_in_leaf is set with min_samples_leaf=25, min_child_samples=20 will be ignored. Current value: min_data_in_leaf=25\n",
      "max_depth=6, min_samples_leaf=25, learning_rate=0.01, AUC=0.8874, F1=0.6261\n",
      "[LightGBM] [Warning] min_data_in_leaf is set with min_samples_leaf=30, min_child_samples=20 will be ignored. Current value: min_data_in_leaf=30\n",
      "max_depth=6, min_samples_leaf=30, learning_rate=0.1, AUC=0.9361, F1=0.7863\n",
      "[LightGBM] [Warning] min_data_in_leaf is set with min_samples_leaf=30, min_child_samples=20 will be ignored. Current value: min_data_in_leaf=30\n",
      "max_depth=6, min_samples_leaf=30, learning_rate=0.05, AUC=0.9203, F1=0.7714\n",
      "[LightGBM] [Warning] min_data_in_leaf is set with min_samples_leaf=30, min_child_samples=20 will be ignored. Current value: min_data_in_leaf=30\n",
      "max_depth=6, min_samples_leaf=30, learning_rate=0.01, AUC=0.8854, F1=0.6261\n",
      "[LightGBM] [Warning] min_data_in_leaf is set with min_samples_leaf=20, min_child_samples=20 will be ignored. Current value: min_data_in_leaf=20\n",
      "max_depth=8, min_samples_leaf=20, learning_rate=0.1, AUC=0.9373, F1=0.7886\n",
      "[LightGBM] [Warning] min_data_in_leaf is set with min_samples_leaf=20, min_child_samples=20 will be ignored. Current value: min_data_in_leaf=20\n",
      "max_depth=8, min_samples_leaf=20, learning_rate=0.05, AUC=0.9274, F1=0.7658\n",
      "[LightGBM] [Warning] min_data_in_leaf is set with min_samples_leaf=20, min_child_samples=20 will be ignored. Current value: min_data_in_leaf=20\n",
      "max_depth=8, min_samples_leaf=20, learning_rate=0.01, AUC=0.8979, F1=0.6725\n",
      "[LightGBM] [Warning] min_data_in_leaf is set with min_samples_leaf=25, min_child_samples=20 will be ignored. Current value: min_data_in_leaf=25\n",
      "max_depth=8, min_samples_leaf=25, learning_rate=0.1, AUC=0.9422, F1=0.7952\n",
      "[LightGBM] [Warning] min_data_in_leaf is set with min_samples_leaf=25, min_child_samples=20 will be ignored. Current value: min_data_in_leaf=25\n",
      "max_depth=8, min_samples_leaf=25, learning_rate=0.05, AUC=0.9297, F1=0.7742\n",
      "[LightGBM] [Warning] min_data_in_leaf is set with min_samples_leaf=25, min_child_samples=20 will be ignored. Current value: min_data_in_leaf=25\n",
      "max_depth=8, min_samples_leaf=25, learning_rate=0.01, AUC=0.8959, F1=0.6826\n",
      "[LightGBM] [Warning] min_data_in_leaf is set with min_samples_leaf=30, min_child_samples=20 will be ignored. Current value: min_data_in_leaf=30\n",
      "max_depth=8, min_samples_leaf=30, learning_rate=0.1, AUC=0.9398, F1=0.7920\n",
      "[LightGBM] [Warning] min_data_in_leaf is set with min_samples_leaf=30, min_child_samples=20 will be ignored. Current value: min_data_in_leaf=30\n",
      "max_depth=8, min_samples_leaf=30, learning_rate=0.05, AUC=0.9285, F1=0.7742\n",
      "[LightGBM] [Warning] min_data_in_leaf is set with min_samples_leaf=30, min_child_samples=20 will be ignored. Current value: min_data_in_leaf=30\n",
      "max_depth=8, min_samples_leaf=30, learning_rate=0.01, AUC=0.8947, F1=0.6696\n",
      "[LightGBM] [Warning] min_data_in_leaf is set with min_samples_leaf=20, min_child_samples=20 will be ignored. Current value: min_data_in_leaf=20\n",
      "max_depth=10, min_samples_leaf=20, learning_rate=0.1, AUC=0.9392, F1=0.7816\n",
      "[LightGBM] [Warning] min_data_in_leaf is set with min_samples_leaf=20, min_child_samples=20 will be ignored. Current value: min_data_in_leaf=20\n",
      "max_depth=10, min_samples_leaf=20, learning_rate=0.05, AUC=0.9313, F1=0.7699\n",
      "[LightGBM] [Warning] min_data_in_leaf is set with min_samples_leaf=20, min_child_samples=20 will be ignored. Current value: min_data_in_leaf=20\n",
      "max_depth=10, min_samples_leaf=20, learning_rate=0.01, AUC=0.8969, F1=0.6940\n",
      "[LightGBM] [Warning] min_data_in_leaf is set with min_samples_leaf=25, min_child_samples=20 will be ignored. Current value: min_data_in_leaf=25\n",
      "max_depth=10, min_samples_leaf=25, learning_rate=0.1, AUC=0.9391, F1=0.7945\n",
      "[LightGBM] [Warning] min_data_in_leaf is set with min_samples_leaf=25, min_child_samples=20 will be ignored. Current value: min_data_in_leaf=25\n",
      "max_depth=10, min_samples_leaf=25, learning_rate=0.05, AUC=0.9294, F1=0.7711\n",
      "[LightGBM] [Warning] min_data_in_leaf is set with min_samples_leaf=25, min_child_samples=20 will be ignored. Current value: min_data_in_leaf=25\n",
      "max_depth=10, min_samples_leaf=25, learning_rate=0.01, AUC=0.8967, F1=0.6981\n",
      "[LightGBM] [Warning] min_data_in_leaf is set with min_samples_leaf=30, min_child_samples=20 will be ignored. Current value: min_data_in_leaf=30\n",
      "max_depth=10, min_samples_leaf=30, learning_rate=0.1, AUC=0.9407, F1=0.7897\n",
      "[LightGBM] [Warning] min_data_in_leaf is set with min_samples_leaf=30, min_child_samples=20 will be ignored. Current value: min_data_in_leaf=30\n",
      "max_depth=10, min_samples_leaf=30, learning_rate=0.05, AUC=0.9286, F1=0.7830\n",
      "[LightGBM] [Warning] min_data_in_leaf is set with min_samples_leaf=30, min_child_samples=20 will be ignored. Current value: min_data_in_leaf=30\n",
      "max_depth=10, min_samples_leaf=30, learning_rate=0.01, AUC=0.8953, F1=0.6983\n",
      "\n",
      "Mejor combinación encontrada en LightGBM:\n",
      "max_depth: 8\n",
      "min_samples_leaf: 25\n",
      "learning_rate: 0.1000\n",
      "AUC: 0.9422\n",
      "F1: 0.7952\n",
      "\n",
      "Entrenamiento\n",
      "Accuracy: 0.9738\n",
      "F1-score: 0.9481\n",
      "AUC-ROC: 0.9981\n",
      "\n",
      "Validación\n",
      "Accuracy: 0.9025\n",
      "F1-score: 0.7952\n",
      "AUC-ROC: 0.9422\n",
      "\n",
      "Prueba\n",
      "Accuracy: 0.9092\n",
      "F1-score: 0.8195\n",
      "AUC-ROC: 0.9480\n"
     ]
    }
   ],
   "source": [
    "depths_lgbm = [6, 8, 10]\n",
    "leaves_lgbm = [20, 25, 30]\n",
    "learning_rates = [0.1, 0.05, 0.01]\n",
    "\n",
    "best_auc_lgbm = 0\n",
    "best_model_lgbm = None\n",
    "best_params_lgbm = {}\n",
    "\n",
    "for d in depths_lgbm:\n",
    "    for l in leaves_lgbm:\n",
    "        for lr in learning_rates:\n",
    "            lgbm_top7hip = LGBMClassifier(\n",
    "                n_estimators=200,              \n",
    "                max_depth=d,\n",
    "                min_samples_leaf=l,\n",
    "                learning_rate=lr,\n",
    "                random_state=12345\n",
    "            )\n",
    "            \n",
    "            lgbm_top7hip.fit(features_train_top7, target_train)\n",
    "            proba = lgbm_top7hip.predict_proba(features_val_top7)[:, 1]\n",
    "            pred = lgbm_top7hip.predict(features_val_top7)\n",
    "            auc_lgbm = roc_auc_score(target_val, proba)\n",
    "            f1_lgbm = f1_score(target_val, pred)\n",
    "        \n",
    "            print(f\"max_depth={d}, min_samples_leaf={l}, learning_rate={lr}, AUC={auc_lgbm:.4f}, F1={f1_lgbm:.4f}\")\n",
    "        \n",
    "            if auc_lgbm > best_auc_lgbm:\n",
    "                best_auc_lgbm = auc_lgbm\n",
    "                best_model_lgbm = lgbm_top7hip\n",
    "                best_params_lgbm = {\n",
    "                    'max_depth': d,\n",
    "                    'min_samples_leaf': l,\n",
    "                    'learning_rate': lr,\n",
    "                    'AUC': auc_lgbm,\n",
    "                    'F1': f1_lgbm\n",
    "                }\n",
    "\n",
    "# Mostrar mejor combinación\n",
    "print(\"\\nMejor combinación encontrada en LightGBM:\")\n",
    "for k, v in best_params_lgbm.items():\n",
    "    print(f\"{k}: {v:.4f}\" if isinstance(v, float) else f\"{k}: {v}\")\n",
    "\n",
    "# Evaluar el mejor modelo completamente\n",
    "metrics_lgbm_top7hip = evaluate_model(\n",
    "    best_model_lgbm,\n",
    "    features_train_top7, target_train,\n",
    "    features_val_top7, target_val,\n",
    "    features_test_top7, target_test\n",
    ")"
   ]
  },
  {
   "cell_type": "markdown",
   "metadata": {},
   "source": [
    "Tras el ajuste de hiperparámetros, se entrenó un modelo de LightGBM con los siguientes parámetros:\n",
    "\n",
    "- `max_depth`: 8  \n",
    "- `min_samples_leaf`: 25  \n",
    "- `learning_rate`: 0.1  \n",
    "\n",
    "Este modelo obtuvo un excelente rendimiento en todos los conjuntos, destacando un AUC-ROC de **0.9480** y un F1-score de **0.8195** en el conjunto de prueba, lo que indica una muy buena capacidad de generalización.\n",
    "\n",
    "Estos resultados reflejan un equilibrio sólido entre precisión y robustez, por lo que se selecciona este modelo como el más adecuado para el problema planteado.\n"
   ]
  },
  {
   "cell_type": "markdown",
   "metadata": {},
   "source": [
    "## Modelo 5: Catboost\n",
    "\n",
    "Como modelo final entrenaremos un modelo **CatBoost**, un algoritmo de gradient boosting desarrollado para manejar de forma eficiente variables categóricas sin necesidad de codificación explícita. Este modelo es conocido por su robustez frente al sobreajuste y por requerir un preprocesamiento mínimo.\n",
    "\n",
    "Este modelo es especialmente relevante para nuestro caso, ya que permite trabajar directamente con las variables categóricas del conjunto de datos sin transformaciones previas complejas. Esto puede ayudar a preservar relaciones importantes entre categorías y mejorar la precisión del modelo. Además, su rendimiento competitivo y facilidad de uso lo convierten en una excelente opción para problemas de clasificación como el presente."
   ]
  },
  {
   "cell_type": "markdown",
   "metadata": {},
   "source": [
    "### Preparación de datos para CatBoost\n",
    "\n",
    "Para entrenar el modelo CatBoost, utilizaremos una copia del dataframe maestro que fue creada antes de procesar las variables categóricas, ya que este modelo puede manejar variables categóricas en su forma original (tipo object), sin necesidad de codificarlas manualmente.\n",
    "\n",
    "En este paso:\n",
    "\n",
    "    - Se separarán las características y la variable objetivo (exited).\n",
    "\n",
    "    - Se dividirá el conjunto en entrenamiento, validación y prueba.\n",
    "\n",
    "    - Se identificarán las columnas categóricas que serán indicadas al modelo.\n",
    "\n",
    "Esta preparación permitirá aprovechar al máximo las capacidades internas de CatBoost para manejar datos categóricos de forma eficiente."
   ]
  },
  {
   "cell_type": "code",
   "execution_count": 82,
   "metadata": {},
   "outputs": [
    {
     "name": "stdout",
     "output_type": "stream",
     "text": [
      "Columnas categóricas: ['type', 'paperless_billing', 'payment_method', 'gender', 'partner', 'dependents', 'internet_service', 'online_security', 'online_backup', 'device_protection', 'tech_support', 'streaming_tv', 'streaming_movies', 'multiple_lines']\n"
     ]
    }
   ],
   "source": [
    "# Definimos variables y objetivo.\n",
    "features_cboost = df_mastercopy.drop(columns=['customer_id', 'exited','begin_date'])\n",
    "target_cboost = df_mastercopy['exited']\n",
    "\n",
    "#Indetificamos columnas categoricas\n",
    "cat_features = features_cboost.select_dtypes(include='object').columns.tolist()\n",
    "cat_feature_indices = [features_cboost.columns.get_loc(col) for col in cat_features]\n",
    "\n",
    "#Mostramos columnas categóricas reconocidas por CatBoost\n",
    "print(\"Columnas categóricas:\", cat_features)"
   ]
  },
  {
   "cell_type": "code",
   "execution_count": 83,
   "metadata": {},
   "outputs": [],
   "source": [
    "#separamos conjunto de entrenamiento, validación y prueba.\n",
    "X_cb_train, X_cb_temp, y_cb_train, y_cb_temp = train_test_split(features_cboost, target_cboost, test_size=0.4, random_state=12345)\n",
    "X_cb_val, X_cb_test, y_cb_val, y_cb_test = train_test_split(X_cb_temp, y_cb_temp, test_size=0.5, random_state=12345)"
   ]
  },
  {
   "cell_type": "markdown",
   "metadata": {},
   "source": [
    "### Entrenamiento de modelo"
   ]
  },
  {
   "cell_type": "code",
   "execution_count": 90,
   "metadata": {},
   "outputs": [
    {
     "name": "stdout",
     "output_type": "stream",
     "text": [
      "Learning rate set to 0.019062\n",
      "0:\tlearn: 0.6849287\ttotal: 3.6ms\tremaining: 3.6s\n",
      "200:\tlearn: 0.4550438\ttotal: 505ms\tremaining: 2.01s\n",
      "400:\tlearn: 0.4312280\ttotal: 998ms\tremaining: 1.49s\n",
      "600:\tlearn: 0.4013730\ttotal: 1.57s\tremaining: 1.04s\n",
      "800:\tlearn: 0.3768180\ttotal: 2.15s\tremaining: 536ms\n",
      "999:\tlearn: 0.3546522\ttotal: 2.76s\tremaining: 0us\n",
      "\n",
      "Entrenamiento\n",
      "Accuracy: 0.8220\n",
      "F1-score: 0.7202\n",
      "AUC-ROC: 0.9137\n",
      "\n",
      "Validación\n",
      "Accuracy: 0.7679\n",
      "F1-score: 0.6442\n",
      "AUC-ROC: 0.8491\n",
      "\n",
      "Prueba\n",
      "Accuracy: 0.7388\n",
      "F1-score: 0.6068\n",
      "AUC-ROC: 0.8210\n"
     ]
    }
   ],
   "source": [
    "# Entrenamiento del modelo\n",
    "cboost = CatBoostClassifier(verbose=200, auto_class_weights='Balanced', random_state=12345)\n",
    "cboost.fit(X_cb_train, y_cb_train, cat_features=cat_feature_indices)\n",
    "\n",
    "# Evaluación del modelo\n",
    "metrics_cboost = evaluate_model(cboost, X_cb_train, y_cb_train, X_cb_val, y_cb_val, X_cb_test, y_cb_test)"
   ]
  },
  {
   "cell_type": "markdown",
   "metadata": {},
   "source": [
    "En este primer entrenamiento de CatBoost, sin ajustes específicos de hiperparámetros, se observó un desempeño aceptable en términos de AUC-ROC tanto en validación como en prueba (0.85 y 0.82 respectivamente). Sin embargo, el F1-score muestra una caída significativa en el conjunto de prueba (0.55), lo que indica que el modelo tiene dificultades para equilibrar precisión y recall en la predicción de cancelaciones."
   ]
  },
  {
   "cell_type": "markdown",
   "metadata": {},
   "source": [
    "#### Evaluación y optimización del modelo CatBoost\n",
    "\n",
    "Al igual que con los modelos anteriores, realizaremos un análisis de importancia de características para identificar las variables más influyentes. \n",
    "\n",
    "A partir de esta información, entrenaremos nuevamente el modelo utilizando únicamente las variables más relevantes, con el objetivo de mejorar su rendimiento y reducir el posible sobreajuste observado anteriormente."
   ]
  },
  {
   "cell_type": "code",
   "execution_count": 99,
   "metadata": {},
   "outputs": [
    {
     "data": {
      "image/png": "[encoded data removed]",
      "text/plain": [
       "<Figure size 800x600 with 1 Axes>"
      ]
     },
     "metadata": {},
     "output_type": "display_data"
    }
   ],
   "source": [
    "# Obtener las importancias\n",
    "importances_cboost = cboost.feature_importances_\n",
    "feature_namescb = X_cb_train.columns\n",
    "sorted_idx_cb = importances_cboost.argsort()\n",
    "\n",
    "top_n = 15\n",
    "top_idx_cb = sorted_idx_cb[-top_n:]\n",
    "\n",
    "plt.figure(figsize=(8,6))\n",
    "plt.barh(feature_namescb[sorted_idx_cb], importances_cboost[sorted_idx_cb], color='plum')\n",
    "plt.xlabel(\"Importancia Catboost\")\n",
    "plt.title(\"Importancia de características Catboost\")\n",
    "plt.tight_layout()\n",
    "plt.show()"
   ]
  },
  {
   "cell_type": "markdown",
   "metadata": {},
   "source": [
    "### Selección de características más importantes para CatBoost\n",
    "\n",
    "Siguiendo la misma dinámica aplicada en modelos anteriores, realizaremos una nueva evaluación del modelo CatBoost utilizando únicamente las **7 características más influyentes** según el análisis de importancia de variables.\n",
    "\n",
    "En el gráfico anterior se observa una clara caída en la importancia relativa a partir de la octava variable, lo que justifica tomar este subconjunto como base para entrenar un modelo más compacto y eficiente. El objetivo es verificar si se puede mantener un buen rendimiento reduciendo la complejidad del modelo."
   ]
  },
  {
   "cell_type": "code",
   "execution_count": 97,
   "metadata": {},
   "outputs": [],
   "source": [
    "cbfeatures_top7 = ['total_charges','type', 'monthly_charges','internet_service','payment_method','paperless_billing']\n",
    "\n",
    "cb_features_train_top7 = X_cb_train[cbfeatures_top7]\n",
    "cb_features_val_top7 = X_cb_val[cbfeatures_top7]\n",
    "cb_features_test_top7 = X_cb_test[cbfeatures_top7]"
   ]
  },
  {
   "cell_type": "code",
   "execution_count": null,
   "metadata": {},
   "outputs": [],
   "source": [
    "# Entrenamiento del modelo\n",
    "cboost = CatBoostClassifier(verbose=200, auto_class_weights='Balanced', random_state=12345)\n",
    "cboost.fit(X_cb_train, y_cb_train, cat_features=cat_feature_indices)\n",
    "\n",
    "# Evaluación del modelo\n",
    "metrics_cboost = evaluate_model(cboost, X_cb_train, y_cb_train, X_cb_val, y_cb_val, X_cb_test, y_cb_test)"
   ]
  },
  {
   "cell_type": "code",
   "execution_count": null,
   "metadata": {},
   "outputs": [],
   "source": []
  },
  {
   "cell_type": "code",
   "execution_count": null,
   "metadata": {},
   "outputs": [],
   "source": []
  },
  {
   "cell_type": "code",
   "execution_count": null,
   "metadata": {},
   "outputs": [],
   "source": []
  }
 ],
 "metadata": {
  "kernelspec": {
   "display_name": "Python 3 (ipykernel)",
   "language": "python",
   "name": "python3"
  },
  "language_info": {
   "codemirror_mode": {
    "name": "ipython",
    "version": 3
   },
   "file_extension": ".py",
   "mimetype": "text/x-python",
   "name": "python",
   "nbconvert_exporter": "python",
   "pygments_lexer": "ipython3",
   "version": "3.9.23"
  }
 },
 "nbformat": 4,
 "nbformat_minor": 4
}
