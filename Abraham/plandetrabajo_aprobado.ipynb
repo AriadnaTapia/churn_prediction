{
 "cells": [
  {
   "cell_type": "markdown",
   "id": "21d22b2b-1682-4210-af4d-d9cbe498f2c8",
   "metadata": {},
   "source": [
    "Hola **Ariadna**!\n",
    "\n",
    "Soy **Patricio Requena** 👋. Es un placer ser el revisor de tu proyecto el día de hoy!\n",
    "\n",
    "Revisaré tu proyecto detenidamente con el objetivo de ayudarte a mejorar y perfeccionar tus habilidades. Durante mi revisión, identificaré áreas donde puedas hacer mejoras en tu código, señalando específicamente qué y cómo podrías ajustar para optimizar el rendimiento y la claridad de tu proyecto. Además, es importante para mí destacar los aspectos que has manejado excepcionalmente bien. Reconocer tus fortalezas te ayudará a entender qué técnicas y métodos están funcionando a tu favor y cómo puedes aplicarlos en futuras tareas. \n",
    "\n",
    "_**Recuerda que al final de este notebook encontrarás un comentario general de mi parte**_, empecemos!\n",
    "\n",
    "Encontrarás mis comentarios dentro de cajas verdes, amarillas o rojas, ⚠️ **por favor, no muevas, modifiques o borres mis comentarios** ⚠️:\n",
    "\n",
    "\n",
    "<div class=\"alert alert-block alert-success\">\n",
    "<b>Comentario del revisor</b> <a class=“tocSkip”></a>\n",
    "Si todo está perfecto.\n",
    "</div>\n",
    "\n",
    "<div class=\"alert alert-block alert-warning\">\n",
    "<b>Comentario del revisor</b> <a class=“tocSkip”></a>\n",
    "Si tu código está bien pero se puede mejorar o hay algún detalle que le hace falta.\n",
    "</div>\n",
    "\n",
    "<div class=\"alert alert-block alert-danger\">\n",
    "<b>Comentario del revisor</b> <a class=“tocSkip”></a>\n",
    "Si de pronto hace falta algo o existe algún problema con tu código o conclusiones.\n",
    "</div>\n",
    "\n",
    "Puedes responderme de esta forma:\n",
    "<div class=\"alert alert-block alert-info\">\n",
    "<b>Respuesta del estudiante</b> <a class=“tocSkip”></a>\n",
    "</div>"
   ]
  },
  {
   "cell_type": "markdown",
   "id": "f6fcf7a5-a9c0-4770-81e3-1fecc9e09e3b",
   "metadata": {},
   "source": [
    "# Proyecto Final DS_Telecom"
   ]
  },
  {
   "cell_type": "markdown",
   "id": "15389cf6-44ef-4367-b8c5-c5269a2620e4",
   "metadata": {},
   "source": [
    "## Introducción"
   ]
  },
  {
   "cell_type": "markdown",
   "id": "aa6defea-4685-4454-ad46-c1fd35c374b3",
   "metadata": {},
   "source": [
    "Se nos ha asignado el cliente Interconnect. El objetivo principal de este proyecto es desarrollar un modelo capaz de predecir la tasa de cancelación de sus clientes. No obstante, para alcanzar este objetivo, es necesario llevar a cabo una serie de tareas clave.\n",
    "\n",
    "\n",
    "Como primer instancia y para conocer la estructura y características generales del conjunto de datos, se realizará un análisis exploratorio preliminar mediante funciones como .info(), .head() y .describe()\n",
    "\n",
    "Con base en esta observación inicial, se plantean algunas preguntas clave que deberán resolverse durante el desarrollo, así como un plan de trabajo que servirá como guía para alcanzar el objetivo del proyecto."
   ]
  },
  {
   "cell_type": "markdown",
   "id": "a99bb0d5-21db-4055-a876-4e39c18e13aa",
   "metadata": {},
   "source": [
    "## Exploración de datos"
   ]
  },
  {
   "cell_type": "code",
   "execution_count": 4,
   "id": "05086f34-a06b-4a58-b9d2-ca531d451f53",
   "metadata": {},
   "outputs": [],
   "source": [
    "#Cargamos las bases de datos proporcionadas para el proyecto.\n",
    "df_contract = pd.read_csv('/datasets/final_provider/contract.csv')\n",
    "df_personal = pd.read_csv('/datasets/final_provider/personal.csv')\n",
    "df_internet = pd.read_csv('/datasets/final_provider/internet.csv')\n",
    "df_phone = pd.read_csv('/datasets/final_provider/phone.csv')"
   ]
  },
  {
   "cell_type": "code",
   "execution_count": 11,
   "id": "902178ac-0866-478f-9d53-b190279728ab",
   "metadata": {},
   "outputs": [],
   "source": [
    "import pandas as pd\n",
    "\n",
    "def first_analysis(df, name=\"DataFrame\"):\n",
    "    print(f\"\\n Análisis inicial del {name}\")\n",
    "    print(\"-\" * 40)\n",
    "    \n",
    "    print(\"\\n Visualización general de la información del dataset .info():\")\n",
    "    print(\"-\" * 20)\n",
    "    df.info()\n",
    "    \n",
    "    print(\"\\n.describe():\")\n",
    "    print(\"-\" * 20)\n",
    "    print(df.describe(include='all', datetime_is_numeric=True))\n",
    "    \n",
    "    print(\"\\n .head():\")\n",
    "    print(\"-\" * 20)\n",
    "    print(df.head())"
   ]
  },
  {
   "cell_type": "code",
   "execution_count": 12,
   "id": "0da19252-3b66-46bb-8f1a-cbaa30033534",
   "metadata": {},
   "outputs": [
    {
     "name": "stdout",
     "output_type": "stream",
     "text": [
      "\n",
      " Análisis inicial del Dataset Contratos\n",
      "----------------------------------------\n",
      "\n",
      " Visualización general de la información del dataset .info():\n",
      "--------------------\n",
      "<class 'pandas.core.frame.DataFrame'>\n",
      "RangeIndex: 7043 entries, 0 to 7042\n",
      "Data columns (total 8 columns):\n",
      " #   Column            Non-Null Count  Dtype  \n",
      "---  ------            --------------  -----  \n",
      " 0   customerID        7043 non-null   object \n",
      " 1   BeginDate         7043 non-null   object \n",
      " 2   EndDate           7043 non-null   object \n",
      " 3   Type              7043 non-null   object \n",
      " 4   PaperlessBilling  7043 non-null   object \n",
      " 5   PaymentMethod     7043 non-null   object \n",
      " 6   MonthlyCharges    7043 non-null   float64\n",
      " 7   TotalCharges      7043 non-null   object \n",
      "dtypes: float64(1), object(7)\n",
      "memory usage: 440.3+ KB\n",
      "\n",
      ".describe():\n",
      "--------------------\n",
      "        customerID   BeginDate EndDate            Type PaperlessBilling  \\\n",
      "count         7043        7043    7043            7043             7043   \n",
      "unique        7043          77       5               3                2   \n",
      "top     8734-DKSTZ  2014-02-01      No  Month-to-month              Yes   \n",
      "freq             1         366    5174            3875             4171   \n",
      "mean           NaN         NaN     NaN             NaN              NaN   \n",
      "std            NaN         NaN     NaN             NaN              NaN   \n",
      "min            NaN         NaN     NaN             NaN              NaN   \n",
      "25%            NaN         NaN     NaN             NaN              NaN   \n",
      "50%            NaN         NaN     NaN             NaN              NaN   \n",
      "75%            NaN         NaN     NaN             NaN              NaN   \n",
      "max            NaN         NaN     NaN             NaN              NaN   \n",
      "\n",
      "           PaymentMethod  MonthlyCharges TotalCharges  \n",
      "count               7043     7043.000000         7043  \n",
      "unique                 4             NaN         6531  \n",
      "top     Electronic check             NaN         20.2  \n",
      "freq                2365             NaN           11  \n",
      "mean                 NaN       64.761692          NaN  \n",
      "std                  NaN       30.090047          NaN  \n",
      "min                  NaN       18.250000          NaN  \n",
      "25%                  NaN       35.500000          NaN  \n",
      "50%                  NaN       70.350000          NaN  \n",
      "75%                  NaN       89.850000          NaN  \n",
      "max                  NaN      118.750000          NaN  \n",
      "\n",
      " .head():\n",
      "--------------------\n",
      "   customerID   BeginDate              EndDate            Type  \\\n",
      "0  7590-VHVEG  2020-01-01                   No  Month-to-month   \n",
      "1  5575-GNVDE  2017-04-01                   No        One year   \n",
      "2  3668-QPYBK  2019-10-01  2019-12-01 00:00:00  Month-to-month   \n",
      "3  7795-CFOCW  2016-05-01                   No        One year   \n",
      "4  9237-HQITU  2019-09-01  2019-11-01 00:00:00  Month-to-month   \n",
      "\n",
      "  PaperlessBilling              PaymentMethod  MonthlyCharges TotalCharges  \n",
      "0              Yes           Electronic check           29.85        29.85  \n",
      "1               No               Mailed check           56.95       1889.5  \n",
      "2              Yes               Mailed check           53.85       108.15  \n",
      "3               No  Bank transfer (automatic)           42.30      1840.75  \n",
      "4              Yes           Electronic check           70.70       151.65  \n"
     ]
    }
   ],
   "source": [
    "first_analysis(df_contract, \"Dataset Contratos\")"
   ]
  },
  {
   "cell_type": "code",
   "execution_count": 14,
   "id": "0aea4372-ddec-4aa1-b056-3f41a02972a7",
   "metadata": {},
   "outputs": [
    {
     "name": "stdout",
     "output_type": "stream",
     "text": [
      "\n",
      " Análisis inicial del Dataset de Información Personal de los clientes\n",
      "----------------------------------------\n",
      "\n",
      " Visualización general de la información del dataset .info():\n",
      "--------------------\n",
      "<class 'pandas.core.frame.DataFrame'>\n",
      "RangeIndex: 7043 entries, 0 to 7042\n",
      "Data columns (total 5 columns):\n",
      " #   Column         Non-Null Count  Dtype \n",
      "---  ------         --------------  ----- \n",
      " 0   customerID     7043 non-null   object\n",
      " 1   gender         7043 non-null   object\n",
      " 2   SeniorCitizen  7043 non-null   int64 \n",
      " 3   Partner        7043 non-null   object\n",
      " 4   Dependents     7043 non-null   object\n",
      "dtypes: int64(1), object(4)\n",
      "memory usage: 275.2+ KB\n",
      "\n",
      ".describe():\n",
      "--------------------\n",
      "        customerID gender  SeniorCitizen Partner Dependents\n",
      "count         7043   7043    7043.000000    7043       7043\n",
      "unique        7043      2            NaN       2          2\n",
      "top     8734-DKSTZ   Male            NaN      No         No\n",
      "freq             1   3555            NaN    3641       4933\n",
      "mean           NaN    NaN       0.162147     NaN        NaN\n",
      "std            NaN    NaN       0.368612     NaN        NaN\n",
      "min            NaN    NaN       0.000000     NaN        NaN\n",
      "25%            NaN    NaN       0.000000     NaN        NaN\n",
      "50%            NaN    NaN       0.000000     NaN        NaN\n",
      "75%            NaN    NaN       0.000000     NaN        NaN\n",
      "max            NaN    NaN       1.000000     NaN        NaN\n",
      "\n",
      " .head():\n",
      "--------------------\n",
      "   customerID  gender  SeniorCitizen Partner Dependents\n",
      "0  7590-VHVEG  Female              0     Yes         No\n",
      "1  5575-GNVDE    Male              0      No         No\n",
      "2  3668-QPYBK    Male              0      No         No\n",
      "3  7795-CFOCW    Male              0      No         No\n",
      "4  9237-HQITU  Female              0      No         No\n"
     ]
    }
   ],
   "source": [
    "first_analysis(df_personal, \"Dataset de Información Personal de los clientes\")"
   ]
  },
  {
   "cell_type": "code",
   "execution_count": 15,
   "id": "f6543a4e-9ad5-4c7b-a88a-6c87abdb8f29",
   "metadata": {},
   "outputs": [
    {
     "name": "stdout",
     "output_type": "stream",
     "text": [
      "\n",
      " Análisis inicial del Dataset de planes de internet\n",
      "----------------------------------------\n",
      "\n",
      " Visualización general de la información del dataset .info():\n",
      "--------------------\n",
      "<class 'pandas.core.frame.DataFrame'>\n",
      "RangeIndex: 5517 entries, 0 to 5516\n",
      "Data columns (total 8 columns):\n",
      " #   Column            Non-Null Count  Dtype \n",
      "---  ------            --------------  ----- \n",
      " 0   customerID        5517 non-null   object\n",
      " 1   InternetService   5517 non-null   object\n",
      " 2   OnlineSecurity    5517 non-null   object\n",
      " 3   OnlineBackup      5517 non-null   object\n",
      " 4   DeviceProtection  5517 non-null   object\n",
      " 5   TechSupport       5517 non-null   object\n",
      " 6   StreamingTV       5517 non-null   object\n",
      " 7   StreamingMovies   5517 non-null   object\n",
      "dtypes: object(8)\n",
      "memory usage: 344.9+ KB\n",
      "\n",
      ".describe():\n",
      "--------------------\n",
      "        customerID InternetService OnlineSecurity OnlineBackup  \\\n",
      "count         5517            5517           5517         5517   \n",
      "unique        5517               2              2            2   \n",
      "top     8734-DKSTZ     Fiber optic             No           No   \n",
      "freq             1            3096           3498         3088   \n",
      "\n",
      "       DeviceProtection TechSupport StreamingTV StreamingMovies  \n",
      "count              5517        5517        5517            5517  \n",
      "unique                2           2           2               2  \n",
      "top                  No          No          No              No  \n",
      "freq               3095        3473        2810            2785  \n",
      "\n",
      " .head():\n",
      "--------------------\n",
      "   customerID InternetService OnlineSecurity OnlineBackup DeviceProtection  \\\n",
      "0  7590-VHVEG             DSL             No          Yes               No   \n",
      "1  5575-GNVDE             DSL            Yes           No              Yes   \n",
      "2  3668-QPYBK             DSL            Yes          Yes               No   \n",
      "3  7795-CFOCW             DSL            Yes           No              Yes   \n",
      "4  9237-HQITU     Fiber optic             No           No               No   \n",
      "\n",
      "  TechSupport StreamingTV StreamingMovies  \n",
      "0          No          No              No  \n",
      "1          No          No              No  \n",
      "2          No          No              No  \n",
      "3         Yes          No              No  \n",
      "4          No          No              No  \n"
     ]
    }
   ],
   "source": [
    "first_analysis(df_internet, \"Dataset de planes de internet\")"
   ]
  },
  {
   "cell_type": "code",
   "execution_count": 16,
   "id": "6bc5b51b-c629-465d-953b-35cd53f35f2e",
   "metadata": {},
   "outputs": [
    {
     "name": "stdout",
     "output_type": "stream",
     "text": [
      "\n",
      " Análisis inicial del Dataset de planes de telefono\n",
      "----------------------------------------\n",
      "\n",
      " Visualización general de la información del dataset .info():\n",
      "--------------------\n",
      "<class 'pandas.core.frame.DataFrame'>\n",
      "RangeIndex: 6361 entries, 0 to 6360\n",
      "Data columns (total 2 columns):\n",
      " #   Column         Non-Null Count  Dtype \n",
      "---  ------         --------------  ----- \n",
      " 0   customerID     6361 non-null   object\n",
      " 1   MultipleLines  6361 non-null   object\n",
      "dtypes: object(2)\n",
      "memory usage: 99.5+ KB\n",
      "\n",
      ".describe():\n",
      "--------------------\n",
      "        customerID MultipleLines\n",
      "count         6361          6361\n",
      "unique        6361             2\n",
      "top     8734-DKSTZ            No\n",
      "freq             1          3390\n",
      "\n",
      " .head():\n",
      "--------------------\n",
      "   customerID MultipleLines\n",
      "0  5575-GNVDE            No\n",
      "1  3668-QPYBK            No\n",
      "2  9237-HQITU            No\n",
      "3  9305-CDSKC           Yes\n",
      "4  1452-KIOVK           Yes\n"
     ]
    }
   ],
   "source": [
    "first_analysis(df_phone, \"Dataset de planes de telefono\")"
   ]
  },
  {
   "cell_type": "markdown",
   "id": "175f3d51-39da-4fa4-9aea-885bdd716cd8",
   "metadata": {},
   "source": [
    "## Preguntas aclaratorias\n",
    "\n",
    "De acuerdo con las observaciones iniciales y considerando el objetivo del proyecto, se plantean las siguientes preguntas clave para orientar el desarrollo:\n",
    "\n",
    "¿Contamos con libertad para imputar los valores nulos o faltantes, o existe alguna política establecida al respecto?\n",
    "\n",
    "¿Se requiere aplicar algún tratamiento específico a las características (por ejemplo, codificación, escalado, transformación)?\n",
    "\n",
    "¿Es necesario realizar un análisis del equilibrio de clases antes de entrenar los modelos?\n",
    "\n",
    "¿Se espera que se analicen más de tres modelos, o existe un límite/recomendación sobre la cantidad a evaluar?\n",
    "\n",
    "Aunque se ha establecido AUC-ROC como métrica prioritaria, ¿existe un umbral de desempeño mínimo considerado aceptable para el modelo?"
   ]
  },
  {
   "cell_type": "markdown",
   "id": "79503438-9321-4d39-b495-111542b04f7d",
   "metadata": {},
   "source": [
    "## Plan de trabajo\n",
    "\n",
    "A continuación, se presenta un plan general para abordar la tarea de modelado de cancelación de clientes para el cliente *Interconnect*. Este incluye las etapas clave del desarrollo, junto con una breve descripción de cada una:\n",
    "\n",
    "1. **Introducción**  \n",
    "   Se describirá brevemente el objetivo del proyecto, el tipo de problema (clasificación binaria) y la tarea de negocio: predecir si un cliente cancelará su servicio, a partir de variables contractuales, de servicio y de facturación.\n",
    "\n",
    "2. **Análisis exploratorio de datos (EDA)**  \n",
    "   Se realizará la carga de los cuatro conjuntos de datos proporcionados y se examinarán sus estructuras para entender sus características generales.  \n",
    "   Posteriormente, se identificarán valores nulos o inconsistencias y se analizará la distribución de la variable objetivo (`EndDate`) para confirmar el desbalance de clases.  \n",
    "   En esta etapa también se limpiarán y corregirán los datos según los hallazgos y se generará un *data master* integrando los distintos conjuntos.\n",
    "\n",
    "3. **Preprocesamiento de datos**  \n",
    "   Se transformarán las variables categóricas usando codificación (como One-Hot Encoding) y se escalarán las variables numéricas según sea necesario.  \n",
    "   Además, se verificará y documentará el equilibrio entre clases. Finalmente, se dividirá el conjunto de datos en entrenamiento, validación y prueba.\n",
    "\n",
    "4. **Entrenamiento y evaluación de modelos**  \n",
    "   Se entrenarán diferentes modelos de clasificación.\n",
    "   Se realizará ajuste de hiperparámetros en los modelos seleccionados. Todos los modelos se evaluarán utilizando las métricas AUC-ROC (prioritaria), F1-score y exactitud, tanto en validación como en prueba.\n",
    "\n",
    "5. **Selección del mejor modelo y conclusiones**  \n",
    "   Se seleccionará el modelo con mayor rendimiento en AUC-ROC. Se verificará que este resultado sea consistente con otras métricas clave. Finalmente, se redactará una conclusión basada en los hallazgos del análisis y el comportamiento de los modelos entrenados.\n"
   ]
  },
  {
   "cell_type": "markdown",
   "id": "75208683-659c-4761-b91b-1c728c1a1a78",
   "metadata": {},
   "source": [
    "<div class=\"alert alert-block alert-success\">\n",
    "<b>Comentario general (1ra Iteracion)</b> <a class=“tocSkip”></a>\n",
    "\n",
    "Buen trabajo desarrollando el plan de trabajo para tu proyecto Final!\n",
    "    \n",
    "Recuerda que debes tener un EDA claro con las gráficas y conclusiones adecuadas de cada una así cómo revisar por el balance de las clases a predecir y de ser necesario modifica los parámetros de los modelos para manejar el desbalance o aplica algún método de balanceo cómo oversample o undersample, también, procura evaluar las predicciones de tus modelos con el conjunto de prueba y de entrenamiento, si tienes un valor alto de tus métricas (f1-score, accuracy, etc) en el conjunto de entrenamiento pero bajo en el de prueba quiere decir que tu modelo se está sobre ajustando y debes modificar su entrenamiento para mitigar esto, te recomendaría tener cómo umbral un 0.75 de f1-score para saber si tu modelo es bueno con las predicciones, también puedes hacer una prueba de cordura con un DummyClassifier. Recuerda que debes revisar si el modelo a crear es de regresión o clasificación.\n",
    "     \n",
    "Saludos!\n",
    "</div>"
   ]
  }
 ],
 "metadata": {
  "kernelspec": {
   "display_name": "Python 3 (ipykernel)",
   "language": "python",
   "name": "python3"
  },
  "language_info": {
   "codemirror_mode": {
    "name": "ipython",
    "version": 3
   },
   "file_extension": ".py",
   "mimetype": "text/x-python",
   "name": "python",
   "nbconvert_exporter": "python",
   "pygments_lexer": "ipython3",
   "version": "3.9.23"
  }
 },
 "nbformat": 4,
 "nbformat_minor": 5
}
